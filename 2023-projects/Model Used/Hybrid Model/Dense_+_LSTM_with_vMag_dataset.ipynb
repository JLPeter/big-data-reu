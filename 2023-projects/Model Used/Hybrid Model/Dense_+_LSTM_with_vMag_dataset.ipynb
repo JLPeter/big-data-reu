{
  "cells": [
    {
      "cell_type": "markdown",
      "metadata": {
        "id": "LLBbMrjmpDOK"
      },
      "source": [
        "# Preprocess only\n"
      ]
    },
    {
      "cell_type": "code",
      "execution_count": null,
      "metadata": {
        "colab": {
          "base_uri": "https://localhost:8080/"
        },
        "id": "Xqe9ZBBXKttI",
        "outputId": "84b8aeff-7767-4cbd-c19d-ac90cf887e49"
      },
      "outputs": [
        {
          "output_type": "stream",
          "name": "stdout",
          "text": [
            "Mounted at /content/drive\n"
          ]
        }
      ],
      "source": [
        "from google.colab import drive\n",
        "drive.mount('/content/drive')\n",
        "import sys"
      ]
    },
    {
      "cell_type": "code",
      "execution_count": null,
      "metadata": {
        "colab": {
          "base_uri": "https://localhost:8080/"
        },
        "id": "l7MXnaEwpGe5",
        "outputId": "26577f2a-fffd-4331-c120-904aeb89a84b"
      },
      "outputs": [
        {
          "output_type": "stream",
          "name": "stdout",
          "text": [
            "Starting imports\n",
            "Starting timer.\n",
            "Imports Complete\n"
          ]
        }
      ],
      "source": [
        "#imports\n",
        "print(\"Starting imports\")\n",
        "#basics\n",
        "import time\n",
        "print(\"Starting timer.\")\n",
        "startTime = time.time()\n",
        "\n",
        "import numpy as np\n",
        "import pandas as pd\n",
        "import datetime\n",
        "import matplotlib.pyplot as plt\n",
        "\n",
        "#cleaning\n",
        "from sklearn.preprocessing import StandardScaler\n",
        "from sklearn.model_selection import train_test_split\n",
        "from sklearn.preprocessing import MinMaxScaler\n",
        "\n",
        "print(\"Imports Complete\")"
      ]
    },
    {
      "cell_type": "markdown",
      "metadata": {
        "id": "dmwL5liG52EI"
      },
      "source": [
        "## Get Data"
      ]
    },
    {
      "cell_type": "code",
      "execution_count": null,
      "metadata": {
        "id": "q6tHhIxwpGnu"
      },
      "outputs": [],
      "source": [
        "#paths\n",
        "mainPath = '/content/drive/MyDrive/Data_derivedVelocity/'\n",
        "data_full_ = mainPath + 'data_full_vMag.csv'\n",
        "data_1201_ = mainPath + 'd1201_vMag.csv'"
      ]
    },
    {
      "cell_type": "code",
      "execution_count": null,
      "metadata": {
        "id": "ItKd5FYdum2N",
        "colab": {
          "base_uri": "https://localhost:8080/"
        },
        "outputId": "074c51af-0585-4d0e-f85b-731a418346a7"
      },
      "outputs": [
        {
          "output_type": "stream",
          "name": "stdout",
          "text": [
            "Reading Data In_\n",
            "Data read in completed.\n"
          ]
        }
      ],
      "source": [
        "#read data in\n",
        "print(\"Reading Data In_\")\n",
        "df_all = pd.read_csv(data_full_)\n",
        "\n",
        "df1201 = pd.read_csv(data_1201_)\n",
        "print(\"Data read in completed.\")"
      ]
    },
    {
      "cell_type": "markdown",
      "metadata": {
        "id": "X2Ox7DBL55V_"
      },
      "source": [
        "## Create functions from Homayra"
      ]
    },
    {
      "cell_type": "code",
      "execution_count": null,
      "metadata": {
        "id": "lWR-_GS1ZUKL",
        "colab": {
          "base_uri": "https://localhost:8080/"
        },
        "outputId": "7d8d568b-5df2-4600-a91e-0c139f25b595"
      },
      "outputs": [
        {
          "output_type": "stream",
          "name": "stdout",
          "text": [
            "Establishing RMSPE functions.\n"
          ]
        }
      ],
      "source": [
        "print(\"Establishing RMSPE functions.\")"
      ]
    },
    {
      "cell_type": "code",
      "execution_count": null,
      "metadata": {
        "id": "G73ihBVVpGjN"
      },
      "outputs": [],
      "source": [
        "def rmspe(y_true, y_pred):\n",
        "    return np.sqrt(np.nanmean(np.square(((y_true - y_pred) / y_true))))*100"
      ]
    },
    {
      "cell_type": "code",
      "execution_count": null,
      "metadata": {
        "id": "HWNov_aZpGlX"
      },
      "outputs": [],
      "source": [
        "def rmspe_1(y_true, y_pred):\n",
        "    return np.sqrt(np.nanmean(np.square(y_true - y_pred) / y_true))*100"
      ]
    },
    {
      "cell_type": "code",
      "execution_count": null,
      "metadata": {
        "id": "cLAAj5qJZZp-",
        "colab": {
          "base_uri": "https://localhost:8080/"
        },
        "outputId": "2c6973b3-f36a-40bc-faad-119cdaea081a"
      },
      "outputs": [
        {
          "output_type": "stream",
          "name": "stdout",
          "text": [
            "Function established.\n"
          ]
        }
      ],
      "source": [
        "print(\"Function established.\")"
      ]
    },
    {
      "cell_type": "markdown",
      "metadata": {
        "id": "czPqgSZ25_Ps"
      },
      "source": [
        "## Clean Data/Prepare Data"
      ]
    },
    {
      "cell_type": "code",
      "source": [
        "print(\"Begin data cleaning.\")\n",
        "\n",
        "df1201 = df1201.drop(columns = ['Unnamed: 0.1'])\n",
        "df_all = df_all.drop(columns = ['Unnamed: 0.1'])\n",
        "\n",
        "#1201 drop location variables\n",
        "df1201_feats = df1201.drop(columns = ['surf_x', 'surf_y'])\n",
        "\n",
        "#df_all drop location variables\n",
        "df_all_feats_target = df_all.drop(columns = ['surf_x', 'surf_y', 'track_bed_x', 'track_bed_y'])\n",
        "\n",
        "#1201 order to align with df_all\n",
        "df1201_feats_ordered = df1201_feats[['surf_vx', 'surf_vy', 'surf_elv', 'surf_dhdt', 'surf_SMB', 'v_mag']]\n",
        "\n",
        "#set the feature variables to our independent characteristic variables\n",
        "feature_cols = ['surf_vx', 'surf_vy', 'surf_elv', 'surf_dhdt', 'surf_SMB','v_mag']\n",
        "\n",
        "#split into X and Y\n",
        "X_given = df_all_feats_target[feature_cols]\n",
        "Y_given = df_all_feats_target['track_bed_target']\n",
        "\n",
        "#combine all known X and validation 1201 X for standardizing\n",
        "X_all = np.concatenate((X_given, df1201_feats_ordered))\n",
        "#make y into a dataframe to be standardized\n",
        "Y_all = pd.DataFrame(Y_given)\n",
        "\n",
        "print(\"Data cleaned.\\nScaling beginning.\")\n",
        "\n",
        "#standardize\n",
        "#Not setting feature range, let it be automatically determined\n",
        "scaler_X = StandardScaler()\n",
        "scaler_Y = StandardScaler()\n",
        "\n",
        "X_all_std = scaler_X.fit_transform(X_all)\n",
        "Y_all_std = scaler_Y.fit_transform(Y_all)\n",
        "\n",
        "#can alternatively use the MinMaxScaler\n",
        "print(\"Scaling Complete.\\nSplitting Data Beginning.\")\n",
        "\n",
        "#split of 1201 data from X_all_std\n",
        "X_non1201 = X_all_std[0:632706,:]\n",
        "X_1201_data = X_all_std[632706:, :]\n",
        "\n",
        "# #generate a randomseed for training and testing split\n",
        "# generated = np.random.randint(0,1000,1)[0]\n",
        "# print(f\"Generated random split for train-test: {generated}\")\n",
        "generated = 168\n",
        "\n",
        "#set the train-test split\n",
        "#60-40 showed the most promising from previous research and additional testing\n",
        "train_size_ = .6\n",
        "#split training and test from df_all\n",
        "x_train, x_test, y_train, y_test = train_test_split(X_non1201, Y_all_std, train_size = train_size_, test_size = 1-train_size_, random_state = generated)\n",
        "\n",
        "#get validation data\n",
        "val_split = .2 #can change as needed\n",
        "#x_train, x_val, y_train, y_val = train_test_split(x_train, y_train, train_size = 1-val_split, test_size = val_split, random_state = generated)\n",
        "\n",
        "print(f\"Data train-split complete with: {train_size_ * 100}% training, {(1- train_size_) * 100}% testing, {val_split*100}% validation\")"
      ],
      "metadata": {
        "id": "iVF9u0eHx6Hf",
        "colab": {
          "base_uri": "https://localhost:8080/"
        },
        "outputId": "546b21b0-4b5d-4ef1-e68d-e9f8631bcd1c"
      },
      "execution_count": null,
      "outputs": [
        {
          "output_type": "stream",
          "name": "stdout",
          "text": [
            "Begin data cleaning.\n",
            "Data cleaned.\n",
            "Scaling beginning.\n",
            "Scaling Complete.\n",
            "Splitting Data Beginning.\n",
            "Data train-split complete with: 60.0% training, 40.0% testing, 20.0% validation\n"
          ]
        }
      ]
    },
    {
      "cell_type": "markdown",
      "metadata": {
        "id": "jmn7g_Dn6Fam"
      },
      "source": [
        "## Modeling Here"
      ]
    },
    {
      "cell_type": "code",
      "execution_count": null,
      "metadata": {
        "id": "PWni0zC6DClG"
      },
      "outputs": [],
      "source": [
        "import keras,os\n",
        "from keras.models import Sequential\n",
        "from keras.models import Model\n",
        "from keras.layers import Dense, Conv2D, MaxPool2D , Flatten, Dropout, AveragePooling2D, LSTM, Activation, ConvLSTM2D, TimeDistributed, Input, Reshape\n",
        "from keras.layers import UpSampling1D, Conv2DTranspose, UpSampling2D, BatchNormalization\n",
        "from tensorflow.keras import callbacks\n",
        "import numpy as np\n",
        "\n",
        "def get_model(input_dims):\n",
        "  input_batch = Input(shape = input_dims)\n",
        "\n",
        "  conv_model = TimeDistributed(Dense(128, activation=\"sigmoid\"), name='ConvL1')(input_batch)\n",
        "  conv_model = TimeDistributed(BatchNormalization())(conv_model)\n",
        "  conv_model = TimeDistributed(Dense(128, activation=\"sigmoid\"), name='ConvL2' )(conv_model)\n",
        "  conv_model = TimeDistributed(BatchNormalization())(conv_model)\n",
        "  conv_model = TimeDistributed(Dropout(0.5))(conv_model)\n",
        "  conv_model = TimeDistributed(Dense(64, activation=\"sigmoid\"), name='ConvL3' )(conv_model)\n",
        "  conv_model = TimeDistributed(BatchNormalization())(conv_model)\n",
        "  conv_model = TimeDistributed(Dense(64, activation=\"sigmoid\"), name='ConvL4' )(conv_model)\n",
        "  conv_model = TimeDistributed(BatchNormalization())(conv_model)\n",
        "  conv_model = TimeDistributed(Dropout(0.5))(conv_model)\n",
        "  conv_model = TimeDistributed(Dense(32, activation=\"sigmoid\"), name='ConvL5' )(conv_model)\n",
        "  conv_model = TimeDistributed(BatchNormalization())(conv_model)\n",
        "  conv_model = TimeDistributed(Dense(32, activation=\"sigmoid\"), name='ConvL6' )(conv_model)\n",
        "  conv_model = TimeDistributed(BatchNormalization())(conv_model)\n",
        "  conv_model = TimeDistributed(Dropout(0.5))(conv_model)\n",
        "\n",
        "  lstm_network = LSTM(64, return_sequences=True)(conv_model)\n",
        "  lstm_network = keras.layers.LSTM(32, return_sequences=False)(lstm_network)\n",
        "  lstm_network = Dropout(0.5)(lstm_network)\n",
        "  lstm_network = keras.layers.Dense(32, activation='sigmoid', name='Dense1')(lstm_network)\n",
        "  lstm_network = keras.layers.Dense(1, activation='linear', name='Dense2')(lstm_network)\n",
        "\n",
        "  encoder = Model(inputs=input_batch, outputs=lstm_network, name='encoder')\n",
        "\n",
        "  return encoder"
      ]
    },
    {
      "cell_type": "code",
      "source": [
        "data_train_X_lstm = x_train.reshape(x_train.shape[0], 1, x_train.shape[1])\n",
        "data_train_X_lstm.shape"
      ],
      "metadata": {
        "id": "kfBSooqTt__o"
      },
      "execution_count": null,
      "outputs": []
    },
    {
      "cell_type": "code",
      "source": [
        "data_test_X_lstm = x_test.reshape(x_test.shape[0], 1, x_test.shape[1])\n",
        "data_test_X_lstm.shape"
      ],
      "metadata": {
        "id": "WfNm7EY3uvpo",
        "colab": {
          "base_uri": "https://localhost:8080/"
        },
        "outputId": "44dc4dbc-62c3-4d0f-bbba-08a30cd3599f"
      },
      "execution_count": null,
      "outputs": [
        {
          "output_type": "execute_result",
          "data": {
            "text/plain": [
              "(253083, 1, 6)"
            ]
          },
          "metadata": {},
          "execution_count": 12
        }
      ]
    },
    {
      "cell_type": "code",
      "source": [
        "data_1201_X_lstm = X_1201_data.reshape(X_1201_data.shape[0], 1, X_1201_data.shape[1])\n",
        "data_1201_X_lstm.shape"
      ],
      "metadata": {
        "id": "uvhXgxCeux2p",
        "colab": {
          "base_uri": "https://localhost:8080/"
        },
        "outputId": "af0370ed-3138-4bb4-b082-dfa8d25ee39b"
      },
      "execution_count": null,
      "outputs": [
        {
          "output_type": "execute_result",
          "data": {
            "text/plain": [
              "(1442401, 1, 6)"
            ]
          },
          "metadata": {},
          "execution_count": 13
        }
      ]
    },
    {
      "cell_type": "code",
      "source": [
        "y_train"
      ],
      "metadata": {
        "id": "UQoRYGWAwWgL",
        "colab": {
          "base_uri": "https://localhost:8080/"
        },
        "outputId": "a6d05bd0-4dfe-48d5-f8f4-3441381d0fe2"
      },
      "execution_count": null,
      "outputs": [
        {
          "output_type": "execute_result",
          "data": {
            "text/plain": [
              "array([[-0.69413002],\n",
              "       [-0.16949313],\n",
              "       [-0.583128  ],\n",
              "       ...,\n",
              "       [ 0.29701978],\n",
              "       [ 1.5181232 ],\n",
              "       [ 0.87639597]])"
            ]
          },
          "metadata": {},
          "execution_count": 14
        }
      ]
    },
    {
      "cell_type": "code",
      "source": [
        "y_train.shape"
      ],
      "metadata": {
        "id": "c_D3_9HNwYKI",
        "colab": {
          "base_uri": "https://localhost:8080/"
        },
        "outputId": "cdd33afa-cbb6-48d2-e7b7-fc08b3c8c4a2"
      },
      "execution_count": null,
      "outputs": [
        {
          "output_type": "execute_result",
          "data": {
            "text/plain": [
              "(379623, 1)"
            ]
          },
          "metadata": {},
          "execution_count": 15
        }
      ]
    },
    {
      "cell_type": "code",
      "execution_count": null,
      "metadata": {
        "id": "3b8N6kImDClG",
        "colab": {
          "base_uri": "https://localhost:8080/"
        },
        "outputId": "a42b0f90-6206-4bbf-ed2b-51ddd2c587ad"
      },
      "outputs": [
        {
          "output_type": "stream",
          "name": "stdout",
          "text": [
            "Model: \"encoder\"\n",
            "_________________________________________________________________\n",
            " Layer (type)                Output Shape              Param #   \n",
            "=================================================================\n",
            " input_1 (InputLayer)        [(None, 1, 6)]            0         \n",
            "                                                                 \n",
            " ConvL1 (TimeDistributed)    (None, 1, 128)            896       \n",
            "                                                                 \n",
            " time_distributed (TimeDistr  (None, 1, 128)           512       \n",
            " ibuted)                                                         \n",
            "                                                                 \n",
            " ConvL2 (TimeDistributed)    (None, 1, 128)            16512     \n",
            "                                                                 \n",
            " time_distributed_1 (TimeDis  (None, 1, 128)           512       \n",
            " tributed)                                                       \n",
            "                                                                 \n",
            " time_distributed_2 (TimeDis  (None, 1, 128)           0         \n",
            " tributed)                                                       \n",
            "                                                                 \n",
            " ConvL3 (TimeDistributed)    (None, 1, 64)             8256      \n",
            "                                                                 \n",
            " time_distributed_3 (TimeDis  (None, 1, 64)            256       \n",
            " tributed)                                                       \n",
            "                                                                 \n",
            " ConvL4 (TimeDistributed)    (None, 1, 64)             4160      \n",
            "                                                                 \n",
            " time_distributed_4 (TimeDis  (None, 1, 64)            256       \n",
            " tributed)                                                       \n",
            "                                                                 \n",
            " time_distributed_5 (TimeDis  (None, 1, 64)            0         \n",
            " tributed)                                                       \n",
            "                                                                 \n",
            " ConvL5 (TimeDistributed)    (None, 1, 32)             2080      \n",
            "                                                                 \n",
            " time_distributed_6 (TimeDis  (None, 1, 32)            128       \n",
            " tributed)                                                       \n",
            "                                                                 \n",
            " ConvL6 (TimeDistributed)    (None, 1, 32)             1056      \n",
            "                                                                 \n",
            " time_distributed_7 (TimeDis  (None, 1, 32)            128       \n",
            " tributed)                                                       \n",
            "                                                                 \n",
            " time_distributed_8 (TimeDis  (None, 1, 32)            0         \n",
            " tributed)                                                       \n",
            "                                                                 \n",
            " lstm (LSTM)                 (None, 1, 64)             24832     \n",
            "                                                                 \n",
            " lstm_1 (LSTM)               (None, 32)                12416     \n",
            "                                                                 \n",
            " dropout_3 (Dropout)         (None, 32)                0         \n",
            "                                                                 \n",
            " Dense1 (Dense)              (None, 32)                1056      \n",
            "                                                                 \n",
            " Dense2 (Dense)              (None, 1)                 33        \n",
            "                                                                 \n",
            "=================================================================\n",
            "Total params: 73,089\n",
            "Trainable params: 72,193\n",
            "Non-trainable params: 896\n",
            "_________________________________________________________________\n",
            "Epoch 1/200\n",
            "54/54 [==============================] - 19s 175ms/step - loss: 0.9655 - val_loss: 0.9910\n",
            "Epoch 2/200\n",
            "54/54 [==============================] - 9s 165ms/step - loss: 0.6873 - val_loss: 0.9867\n",
            "Epoch 3/200\n",
            "54/54 [==============================] - 11s 211ms/step - loss: 0.5824 - val_loss: 1.0287\n",
            "Epoch 4/200\n",
            "54/54 [==============================] - 11s 206ms/step - loss: 0.5473 - val_loss: 1.1479\n",
            "Epoch 5/200\n",
            "54/54 [==============================] - 8s 149ms/step - loss: 0.5227 - val_loss: 1.3105\n",
            "Epoch 6/200\n",
            "54/54 [==============================] - 10s 187ms/step - loss: 0.5076 - val_loss: 1.3567\n",
            "Epoch 7/200\n",
            "54/54 [==============================] - 8s 145ms/step - loss: 0.4941 - val_loss: 1.3535\n",
            "Epoch 8/200\n",
            "54/54 [==============================] - 9s 174ms/step - loss: 0.4844 - val_loss: 1.2255\n",
            "Epoch 9/200\n",
            "54/54 [==============================] - 11s 197ms/step - loss: 0.4760 - val_loss: 1.0329\n",
            "Epoch 10/200\n",
            "54/54 [==============================] - 7s 139ms/step - loss: 0.4691 - val_loss: 0.8345\n",
            "Epoch 11/200\n",
            "54/54 [==============================] - 9s 175ms/step - loss: 0.4606 - val_loss: 0.6855\n",
            "Epoch 12/200\n",
            "54/54 [==============================] - 8s 149ms/step - loss: 0.4554 - val_loss: 0.5794\n",
            "Epoch 13/200\n",
            "54/54 [==============================] - 9s 165ms/step - loss: 0.4499 - val_loss: 0.4903\n",
            "Epoch 14/200\n",
            "54/54 [==============================] - 9s 174ms/step - loss: 0.4452 - val_loss: 0.4823\n",
            "Epoch 15/200\n",
            "54/54 [==============================] - 7s 139ms/step - loss: 0.4363 - val_loss: 0.4534\n",
            "Epoch 16/200\n",
            "54/54 [==============================] - 9s 175ms/step - loss: 0.4332 - val_loss: 0.4507\n",
            "Epoch 17/200\n",
            "54/54 [==============================] - 7s 139ms/step - loss: 0.4262 - val_loss: 0.4155\n",
            "Epoch 18/200\n",
            "54/54 [==============================] - 10s 189ms/step - loss: 0.4234 - val_loss: 0.4282\n",
            "Epoch 19/200\n",
            "54/54 [==============================] - 10s 189ms/step - loss: 0.4197 - val_loss: 0.4121\n",
            "Epoch 20/200\n",
            "54/54 [==============================] - 8s 140ms/step - loss: 0.4150 - val_loss: 0.3991\n",
            "Epoch 21/200\n",
            "54/54 [==============================] - 9s 174ms/step - loss: 0.4103 - val_loss: 0.4057\n",
            "Epoch 22/200\n",
            "54/54 [==============================] - 8s 146ms/step - loss: 0.4083 - val_loss: 0.3786\n",
            "Epoch 23/200\n",
            "54/54 [==============================] - 10s 180ms/step - loss: 0.4024 - val_loss: 0.3748\n",
            "Epoch 24/200\n",
            "54/54 [==============================] - 9s 174ms/step - loss: 0.3994 - val_loss: 0.3767\n",
            "Epoch 25/200\n",
            "54/54 [==============================] - 8s 141ms/step - loss: 0.3967 - val_loss: 0.3667\n",
            "Epoch 26/200\n",
            "54/54 [==============================] - 9s 175ms/step - loss: 0.3930 - val_loss: 0.3775\n",
            "Epoch 27/200\n",
            "54/54 [==============================] - 8s 148ms/step - loss: 0.3897 - val_loss: 0.3712\n",
            "Epoch 28/200\n",
            "54/54 [==============================] - 10s 180ms/step - loss: 0.3889 - val_loss: 0.3476\n",
            "Epoch 29/200\n",
            "54/54 [==============================] - 10s 180ms/step - loss: 0.3843 - val_loss: 0.3757\n",
            "Epoch 30/200\n",
            "54/54 [==============================] - 8s 146ms/step - loss: 0.3818 - val_loss: 0.3528\n",
            "Epoch 31/200\n",
            "54/54 [==============================] - 10s 183ms/step - loss: 0.3809 - val_loss: 0.3606\n",
            "Epoch 32/200\n",
            "54/54 [==============================] - 9s 167ms/step - loss: 0.3768 - val_loss: 0.3426\n",
            "Epoch 33/200\n",
            "54/54 [==============================] - 9s 160ms/step - loss: 0.3766 - val_loss: 0.3395\n",
            "Epoch 34/200\n",
            "54/54 [==============================] - 10s 184ms/step - loss: 0.3723 - val_loss: 0.3345\n",
            "Epoch 35/200\n",
            "54/54 [==============================] - 9s 161ms/step - loss: 0.3707 - val_loss: 0.3297\n",
            "Epoch 36/200\n",
            "54/54 [==============================] - 10s 175ms/step - loss: 0.3703 - val_loss: 0.3307\n",
            "Epoch 37/200\n",
            "54/54 [==============================] - 10s 182ms/step - loss: 0.3670 - val_loss: 0.3331\n",
            "Epoch 38/200\n",
            "54/54 [==============================] - 8s 145ms/step - loss: 0.3644 - val_loss: 0.3550\n",
            "Epoch 39/200\n",
            "54/54 [==============================] - 10s 182ms/step - loss: 0.3612 - val_loss: 0.3250\n",
            "Epoch 40/200\n",
            "54/54 [==============================] - 9s 170ms/step - loss: 0.3608 - val_loss: 0.3259\n",
            "Epoch 41/200\n",
            "54/54 [==============================] - 9s 161ms/step - loss: 0.3563 - val_loss: 0.3308\n",
            "Epoch 42/200\n",
            "54/54 [==============================] - 9s 176ms/step - loss: 0.3562 - val_loss: 0.3295\n",
            "Epoch 43/200\n",
            "54/54 [==============================] - 8s 142ms/step - loss: 0.3548 - val_loss: 0.3183\n",
            "Epoch 44/200\n",
            "54/54 [==============================] - 10s 178ms/step - loss: 0.3512 - val_loss: 0.3156\n",
            "Epoch 45/200\n",
            "54/54 [==============================] - 10s 184ms/step - loss: 0.3510 - val_loss: 0.3104\n",
            "Epoch 46/200\n",
            "54/54 [==============================] - 8s 143ms/step - loss: 0.3506 - val_loss: 0.3154\n",
            "Epoch 47/200\n",
            "54/54 [==============================] - 10s 177ms/step - loss: 0.3472 - val_loss: 0.3114\n",
            "Epoch 48/200\n",
            "54/54 [==============================] - 8s 150ms/step - loss: 0.3468 - val_loss: 0.3075\n",
            "Epoch 49/200\n",
            "54/54 [==============================] - 9s 169ms/step - loss: 0.3441 - val_loss: 0.3111\n",
            "Epoch 50/200\n",
            "54/54 [==============================] - 11s 207ms/step - loss: 0.3426 - val_loss: 0.3035\n",
            "Epoch 51/200\n",
            "54/54 [==============================] - 9s 163ms/step - loss: 0.3409 - val_loss: 0.3023\n",
            "Epoch 52/200\n",
            "54/54 [==============================] - 10s 177ms/step - loss: 0.3413 - val_loss: 0.2898\n",
            "Epoch 53/200\n",
            "54/54 [==============================] - 10s 183ms/step - loss: 0.3383 - val_loss: 0.2925\n",
            "Epoch 54/200\n",
            "54/54 [==============================] - 8s 144ms/step - loss: 0.3385 - val_loss: 0.2975\n",
            "Epoch 55/200\n",
            "54/54 [==============================] - 10s 178ms/step - loss: 0.3368 - val_loss: 0.2923\n",
            "Epoch 56/200\n",
            "54/54 [==============================] - 8s 153ms/step - loss: 0.3345 - val_loss: 0.2858\n",
            "Epoch 57/200\n",
            "54/54 [==============================] - 10s 179ms/step - loss: 0.3359 - val_loss: 0.2852\n",
            "Epoch 58/200\n",
            "54/54 [==============================] - 10s 182ms/step - loss: 0.3315 - val_loss: 0.2887\n",
            "Epoch 59/200\n",
            "54/54 [==============================] - 8s 155ms/step - loss: 0.3293 - val_loss: 0.2795\n",
            "Epoch 60/200\n",
            "54/54 [==============================] - 10s 186ms/step - loss: 0.3316 - val_loss: 0.2893\n",
            "Epoch 61/200\n",
            "54/54 [==============================] - 11s 199ms/step - loss: 0.3276 - val_loss: 0.2841\n",
            "Epoch 62/200\n",
            "54/54 [==============================] - 8s 144ms/step - loss: 0.3274 - val_loss: 0.2754\n",
            "Epoch 63/200\n",
            "54/54 [==============================] - 10s 190ms/step - loss: 0.3263 - val_loss: 0.2727\n",
            "Epoch 64/200\n",
            "54/54 [==============================] - 10s 193ms/step - loss: 0.3255 - val_loss: 0.2746\n",
            "Epoch 65/200\n",
            "54/54 [==============================] - 9s 172ms/step - loss: 0.3263 - val_loss: 0.2880\n",
            "Epoch 66/200\n",
            "54/54 [==============================] - 10s 179ms/step - loss: 0.3239 - val_loss: 0.2706\n",
            "Epoch 67/200\n",
            "54/54 [==============================] - 8s 145ms/step - loss: 0.3237 - val_loss: 0.2698\n",
            "Epoch 68/200\n",
            "54/54 [==============================] - 10s 190ms/step - loss: 0.3222 - val_loss: 0.2658\n",
            "Epoch 69/200\n",
            "54/54 [==============================] - 9s 166ms/step - loss: 0.3200 - val_loss: 0.2637\n",
            "Epoch 70/200\n",
            "54/54 [==============================] - 9s 162ms/step - loss: 0.3201 - val_loss: 0.2654\n",
            "Epoch 71/200\n",
            "54/54 [==============================] - 10s 181ms/step - loss: 0.3184 - val_loss: 0.2631\n",
            "Epoch 72/200\n",
            "54/54 [==============================] - 8s 147ms/step - loss: 0.3199 - val_loss: 0.2655\n",
            "Epoch 73/200\n",
            "54/54 [==============================] - 10s 180ms/step - loss: 0.3175 - val_loss: 0.2622\n",
            "Epoch 74/200\n",
            "54/54 [==============================] - 9s 174ms/step - loss: 0.3159 - val_loss: 0.2602\n",
            "Epoch 75/200\n",
            "54/54 [==============================] - 8s 150ms/step - loss: 0.3150 - val_loss: 0.2565\n",
            "Epoch 76/200\n",
            "54/54 [==============================] - 10s 179ms/step - loss: 0.3157 - val_loss: 0.2654\n",
            "Epoch 77/200\n",
            "54/54 [==============================] - 8s 142ms/step - loss: 0.3134 - val_loss: 0.2634\n",
            "Epoch 78/200\n",
            "54/54 [==============================] - 10s 178ms/step - loss: 0.3131 - val_loss: 0.2607\n",
            "Epoch 79/200\n",
            "54/54 [==============================] - 9s 168ms/step - loss: 0.3130 - val_loss: 0.2662\n",
            "Epoch 80/200\n",
            "54/54 [==============================] - 8s 148ms/step - loss: 0.3109 - val_loss: 0.2563\n",
            "Epoch 81/200\n",
            "54/54 [==============================] - 10s 177ms/step - loss: 0.3109 - val_loss: 0.2564\n",
            "Epoch 82/200\n",
            "54/54 [==============================] - 8s 140ms/step - loss: 0.3102 - val_loss: 0.2513\n",
            "Epoch 83/200\n",
            "54/54 [==============================] - 9s 176ms/step - loss: 0.3097 - val_loss: 0.2529\n",
            "Epoch 84/200\n",
            "54/54 [==============================] - 10s 185ms/step - loss: 0.3082 - val_loss: 0.2600\n",
            "Epoch 85/200\n",
            "54/54 [==============================] - 8s 141ms/step - loss: 0.3079 - val_loss: 0.2498\n",
            "Epoch 86/200\n",
            "54/54 [==============================] - 9s 175ms/step - loss: 0.3060 - val_loss: 0.2564\n",
            "Epoch 87/200\n",
            "54/54 [==============================] - 8s 140ms/step - loss: 0.3064 - val_loss: 0.2529\n",
            "Epoch 88/200\n",
            "54/54 [==============================] - 9s 174ms/step - loss: 0.3060 - val_loss: 0.2486\n",
            "Epoch 89/200\n",
            "54/54 [==============================] - 10s 191ms/step - loss: 0.3059 - val_loss: 0.2514\n",
            "Epoch 90/200\n",
            "54/54 [==============================] - 8s 140ms/step - loss: 0.3035 - val_loss: 0.2494\n",
            "Epoch 91/200\n",
            "54/54 [==============================] - 9s 176ms/step - loss: 0.3034 - val_loss: 0.2483\n",
            "Epoch 92/200\n",
            "54/54 [==============================] - 8s 149ms/step - loss: 0.3026 - val_loss: 0.2448\n",
            "Epoch 93/200\n",
            "54/54 [==============================] - 9s 168ms/step - loss: 0.3010 - val_loss: 0.2405\n",
            "Epoch 94/200\n",
            "54/54 [==============================] - 10s 186ms/step - loss: 0.3048 - val_loss: 0.2425\n",
            "Epoch 95/200\n",
            "54/54 [==============================] - 8s 149ms/step - loss: 0.2996 - val_loss: 0.2385\n",
            "Epoch 96/200\n",
            "54/54 [==============================] - 10s 186ms/step - loss: 0.3007 - val_loss: 0.2371\n",
            "Epoch 97/200\n",
            "54/54 [==============================] - 12s 230ms/step - loss: 0.2995 - val_loss: 0.2393\n",
            "Epoch 98/200\n",
            "54/54 [==============================] - 9s 160ms/step - loss: 0.2983 - val_loss: 0.2414\n",
            "Epoch 99/200\n",
            "54/54 [==============================] - 10s 192ms/step - loss: 0.3000 - val_loss: 0.2439\n",
            "Epoch 100/200\n",
            "54/54 [==============================] - 11s 210ms/step - loss: 0.3004 - val_loss: 0.2451\n",
            "Epoch 101/200\n",
            "54/54 [==============================] - 11s 204ms/step - loss: 0.2990 - val_loss: 0.2398\n",
            "Epoch 102/200\n",
            "54/54 [==============================] - 9s 161ms/step - loss: 0.2979 - val_loss: 0.2370\n",
            "Epoch 103/200\n",
            "54/54 [==============================] - 10s 187ms/step - loss: 0.2957 - val_loss: 0.2402\n",
            "Epoch 104/200\n",
            "54/54 [==============================] - 8s 156ms/step - loss: 0.2959 - val_loss: 0.2435\n",
            "Epoch 105/200\n",
            "54/54 [==============================] - 10s 177ms/step - loss: 0.2975 - val_loss: 0.2370\n",
            "Epoch 106/200\n",
            "54/54 [==============================] - 10s 185ms/step - loss: 0.2964 - val_loss: 0.2374\n",
            "Epoch 107/200\n",
            "54/54 [==============================] - 8s 144ms/step - loss: 0.2942 - val_loss: 0.2379\n",
            "Epoch 108/200\n",
            "54/54 [==============================] - 10s 179ms/step - loss: 0.2951 - val_loss: 0.2374\n",
            "Epoch 109/200\n",
            "54/54 [==============================] - 10s 181ms/step - loss: 0.2949 - val_loss: 0.2360\n",
            "Epoch 110/200\n",
            "54/54 [==============================] - 8s 149ms/step - loss: 0.2925 - val_loss: 0.2306\n",
            "Epoch 111/200\n",
            "54/54 [==============================] - 10s 181ms/step - loss: 0.2913 - val_loss: 0.2318\n",
            "Epoch 112/200\n",
            "54/54 [==============================] - 8s 152ms/step - loss: 0.2932 - val_loss: 0.2362\n",
            "Epoch 113/200\n",
            "54/54 [==============================] - 9s 171ms/step - loss: 0.2916 - val_loss: 0.2351\n",
            "Epoch 114/200\n",
            "54/54 [==============================] - 10s 178ms/step - loss: 0.2913 - val_loss: 0.2314\n",
            "Epoch 115/200\n",
            "54/54 [==============================] - 8s 144ms/step - loss: 0.2891 - val_loss: 0.2302\n",
            "Epoch 116/200\n",
            "54/54 [==============================] - 10s 179ms/step - loss: 0.2922 - val_loss: 0.2320\n",
            "Epoch 117/200\n",
            "54/54 [==============================] - 8s 152ms/step - loss: 0.2900 - val_loss: 0.2374\n",
            "Epoch 118/200\n",
            "54/54 [==============================] - 9s 167ms/step - loss: 0.2905 - val_loss: 0.2327\n",
            "Epoch 119/200\n",
            "54/54 [==============================] - 10s 184ms/step - loss: 0.2887 - val_loss: 0.2331\n",
            "Epoch 120/200\n",
            "54/54 [==============================] - 8s 145ms/step - loss: 0.2895 - val_loss: 0.2374\n",
            "Epoch 121/200\n",
            "54/54 [==============================] - 10s 182ms/step - loss: 0.2871 - val_loss: 0.2310\n",
            "Epoch 122/200\n",
            "54/54 [==============================] - 9s 164ms/step - loss: 0.2882 - val_loss: 0.2300\n",
            "Epoch 123/200\n",
            "54/54 [==============================] - 9s 165ms/step - loss: 0.2887 - val_loss: 0.2316\n",
            "Epoch 124/200\n",
            "54/54 [==============================] - 10s 183ms/step - loss: 0.2869 - val_loss: 0.2252\n",
            "Epoch 125/200\n",
            "54/54 [==============================] - 8s 156ms/step - loss: 0.2867 - val_loss: 0.2300\n",
            "Epoch 126/200\n",
            "54/54 [==============================] - 10s 182ms/step - loss: 0.2858 - val_loss: 0.2302\n",
            "Epoch 127/200\n",
            "54/54 [==============================] - 11s 201ms/step - loss: 0.2855 - val_loss: 0.2273\n",
            "Epoch 128/200\n",
            "54/54 [==============================] - 8s 144ms/step - loss: 0.2848 - val_loss: 0.2263\n",
            "Epoch 129/200\n",
            "54/54 [==============================] - 10s 180ms/step - loss: 0.2824 - val_loss: 0.2275\n",
            "Epoch 130/200\n",
            "54/54 [==============================] - 10s 191ms/step - loss: 0.2874 - val_loss: 0.2264\n",
            "Epoch 131/200\n",
            "54/54 [==============================] - 8s 151ms/step - loss: 0.2839 - val_loss: 0.2229\n",
            "Epoch 132/200\n",
            "54/54 [==============================] - 10s 190ms/step - loss: 0.2823 - val_loss: 0.2293\n",
            "Epoch 133/200\n",
            "54/54 [==============================] - 9s 170ms/step - loss: 0.2827 - val_loss: 0.2235\n",
            "Epoch 134/200\n",
            "54/54 [==============================] - 9s 159ms/step - loss: 0.2825 - val_loss: 0.2256\n",
            "Epoch 135/200\n",
            "54/54 [==============================] - 13s 235ms/step - loss: 0.2823 - val_loss: 0.2226\n",
            "Epoch 136/200\n",
            "54/54 [==============================] - 8s 145ms/step - loss: 0.2820 - val_loss: 0.2289\n",
            "Epoch 137/200\n",
            "54/54 [==============================] - 10s 180ms/step - loss: 0.2838 - val_loss: 0.2196\n",
            "Epoch 138/200\n",
            "54/54 [==============================] - 10s 180ms/step - loss: 0.2817 - val_loss: 0.2221\n",
            "Epoch 139/200\n",
            "54/54 [==============================] - 8s 148ms/step - loss: 0.2809 - val_loss: 0.2261\n",
            "Epoch 140/200\n",
            "54/54 [==============================] - 10s 177ms/step - loss: 0.2795 - val_loss: 0.2271\n",
            "Epoch 141/200\n",
            "54/54 [==============================] - 8s 143ms/step - loss: 0.2798 - val_loss: 0.2203\n",
            "Epoch 142/200\n",
            "54/54 [==============================] - 10s 177ms/step - loss: 0.2809 - val_loss: 0.2211\n",
            "Epoch 143/200\n",
            "54/54 [==============================] - 9s 168ms/step - loss: 0.2776 - val_loss: 0.2231\n",
            "Epoch 144/200\n",
            "54/54 [==============================] - 8s 150ms/step - loss: 0.2769 - val_loss: 0.2191\n",
            "Epoch 145/200\n",
            "54/54 [==============================] - 10s 177ms/step - loss: 0.2807 - val_loss: 0.2218\n",
            "Epoch 146/200\n",
            "54/54 [==============================] - 8s 141ms/step - loss: 0.2777 - val_loss: 0.2224\n",
            "Epoch 147/200\n",
            "54/54 [==============================] - 9s 175ms/step - loss: 0.2777 - val_loss: 0.2180\n",
            "Epoch 148/200\n",
            "54/54 [==============================] - 10s 180ms/step - loss: 0.2773 - val_loss: 0.2279\n",
            "Epoch 149/200\n",
            "54/54 [==============================] - 8s 140ms/step - loss: 0.2778 - val_loss: 0.2201\n",
            "Epoch 150/200\n",
            "54/54 [==============================] - 9s 176ms/step - loss: 0.2762 - val_loss: 0.2279\n",
            "Epoch 151/200\n",
            "54/54 [==============================] - 8s 141ms/step - loss: 0.2772 - val_loss: 0.2269\n",
            "Epoch 152/200\n",
            "54/54 [==============================] - 9s 177ms/step - loss: 0.2775 - val_loss: 0.2177\n",
            "Epoch 153/200\n",
            "54/54 [==============================] - 9s 164ms/step - loss: 0.2764 - val_loss: 0.2225\n",
            "Epoch 154/200\n",
            "54/54 [==============================] - 8s 150ms/step - loss: 0.2758 - val_loss: 0.2225\n",
            "Epoch 155/200\n",
            "54/54 [==============================] - 9s 174ms/step - loss: 0.2778 - val_loss: 0.2134\n",
            "Epoch 156/200\n",
            "54/54 [==============================] - 8s 149ms/step - loss: 0.2770 - val_loss: 0.2269\n",
            "Epoch 157/200\n",
            "54/54 [==============================] - 9s 177ms/step - loss: 0.2758 - val_loss: 0.2193\n",
            "Epoch 158/200\n",
            "54/54 [==============================] - 10s 181ms/step - loss: 0.2761 - val_loss: 0.2206\n",
            "Epoch 159/200\n",
            "54/54 [==============================] - 8s 155ms/step - loss: 0.2726 - val_loss: 0.2259\n",
            "Epoch 160/200\n",
            "54/54 [==============================] - 10s 183ms/step - loss: 0.2755 - val_loss: 0.2196\n",
            "Epoch 161/200\n",
            "54/54 [==============================] - 10s 182ms/step - loss: 0.2730 - val_loss: 0.2185\n",
            "Epoch 162/200\n",
            "54/54 [==============================] - 8s 152ms/step - loss: 0.2745 - val_loss: 0.2206\n",
            "Epoch 163/200\n",
            "54/54 [==============================] - 10s 182ms/step - loss: 0.2770 - val_loss: 0.2161\n",
            "Epoch 164/200\n",
            "54/54 [==============================] - 8s 156ms/step - loss: 0.2749 - val_loss: 0.2175\n",
            "Epoch 165/200\n",
            "54/54 [==============================] - 9s 173ms/step - loss: 0.2742 - val_loss: 0.2146\n",
            "Epoch 166/200\n",
            "54/54 [==============================] - 10s 185ms/step - loss: 0.2721 - val_loss: 0.2087\n",
            "Epoch 167/200\n",
            "54/54 [==============================] - 8s 149ms/step - loss: 0.2723 - val_loss: 0.2152\n",
            "Epoch 168/200\n",
            "54/54 [==============================] - 10s 189ms/step - loss: 0.2701 - val_loss: 0.2138\n",
            "Epoch 169/200\n",
            "54/54 [==============================] - 11s 198ms/step - loss: 0.2711 - val_loss: 0.2234\n",
            "Epoch 170/200\n",
            "54/54 [==============================] - 8s 151ms/step - loss: 0.2735 - val_loss: 0.2184\n",
            "Epoch 171/200\n",
            "54/54 [==============================] - 12s 226ms/step - loss: 0.2694 - val_loss: 0.2121\n",
            "Epoch 172/200\n",
            "54/54 [==============================] - 10s 183ms/step - loss: 0.2707 - val_loss: 0.2134\n",
            "Epoch 173/200\n",
            "54/54 [==============================] - 8s 155ms/step - loss: 0.2683 - val_loss: 0.2113\n",
            "Epoch 174/200\n",
            "54/54 [==============================] - 10s 180ms/step - loss: 0.2705 - val_loss: 0.2140\n",
            "Epoch 175/200\n",
            "54/54 [==============================] - 10s 192ms/step - loss: 0.2699 - val_loss: 0.2205\n",
            "Epoch 176/200\n",
            "54/54 [==============================] - 8s 144ms/step - loss: 0.2709 - val_loss: 0.2100\n",
            "Epoch 177/200\n",
            "54/54 [==============================] - 10s 180ms/step - loss: 0.2682 - val_loss: 0.2148\n",
            "Epoch 178/200\n",
            "54/54 [==============================] - 10s 178ms/step - loss: 0.2691 - val_loss: 0.2109\n",
            "Epoch 179/200\n",
            "54/54 [==============================] - 8s 152ms/step - loss: 0.2678 - val_loss: 0.2102\n",
            "Epoch 180/200\n",
            "54/54 [==============================] - 10s 181ms/step - loss: 0.2707 - val_loss: 0.2184\n",
            "Epoch 181/200\n",
            "54/54 [==============================] - 8s 146ms/step - loss: 0.2693 - val_loss: 0.2142\n",
            "Epoch 182/200\n",
            "54/54 [==============================] - 10s 179ms/step - loss: 0.2696 - val_loss: 0.2141\n",
            "Epoch 183/200\n",
            "54/54 [==============================] - 11s 201ms/step - loss: 0.2665 - val_loss: 0.2130\n",
            "Epoch 184/200\n",
            "54/54 [==============================] - 8s 157ms/step - loss: 0.2669 - val_loss: 0.2059\n",
            "Epoch 185/200\n",
            "54/54 [==============================] - 10s 187ms/step - loss: 0.2674 - val_loss: 0.2211\n",
            "Epoch 186/200\n",
            "54/54 [==============================] - 11s 204ms/step - loss: 0.2673 - val_loss: 0.2147\n",
            "Epoch 187/200\n",
            "54/54 [==============================] - 8s 149ms/step - loss: 0.2666 - val_loss: 0.2137\n",
            "Epoch 188/200\n",
            "54/54 [==============================] - 10s 183ms/step - loss: 0.2677 - val_loss: 0.2133\n",
            "Epoch 189/200\n",
            "54/54 [==============================] - 9s 173ms/step - loss: 0.2665 - val_loss: 0.2110\n",
            "Epoch 190/200\n",
            "54/54 [==============================] - 9s 159ms/step - loss: 0.2645 - val_loss: 0.2097\n",
            "Epoch 191/200\n",
            "54/54 [==============================] - 10s 186ms/step - loss: 0.2649 - val_loss: 0.2102\n",
            "Epoch 192/200\n",
            "54/54 [==============================] - 8s 145ms/step - loss: 0.2668 - val_loss: 0.2154\n",
            "Epoch 193/200\n",
            "54/54 [==============================] - 10s 181ms/step - loss: 0.2632 - val_loss: 0.2130\n",
            "Epoch 194/200\n",
            "54/54 [==============================] - 10s 184ms/step - loss: 0.2632 - val_loss: 0.2111\n",
            "Epoch 195/200\n",
            "54/54 [==============================] - 8s 149ms/step - loss: 0.2644 - val_loss: 0.2123\n",
            "Epoch 196/200\n",
            "54/54 [==============================] - 10s 185ms/step - loss: 0.2640 - val_loss: 0.2157\n",
            "Epoch 197/200\n",
            "54/54 [==============================] - 10s 184ms/step - loss: 0.2638 - val_loss: 0.2169\n",
            "Epoch 198/200\n",
            "54/54 [==============================] - 9s 157ms/step - loss: 0.2644 - val_loss: 0.2056\n",
            "Epoch 199/200\n",
            "54/54 [==============================] - 10s 186ms/step - loss: 0.2629 - val_loss: 0.2102\n",
            "Epoch 200/200\n",
            "54/54 [==============================] - 9s 159ms/step - loss: 0.2627 - val_loss: 0.2048\n"
          ]
        },
        {
          "output_type": "execute_result",
          "data": {
            "text/plain": [
              "<keras.callbacks.History at 0x794048c9d7e0>"
            ]
          },
          "metadata": {},
          "execution_count": 16
        }
      ],
      "source": [
        "model = get_model(data_train_X_lstm.shape[1:])\n",
        "model.summary()\n",
        "model.compile(optimizer='adam', loss='mse')\n",
        "model.fit(data_train_X_lstm, y=y_train, epochs=200, batch_size=5000, verbose=1, validation_split =0.3, shuffle=True,\n",
        "          callbacks=[callbacks.EarlyStopping(monitor='val_loss', patience=100,verbose=2, mode='auto')])"
      ]
    },
    {
      "cell_type": "markdown",
      "source": [
        "## Metrics and Viz Here"
      ],
      "metadata": {
        "id": "On3zV9flTtr8"
      }
    },
    {
      "cell_type": "code",
      "execution_count": null,
      "metadata": {
        "id": "sIpIyWfDaqNQ",
        "colab": {
          "base_uri": "https://localhost:8080/"
        },
        "outputId": "de3ccec4-1347-4322-a79d-6ea001ef5a9b"
      },
      "outputs": [
        {
          "output_type": "stream",
          "name": "stdout",
          "text": [
            "Total Time Taken: 1936.290ms\n",
            "Modeling COMPLETE\n"
          ]
        }
      ],
      "source": [
        "endTime = time.time()\n",
        "print(f\"Total Time Taken: {endTime - startTime:.03f}ms\")\n",
        "print(\"Modeling COMPLETE\")"
      ]
    },
    {
      "cell_type": "code",
      "source": [
        "y_pred_train = model.predict(data_train_X_lstm)"
      ],
      "metadata": {
        "id": "gRIPpNYq8qqa",
        "colab": {
          "base_uri": "https://localhost:8080/"
        },
        "outputId": "752c203f-8ccd-4218-d481-27a9b0410118"
      },
      "execution_count": null,
      "outputs": [
        {
          "output_type": "stream",
          "name": "stdout",
          "text": [
            "11864/11864 [==============================] - 37s 3ms/step\n"
          ]
        }
      ]
    },
    {
      "cell_type": "code",
      "source": [
        "y_pred_train.shape, y_train.shape"
      ],
      "metadata": {
        "id": "69BCJWQ68w3J",
        "colab": {
          "base_uri": "https://localhost:8080/"
        },
        "outputId": "daff2f2f-50ab-46ff-c940-2ac71e7ad147"
      },
      "execution_count": null,
      "outputs": [
        {
          "output_type": "execute_result",
          "data": {
            "text/plain": [
              "((379623, 1), (379623, 1))"
            ]
          },
          "metadata": {},
          "execution_count": 19
        }
      ]
    },
    {
      "cell_type": "code",
      "source": [
        "train_Predict_full_range = scaler_Y.inverse_transform(y_pred_train)\n",
        "data_train_Y_full_range = scaler_Y.inverse_transform(y_train)"
      ],
      "metadata": {
        "id": "Q13UgCPi8xDJ"
      },
      "execution_count": null,
      "outputs": []
    },
    {
      "cell_type": "code",
      "source": [
        "from sklearn.metrics import mean_absolute_error, r2_score, mean_absolute_percentage_error, mean_squared_error\n",
        "\n",
        "print('RMSE:',np.sqrt(mean_squared_error(data_train_Y_full_range, train_Predict_full_range)))\n",
        "print('RMSE Percentage:',rmspe(data_train_Y_full_range, train_Predict_full_range))\n",
        "print('RMSE Percentage-1:',rmspe_1(data_train_Y_full_range, train_Predict_full_range))\n",
        "print('Mean Absolute Error:', mean_absolute_error(data_train_Y_full_range, train_Predict_full_range))\n",
        "print('Mean Absolute Percentage Error:', mean_absolute_percentage_error(data_train_Y_full_range, train_Predict_full_range))\n",
        "print('R^2 Score:', r2_score(data_train_Y_full_range, train_Predict_full_range))"
      ],
      "metadata": {
        "id": "Sm-i9s4q81Vt",
        "colab": {
          "base_uri": "https://localhost:8080/"
        },
        "outputId": "8884fb7e-614c-44f5-cc51-d1b76fdaaf41"
      },
      "execution_count": null,
      "outputs": [
        {
          "output_type": "stream",
          "name": "stdout",
          "text": [
            "RMSE: 81.15098710959029\n",
            "RMSE Percentage: 7269.759128332045\n",
            "RMSE Percentage-1: 462.73914636287935\n",
            "Mean Absolute Error: 57.93270710963031\n",
            "Mean Absolute Percentage Error: 1.1291815845683904\n",
            "R^2 Score: 0.7961492347247731\n"
          ]
        }
      ]
    },
    {
      "cell_type": "code",
      "source": [
        "plt.subplots(figsize=(15, 5))\n",
        "\n",
        "plt.plot(data_train_Y_full_range, color='red', label=\"Ground Truth\") # Y_test_given,y_pred_test\n",
        "plt.plot(train_Predict_full_range, color='blue', label=\"Prediction\")\n",
        "plt.ylabel(\"Ice Bed Height\")\n",
        "plt.xlabel(\"Data Elements\")\n",
        "plt.legend(loc=\"upper left\")\n",
        "plt.show()"
      ],
      "metadata": {
        "id": "GY_ZV8Kj9Dzs",
        "colab": {
          "base_uri": "https://localhost:8080/",
          "height": 465
        },
        "outputId": "fc26eaeb-b556-48e8-e5ed-91c210360267"
      },
      "execution_count": null,
      "outputs": [
        {
          "output_type": "display_data",
          "data": {
            "text/plain": [
              "<Figure size 1500x500 with 1 Axes>"
            ],
            "image/png": "[encoded data removed]"
          },
          "metadata": {}
        }
      ]
    },
    {
      "cell_type": "code",
      "source": [
        "y_predict_test = model.predict(data_test_X_lstm)"
      ],
      "metadata": {
        "id": "skKR4y_d9FsA",
        "colab": {
          "base_uri": "https://localhost:8080/"
        },
        "outputId": "bc84d474-27e7-438c-a4fa-871fbdde13bc"
      },
      "execution_count": null,
      "outputs": [
        {
          "output_type": "stream",
          "name": "stdout",
          "text": [
            "7909/7909 [==============================] - 24s 3ms/step\n"
          ]
        }
      ]
    },
    {
      "cell_type": "code",
      "source": [
        "y_test.shape, y_predict_test.shape"
      ],
      "metadata": {
        "id": "A7FfK6KK9H6b",
        "colab": {
          "base_uri": "https://localhost:8080/"
        },
        "outputId": "79e8ec8e-5bba-47b4-d80c-bad854a0a1ef"
      },
      "execution_count": null,
      "outputs": [
        {
          "output_type": "execute_result",
          "data": {
            "text/plain": [
              "((253083, 1), (253083, 1))"
            ]
          },
          "metadata": {},
          "execution_count": 24
        }
      ]
    },
    {
      "cell_type": "code",
      "source": [
        "test_Predict_full_range = scaler_Y.inverse_transform(y_predict_test)\n",
        "data_test_Y_full_range = scaler_Y.inverse_transform(y_test)"
      ],
      "metadata": {
        "id": "QqHCnsSm9zL2"
      },
      "execution_count": null,
      "outputs": []
    },
    {
      "cell_type": "code",
      "source": [
        "from sklearn.metrics import mean_absolute_error, r2_score, mean_absolute_percentage_error\n",
        "\n",
        "print('RMSE:',np.sqrt(mean_squared_error(data_test_Y_full_range, test_Predict_full_range)))\n",
        "print('RMSE Percentage:',rmspe(data_test_Y_full_range, test_Predict_full_range))\n",
        "print('RMSE Percentage-1:',rmspe_1(data_test_Y_full_range, test_Predict_full_range))\n",
        "print('Mean Absolute Error:', mean_absolute_error(data_test_Y_full_range, test_Predict_full_range))\n",
        "print('Mean Absolute Percentage Error:', mean_absolute_percentage_error(data_test_Y_full_range, test_Predict_full_range))\n",
        "print('R^2 Score:', r2_score(data_test_Y_full_range, test_Predict_full_range))"
      ],
      "metadata": {
        "id": "7ydOJEJw9zp5",
        "colab": {
          "base_uri": "https://localhost:8080/"
        },
        "outputId": "e6c15319-a8ce-4ee3-9f46-25635b65b4e7"
      },
      "execution_count": null,
      "outputs": [
        {
          "output_type": "stream",
          "name": "stdout",
          "text": [
            "RMSE: 81.17395471303719\n",
            "RMSE Percentage: 4631.98720351594\n",
            "RMSE Percentage-1: 500.255332000948\n",
            "Mean Absolute Error: 57.99306221317166\n",
            "Mean Absolute Percentage Error: 0.9710576197106698\n",
            "R^2 Score: 0.7968162263173291\n"
          ]
        }
      ]
    },
    {
      "cell_type": "code",
      "source": [
        "y_Predict_1201 = model.predict(data_1201_X_lstm)"
      ],
      "metadata": {
        "id": "xgiDJQMv91da",
        "colab": {
          "base_uri": "https://localhost:8080/"
        },
        "outputId": "1c408a19-9e0b-4069-ce24-2a3faf8cbfc2"
      },
      "execution_count": null,
      "outputs": [
        {
          "output_type": "stream",
          "name": "stdout",
          "text": [
            "45076/45076 [==============================] - 147s 3ms/step\n"
          ]
        }
      ]
    },
    {
      "cell_type": "code",
      "source": [
        "y_Predict_1201.shape"
      ],
      "metadata": {
        "id": "CpMBlbso938q",
        "colab": {
          "base_uri": "https://localhost:8080/"
        },
        "outputId": "ae24e62c-91ca-45da-eb49-e953db849f4e"
      },
      "execution_count": null,
      "outputs": [
        {
          "output_type": "execute_result",
          "data": {
            "text/plain": [
              "(1442401, 1)"
            ]
          },
          "metadata": {},
          "execution_count": 28
        }
      ]
    },
    {
      "cell_type": "code",
      "source": [
        "y_Predict_1201_full = scaler_Y.inverse_transform(y_Predict_1201)"
      ],
      "metadata": {
        "id": "sSAmV2Sq98Tb"
      },
      "execution_count": null,
      "outputs": []
    },
    {
      "cell_type": "code",
      "source": [
        "y_Predict_1201_full_flatten=y_Predict_1201_full.flatten()"
      ],
      "metadata": {
        "id": "wN4qCXD399lT"
      },
      "execution_count": null,
      "outputs": []
    },
    {
      "cell_type": "code",
      "source": [
        "prediction_on_1201_2D=y_Predict_1201_full_flatten.reshape(1201,1201)\n",
        "prediction_on_1201_2D.shape"
      ],
      "metadata": {
        "id": "olDfjZCf9-Qx",
        "colab": {
          "base_uri": "https://localhost:8080/"
        },
        "outputId": "120d5b35-a461-4cc4-b6c9-3a8b6d8fddec"
      },
      "execution_count": null,
      "outputs": [
        {
          "output_type": "execute_result",
          "data": {
            "text/plain": [
              "(1201, 1201)"
            ]
          },
          "metadata": {},
          "execution_count": 31
        }
      ]
    },
    {
      "cell_type": "code",
      "source": [
        "import h5py\n",
        "\n",
        "new_filename_2 = '/content/drive/MyDrive/REU 2023 Team 1: Ice Bed Topography Prediction/Research/Chen_Work/Old Models/Dense_LSTM_Vmag_Trial2.h5'\n",
        "\n",
        "with h5py.File(new_filename_2, 'w') as hf:\n",
        "    hf.create_dataset(\"track bed prediction\",  data=prediction_on_1201_2D)"
      ],
      "metadata": {
        "id": "BeJMNQMe-CoK"
      },
      "execution_count": null,
      "outputs": []
    },
    {
      "cell_type": "code",
      "source": [
        "import matplotlib.pyplot as plt\n",
        "plt.imshow(np.transpose(prediction_on_1201_2D), cmap=\"seismic\")\n",
        "#plt.imshow(a.squeeze(), cmap=\"seismic\", interpolation=\"nearest\") # new interpolated data\n",
        "plt.title('Track Bed Prediction')\n",
        "plt.xlabel('x-axis')\n",
        "plt.ylabel('y-axis')\n",
        "plt.colorbar(label=\"Color-bar\", orientation=\"horizontal\")"
      ],
      "metadata": {
        "id": "3rOXxF3x-E1v",
        "colab": {
          "base_uri": "https://localhost:8080/"
        },
        "outputId": "eb33d080-6c80-4222-8266-a5afe69ed7bc"
      },
      "execution_count": null,
      "outputs": [
        {
          "output_type": "execute_result",
          "data": {
            "text/plain": [
              "<matplotlib.colorbar.Colorbar at 0x79403b79b1c0>"
            ]
          },
          "metadata": {},
          "execution_count": 33
        },
        {
          "output_type": "display_data",
          "data": {
            "text/plain": [
              "<Figure size 640x480 with 2 Axes>"
            ],
            "image/png": "[encoded data removed]"
          },
          "metadata": {}
        }
      ]
    }
  ],
  "metadata": {
    "colab": {
      "provenance": []
    },
    "kernelspec": {
      "display_name": "Python 3",
      "name": "python3"
    },
    "language_info": {
      "name": "python"
    }
  },
  "nbformat": 4,
  "nbformat_minor": 0
}