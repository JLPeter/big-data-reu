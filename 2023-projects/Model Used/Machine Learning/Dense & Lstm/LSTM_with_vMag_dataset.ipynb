{
  "cells": [
    {
      "cell_type": "markdown",
      "metadata": {
        "id": "LLBbMrjmpDOK"
      },
      "source": [
        "# Preprocess only\n"
      ]
    },
    {
      "cell_type": "code",
      "execution_count": null,
      "metadata": {
        "colab": {
          "base_uri": "https://localhost:8080/"
        },
        "id": "Xqe9ZBBXKttI",
        "outputId": "0f8075d4-5954-40f6-a64b-9cbe954194c3"
      },
      "outputs": [
        {
          "output_type": "stream",
          "name": "stdout",
          "text": [
            "Mounted at /content/drive\n"
          ]
        }
      ],
      "source": [
        "from google.colab import drive\n",
        "drive.mount('/content/drive')\n",
        "import sys"
      ]
    },
    {
      "cell_type": "code",
      "execution_count": null,
      "metadata": {
        "colab": {
          "base_uri": "https://localhost:8080/"
        },
        "id": "l7MXnaEwpGe5",
        "outputId": "5863bc19-24b5-4f3d-a56a-1bdd46b928d6"
      },
      "outputs": [
        {
          "output_type": "stream",
          "name": "stdout",
          "text": [
            "Starting imports\n",
            "Starting timer.\n",
            "Imports Complete\n"
          ]
        }
      ],
      "source": [
        "#imports\n",
        "print(\"Starting imports\")\n",
        "#basics\n",
        "import time\n",
        "print(\"Starting timer.\")\n",
        "startTime = time.time()\n",
        "\n",
        "import numpy as np\n",
        "import pandas as pd\n",
        "import datetime\n",
        "import matplotlib.pyplot as plt\n",
        "\n",
        "#cleaning\n",
        "from sklearn.preprocessing import StandardScaler\n",
        "from sklearn.model_selection import train_test_split\n",
        "from sklearn.preprocessing import MinMaxScaler\n",
        "\n",
        "print(\"Imports Complete\")"
      ]
    },
    {
      "cell_type": "markdown",
      "metadata": {
        "id": "dmwL5liG52EI"
      },
      "source": [
        "## Get Data"
      ]
    },
    {
      "cell_type": "code",
      "execution_count": null,
      "metadata": {
        "id": "q6tHhIxwpGnu"
      },
      "outputs": [],
      "source": [
        "#paths\n",
        "mainPath = '/content/drive/MyDrive/Data_derivedVelocity/'\n",
        "data_full_ = mainPath + 'data_full_vMag.csv'\n",
        "data_1201_ = mainPath + 'd1201_vMag.csv'"
      ]
    },
    {
      "cell_type": "code",
      "execution_count": null,
      "metadata": {
        "id": "ItKd5FYdum2N",
        "colab": {
          "base_uri": "https://localhost:8080/"
        },
        "outputId": "8fc456fe-84da-4e16-a2f6-f0bb5272941f"
      },
      "outputs": [
        {
          "output_type": "stream",
          "name": "stdout",
          "text": [
            "Reading Data In_\n",
            "Data read in completed.\n"
          ]
        }
      ],
      "source": [
        "#read data in\n",
        "print(\"Reading Data In_\")\n",
        "df_all = pd.read_csv(data_full_)\n",
        "\n",
        "df1201 = pd.read_csv(data_1201_)\n",
        "print(\"Data read in completed.\")"
      ]
    },
    {
      "cell_type": "markdown",
      "metadata": {
        "id": "X2Ox7DBL55V_"
      },
      "source": [
        "## Create functions from Homayra"
      ]
    },
    {
      "cell_type": "code",
      "execution_count": null,
      "metadata": {
        "id": "lWR-_GS1ZUKL",
        "colab": {
          "base_uri": "https://localhost:8080/"
        },
        "outputId": "ea75fc7d-ed68-427d-e426-f3cdf415bd2d"
      },
      "outputs": [
        {
          "output_type": "stream",
          "name": "stdout",
          "text": [
            "Establishing RMSPE functions.\n"
          ]
        }
      ],
      "source": [
        "print(\"Establishing RMSPE functions.\")"
      ]
    },
    {
      "cell_type": "code",
      "execution_count": null,
      "metadata": {
        "id": "G73ihBVVpGjN"
      },
      "outputs": [],
      "source": [
        "def rmspe(y_true, y_pred):\n",
        "    return np.sqrt(np.nanmean(np.square(((y_true - y_pred) / y_true))))*100"
      ]
    },
    {
      "cell_type": "code",
      "execution_count": null,
      "metadata": {
        "id": "HWNov_aZpGlX"
      },
      "outputs": [],
      "source": [
        "def rmspe_1(y_true, y_pred):\n",
        "    return np.sqrt(np.nanmean(np.square(y_true - y_pred) / y_true))*100"
      ]
    },
    {
      "cell_type": "code",
      "execution_count": null,
      "metadata": {
        "id": "cLAAj5qJZZp-",
        "colab": {
          "base_uri": "https://localhost:8080/"
        },
        "outputId": "400a3095-de80-4e63-c6ac-64be4c430c81"
      },
      "outputs": [
        {
          "output_type": "stream",
          "name": "stdout",
          "text": [
            "Function established.\n"
          ]
        }
      ],
      "source": [
        "print(\"Function established.\")"
      ]
    },
    {
      "cell_type": "markdown",
      "metadata": {
        "id": "czPqgSZ25_Ps"
      },
      "source": [
        "## Clean Data/Prepare Data"
      ]
    },
    {
      "cell_type": "code",
      "source": [
        "print(\"Begin data cleaning.\")\n",
        "\n",
        "df1201 = df1201.drop(columns = ['Unnamed: 0.1'])\n",
        "df_all = df_all.drop(columns = ['Unnamed: 0.1'])\n",
        "\n",
        "#1201 drop location variables\n",
        "df1201_feats = df1201.drop(columns = ['surf_x', 'surf_y'])\n",
        "\n",
        "#df_all drop location variables\n",
        "df_all_feats_target = df_all.drop(columns = ['surf_x', 'surf_y', 'track_bed_x', 'track_bed_y'])\n",
        "\n",
        "#1201 order to align with df_all\n",
        "df1201_feats_ordered = df1201_feats[['surf_vx', 'surf_vy', 'surf_elv', 'surf_dhdt', 'surf_SMB', 'v_mag']]\n",
        "\n",
        "#set the feature variables to our independent characteristic variables\n",
        "feature_cols = ['surf_vx', 'surf_vy', 'surf_elv', 'surf_dhdt', 'surf_SMB','v_mag']\n",
        "\n",
        "#split into X and Y\n",
        "X_given = df_all_feats_target[feature_cols]\n",
        "Y_given = df_all_feats_target['track_bed_target']\n",
        "\n",
        "#combine all known X and validation 1201 X for standardizing\n",
        "X_all = np.concatenate((X_given, df1201_feats_ordered))\n",
        "#make y into a dataframe to be standardized\n",
        "Y_all = pd.DataFrame(Y_given)\n",
        "\n",
        "print(\"Data cleaned.\\nScaling beginning.\")\n",
        "\n",
        "#standardize\n",
        "#Not setting feature range, let it be automatically determined\n",
        "scaler_X = StandardScaler()\n",
        "scaler_Y = StandardScaler()\n",
        "\n",
        "X_all_std = scaler_X.fit_transform(X_all)\n",
        "Y_all_std = scaler_Y.fit_transform(Y_all)\n",
        "\n",
        "#can alternatively use the MinMaxScaler\n",
        "print(\"Scaling Complete.\\nSplitting Data Beginning.\")\n",
        "\n",
        "#split of 1201 data from X_all_std\n",
        "X_non1201 = X_all_std[0:632706,:]\n",
        "X_1201_data = X_all_std[632706:, :]\n",
        "\n",
        "# #generate a randomseed for training and testing split\n",
        "# generated = np.random.randint(0,1000,1)[0]\n",
        "# print(f\"Generated random split for train-test: {generated}\")\n",
        "generated = 168\n",
        "\n",
        "#set the train-test split\n",
        "#60-40 showed the most promising from previous research and additional testing\n",
        "train_size_ = .6\n",
        "#split training and test from df_all\n",
        "x_train, x_test, y_train, y_test = train_test_split(X_non1201, Y_all_std, train_size = train_size_, test_size = 1-train_size_, random_state = generated)\n",
        "\n",
        "#get validation data\n",
        "val_split = .2 #can change as needed\n",
        "#x_train, x_val, y_train, y_val = train_test_split(x_train, y_train, train_size = 1-val_split, test_size = val_split, random_state = generated)\n",
        "\n",
        "print(f\"Data train-split complete with: {train_size_ * 100}% training, {(1- train_size_) * 100}% testing, {val_split*100}% validation\")"
      ],
      "metadata": {
        "id": "iVF9u0eHx6Hf",
        "colab": {
          "base_uri": "https://localhost:8080/"
        },
        "outputId": "bc9216e4-1453-47a8-8d5d-5539095092a5"
      },
      "execution_count": null,
      "outputs": [
        {
          "output_type": "stream",
          "name": "stdout",
          "text": [
            "Begin data cleaning.\n",
            "Data cleaned.\n",
            "Scaling beginning.\n",
            "Scaling Complete.\n",
            "Splitting Data Beginning.\n",
            "Data train-split complete with: 60.0% training, 40.0% testing, 20.0% validation\n"
          ]
        }
      ]
    },
    {
      "cell_type": "markdown",
      "metadata": {
        "id": "jmn7g_Dn6Fam"
      },
      "source": [
        "## Modeling Here"
      ]
    },
    {
      "cell_type": "code",
      "source": [
        "data_train_X_lstm = x_train.reshape(x_train.shape[0], 1, x_train.shape[1])\n",
        "data_train_X_lstm.shape"
      ],
      "metadata": {
        "id": "kfBSooqTt__o",
        "colab": {
          "base_uri": "https://localhost:8080/"
        },
        "outputId": "ace2ec66-53a7-40ee-b506-463fa36af0a6"
      },
      "execution_count": null,
      "outputs": [
        {
          "output_type": "execute_result",
          "data": {
            "text/plain": [
              "(379623, 1, 6)"
            ]
          },
          "metadata": {},
          "execution_count": 12
        }
      ]
    },
    {
      "cell_type": "code",
      "source": [
        "data_test_X_lstm = x_test.reshape(x_test.shape[0], 1, x_test.shape[1])\n",
        "data_test_X_lstm.shape"
      ],
      "metadata": {
        "id": "WfNm7EY3uvpo",
        "colab": {
          "base_uri": "https://localhost:8080/"
        },
        "outputId": "b2117744-b720-4508-bbe8-b7a527b764d9"
      },
      "execution_count": null,
      "outputs": [
        {
          "output_type": "execute_result",
          "data": {
            "text/plain": [
              "(253083, 1, 6)"
            ]
          },
          "metadata": {},
          "execution_count": 13
        }
      ]
    },
    {
      "cell_type": "code",
      "source": [
        "data_1201_X_lstm = X_1201_data.reshape(X_1201_data.shape[0], 1, X_1201_data.shape[1])\n",
        "data_1201_X_lstm.shape"
      ],
      "metadata": {
        "id": "uvhXgxCeux2p",
        "colab": {
          "base_uri": "https://localhost:8080/"
        },
        "outputId": "48cd0b8b-ed17-4210-84bb-6b6fe1280336"
      },
      "execution_count": null,
      "outputs": [
        {
          "output_type": "execute_result",
          "data": {
            "text/plain": [
              "(1442401, 1, 6)"
            ]
          },
          "metadata": {},
          "execution_count": 14
        }
      ]
    },
    {
      "cell_type": "code",
      "source": [
        "y_train"
      ],
      "metadata": {
        "id": "UQoRYGWAwWgL",
        "colab": {
          "base_uri": "https://localhost:8080/"
        },
        "outputId": "c41cab1d-38fa-4897-e1b6-84f8b60c977f"
      },
      "execution_count": null,
      "outputs": [
        {
          "output_type": "execute_result",
          "data": {
            "text/plain": [
              "array([[-0.69413002],\n",
              "       [-0.16949313],\n",
              "       [-0.583128  ],\n",
              "       ...,\n",
              "       [ 0.29701978],\n",
              "       [ 1.5181232 ],\n",
              "       [ 0.87639597]])"
            ]
          },
          "metadata": {},
          "execution_count": 15
        }
      ]
    },
    {
      "cell_type": "code",
      "source": [
        "y_train.shape"
      ],
      "metadata": {
        "id": "c_D3_9HNwYKI",
        "colab": {
          "base_uri": "https://localhost:8080/"
        },
        "outputId": "e5701a0a-54dc-4914-bbbb-60771d5f8b1d"
      },
      "execution_count": null,
      "outputs": [
        {
          "output_type": "execute_result",
          "data": {
            "text/plain": [
              "(379623, 1)"
            ]
          },
          "metadata": {},
          "execution_count": 16
        }
      ]
    },
    {
      "cell_type": "code",
      "source": [
        "data_train_X_lstm.shape[1]"
      ],
      "metadata": {
        "colab": {
          "base_uri": "https://localhost:8080/"
        },
        "id": "mEmrCGAiGdz9",
        "outputId": "0220f3ca-50a5-434b-ae0c-e899de8001aa"
      },
      "execution_count": null,
      "outputs": [
        {
          "output_type": "execute_result",
          "data": {
            "text/plain": [
              "1"
            ]
          },
          "metadata": {},
          "execution_count": 20
        }
      ]
    },
    {
      "cell_type": "code",
      "source": [
        "data_train_X_lstm.shape[-1]"
      ],
      "metadata": {
        "colab": {
          "base_uri": "https://localhost:8080/"
        },
        "id": "0H5KNviJGea0",
        "outputId": "456ee4df-477b-44c2-90e9-7a7801bd44c8"
      },
      "execution_count": null,
      "outputs": [
        {
          "output_type": "execute_result",
          "data": {
            "text/plain": [
              "6"
            ]
          },
          "metadata": {},
          "execution_count": 21
        }
      ]
    },
    {
      "cell_type": "code",
      "source": [
        "import keras,os\n",
        "from keras.models import Sequential\n",
        "from keras.models import Model\n",
        "from keras.layers import Dense, Conv2D, MaxPool2D , Flatten, Dropout, AveragePooling2D, LSTM, Activation, ConvLSTM2D, TimeDistributed, Input, Reshape\n",
        "from keras.layers import UpSampling1D, Conv2DTranspose, UpSampling2D, BatchNormalization\n",
        "from tensorflow.keras import callbacks\n",
        "import numpy as np\n",
        "\n",
        "\n",
        "\n",
        "model = Sequential()\n",
        "model.add(LSTM(64,return_sequences=True, input_shape=(data_train_X_lstm.shape[1], data_train_X_lstm.shape[-1])))\n",
        "model.add(LSTM(32, return_sequences=True))\n",
        "model.add(LSTM(16, return_sequences=False))\n",
        "model.add(Dropout(0.5))\n",
        "model.add(Dense(1))\n",
        "#model.compile(loss='mse', optimizer='rmsprop')"
      ],
      "metadata": {
        "id": "GzyfFfEtFex8"
      },
      "execution_count": null,
      "outputs": []
    },
    {
      "cell_type": "code",
      "execution_count": null,
      "metadata": {
        "id": "3b8N6kImDClG",
        "colab": {
          "base_uri": "https://localhost:8080/"
        },
        "outputId": "bd6349a0-29c8-47b0-8ea7-8e27b2cca8bf"
      },
      "outputs": [
        {
          "output_type": "stream",
          "name": "stdout",
          "text": [
            "Model: \"sequential_5\"\n",
            "_________________________________________________________________\n",
            " Layer (type)                Output Shape              Param #   \n",
            "=================================================================\n",
            " lstm_9 (LSTM)               (None, 1, 64)             18176     \n",
            "                                                                 \n",
            " lstm_10 (LSTM)              (None, 1, 32)             12416     \n",
            "                                                                 \n",
            " lstm_11 (LSTM)              (None, 16)                3136      \n",
            "                                                                 \n",
            " dropout_3 (Dropout)         (None, 16)                0         \n",
            "                                                                 \n",
            " dense_3 (Dense)             (None, 1)                 17        \n",
            "                                                                 \n",
            "=================================================================\n",
            "Total params: 33,745\n",
            "Trainable params: 33,745\n",
            "Non-trainable params: 0\n",
            "_________________________________________________________________\n",
            "Epoch 1/100\n",
            "54/54 [==============================] - 13s 112ms/step - loss: 0.9303 - val_loss: 0.8306\n",
            "Epoch 2/100\n",
            "54/54 [==============================] - 5s 90ms/step - loss: 0.8089 - val_loss: 0.7253\n",
            "Epoch 3/100\n",
            "54/54 [==============================] - 4s 73ms/step - loss: 0.6879 - val_loss: 0.6125\n",
            "Epoch 4/100\n",
            "54/54 [==============================] - 4s 71ms/step - loss: 0.6116 - val_loss: 0.5501\n",
            "Epoch 5/100\n",
            "54/54 [==============================] - 5s 102ms/step - loss: 0.5635 - val_loss: 0.5182\n",
            "Epoch 6/100\n",
            "54/54 [==============================] - 4s 69ms/step - loss: 0.5401 - val_loss: 0.4986\n",
            "Epoch 7/100\n",
            "54/54 [==============================] - 4s 69ms/step - loss: 0.5262 - val_loss: 0.4878\n",
            "Epoch 8/100\n",
            "54/54 [==============================] - 5s 85ms/step - loss: 0.5166 - val_loss: 0.4797\n",
            "Epoch 9/100\n",
            "54/54 [==============================] - 4s 81ms/step - loss: 0.5102 - val_loss: 0.4748\n",
            "Epoch 10/100\n",
            "54/54 [==============================] - 4s 72ms/step - loss: 0.5048 - val_loss: 0.4711\n",
            "Epoch 11/100\n",
            "54/54 [==============================] - 4s 76ms/step - loss: 0.5015 - val_loss: 0.4663\n",
            "Epoch 12/100\n",
            "54/54 [==============================] - 5s 101ms/step - loss: 0.4990 - val_loss: 0.4673\n",
            "Epoch 13/100\n",
            "54/54 [==============================] - 4s 72ms/step - loss: 0.4943 - val_loss: 0.4597\n",
            "Epoch 14/100\n",
            "54/54 [==============================] - 4s 74ms/step - loss: 0.4907 - val_loss: 0.4558\n",
            "Epoch 15/100\n",
            "54/54 [==============================] - 5s 98ms/step - loss: 0.4865 - val_loss: 0.4554\n",
            "Epoch 16/100\n",
            "54/54 [==============================] - 4s 68ms/step - loss: 0.4855 - val_loss: 0.4514\n",
            "Epoch 17/100\n",
            "54/54 [==============================] - 4s 72ms/step - loss: 0.4838 - val_loss: 0.4479\n",
            "Epoch 18/100\n",
            "54/54 [==============================] - 4s 82ms/step - loss: 0.4800 - val_loss: 0.4458\n",
            "Epoch 19/100\n",
            "54/54 [==============================] - 5s 88ms/step - loss: 0.4788 - val_loss: 0.4433\n",
            "Epoch 20/100\n",
            "54/54 [==============================] - 4s 73ms/step - loss: 0.4759 - val_loss: 0.4401\n",
            "Epoch 21/100\n",
            "54/54 [==============================] - 4s 70ms/step - loss: 0.4726 - val_loss: 0.4402\n",
            "Epoch 22/100\n",
            "54/54 [==============================] - 5s 96ms/step - loss: 0.4708 - val_loss: 0.4348\n",
            "Epoch 23/100\n",
            "54/54 [==============================] - 4s 72ms/step - loss: 0.4686 - val_loss: 0.4327\n",
            "Epoch 24/100\n",
            "54/54 [==============================] - 4s 68ms/step - loss: 0.4653 - val_loss: 0.4296\n",
            "Epoch 25/100\n",
            "54/54 [==============================] - 5s 100ms/step - loss: 0.4640 - val_loss: 0.4355\n",
            "Epoch 26/100\n",
            "54/54 [==============================] - 4s 75ms/step - loss: 0.4611 - val_loss: 0.4245\n",
            "Epoch 27/100\n",
            "54/54 [==============================] - 4s 72ms/step - loss: 0.4568 - val_loss: 0.4210\n",
            "Epoch 28/100\n",
            "54/54 [==============================] - 5s 98ms/step - loss: 0.4567 - val_loss: 0.4192\n",
            "Epoch 29/100\n",
            "54/54 [==============================] - 4s 79ms/step - loss: 0.4546 - val_loss: 0.4249\n",
            "Epoch 30/100\n",
            "54/54 [==============================] - 4s 66ms/step - loss: 0.4540 - val_loss: 0.4188\n",
            "Epoch 31/100\n",
            "54/54 [==============================] - 5s 85ms/step - loss: 0.4509 - val_loss: 0.4163\n",
            "Epoch 32/100\n",
            "54/54 [==============================] - 5s 87ms/step - loss: 0.4475 - val_loss: 0.4105\n",
            "Epoch 33/100\n",
            "54/54 [==============================] - 4s 70ms/step - loss: 0.4463 - val_loss: 0.4120\n",
            "Epoch 34/100\n",
            "54/54 [==============================] - 4s 72ms/step - loss: 0.4443 - val_loss: 0.4077\n",
            "Epoch 35/100\n",
            "54/54 [==============================] - 5s 100ms/step - loss: 0.4419 - val_loss: 0.4043\n",
            "Epoch 36/100\n",
            "54/54 [==============================] - 4s 68ms/step - loss: 0.4410 - val_loss: 0.4020\n",
            "Epoch 37/100\n",
            "54/54 [==============================] - 4s 69ms/step - loss: 0.4393 - val_loss: 0.4071\n",
            "Epoch 38/100\n",
            "54/54 [==============================] - 5s 91ms/step - loss: 0.4371 - val_loss: 0.3977\n",
            "Epoch 39/100\n",
            "54/54 [==============================] - 4s 80ms/step - loss: 0.4344 - val_loss: 0.3965\n",
            "Epoch 40/100\n",
            "54/54 [==============================] - 4s 73ms/step - loss: 0.4317 - val_loss: 0.3992\n",
            "Epoch 41/100\n",
            "54/54 [==============================] - 5s 87ms/step - loss: 0.4313 - val_loss: 0.3926\n",
            "Epoch 42/100\n",
            "54/54 [==============================] - 5s 89ms/step - loss: 0.4284 - val_loss: 0.3936\n",
            "Epoch 43/100\n",
            "54/54 [==============================] - 4s 74ms/step - loss: 0.4281 - val_loss: 0.4065\n",
            "Epoch 44/100\n",
            "54/54 [==============================] - 4s 72ms/step - loss: 0.4278 - val_loss: 0.3870\n",
            "Epoch 45/100\n",
            "54/54 [==============================] - 5s 100ms/step - loss: 0.4224 - val_loss: 0.3876\n",
            "Epoch 46/100\n",
            "54/54 [==============================] - 4s 71ms/step - loss: 0.4227 - val_loss: 0.3833\n",
            "Epoch 47/100\n",
            "54/54 [==============================] - 6s 104ms/step - loss: 0.4205 - val_loss: 0.3813\n",
            "Epoch 48/100\n",
            "54/54 [==============================] - 6s 102ms/step - loss: 0.4179 - val_loss: 0.3818\n",
            "Epoch 49/100\n",
            "54/54 [==============================] - 4s 70ms/step - loss: 0.4169 - val_loss: 0.3805\n",
            "Epoch 50/100\n",
            "54/54 [==============================] - 4s 72ms/step - loss: 0.4167 - val_loss: 0.3759\n",
            "Epoch 51/100\n",
            "54/54 [==============================] - 5s 102ms/step - loss: 0.4144 - val_loss: 0.3808\n",
            "Epoch 52/100\n",
            "54/54 [==============================] - 4s 74ms/step - loss: 0.4126 - val_loss: 0.3733\n",
            "Epoch 53/100\n",
            "54/54 [==============================] - 4s 72ms/step - loss: 0.4120 - val_loss: 0.3740\n",
            "Epoch 54/100\n",
            "54/54 [==============================] - 5s 90ms/step - loss: 0.4091 - val_loss: 0.3699\n",
            "Epoch 55/100\n",
            "54/54 [==============================] - 4s 79ms/step - loss: 0.4081 - val_loss: 0.3710\n",
            "Epoch 56/100\n",
            "54/54 [==============================] - 4s 70ms/step - loss: 0.4087 - val_loss: 0.3677\n",
            "Epoch 57/100\n",
            "54/54 [==============================] - 4s 72ms/step - loss: 0.4057 - val_loss: 0.3692\n",
            "Epoch 58/100\n",
            "54/54 [==============================] - 5s 102ms/step - loss: 0.4033 - val_loss: 0.3652\n",
            "Epoch 59/100\n",
            "54/54 [==============================] - 4s 73ms/step - loss: 0.4031 - val_loss: 0.3617\n",
            "Epoch 60/100\n",
            "54/54 [==============================] - 4s 71ms/step - loss: 0.4021 - val_loss: 0.3647\n",
            "Epoch 61/100\n",
            "54/54 [==============================] - 6s 113ms/step - loss: 0.4005 - val_loss: 0.3616\n",
            "Epoch 62/100\n",
            "54/54 [==============================] - 4s 73ms/step - loss: 0.3983 - val_loss: 0.3617\n",
            "Epoch 63/100\n",
            "54/54 [==============================] - 4s 73ms/step - loss: 0.3980 - val_loss: 0.3572\n",
            "Epoch 64/100\n",
            "54/54 [==============================] - 6s 106ms/step - loss: 0.3955 - val_loss: 0.3546\n",
            "Epoch 65/100\n",
            "54/54 [==============================] - 4s 77ms/step - loss: 0.3941 - val_loss: 0.3544\n",
            "Epoch 66/100\n",
            "54/54 [==============================] - 4s 72ms/step - loss: 0.3935 - val_loss: 0.3552\n",
            "Epoch 67/100\n",
            "54/54 [==============================] - 5s 95ms/step - loss: 0.3929 - val_loss: 0.3526\n",
            "Epoch 68/100\n",
            "54/54 [==============================] - 4s 81ms/step - loss: 0.3915 - val_loss: 0.3517\n",
            "Epoch 69/100\n",
            "54/54 [==============================] - 4s 73ms/step - loss: 0.3901 - val_loss: 0.3554\n",
            "Epoch 70/100\n",
            "54/54 [==============================] - 5s 90ms/step - loss: 0.3874 - val_loss: 0.3462\n",
            "Epoch 71/100\n",
            "54/54 [==============================] - 5s 86ms/step - loss: 0.3878 - val_loss: 0.3498\n",
            "Epoch 72/100\n",
            "54/54 [==============================] - 4s 73ms/step - loss: 0.3864 - val_loss: 0.3459\n",
            "Epoch 73/100\n",
            "54/54 [==============================] - 4s 73ms/step - loss: 0.3857 - val_loss: 0.3434\n",
            "Epoch 74/100\n",
            "54/54 [==============================] - 5s 100ms/step - loss: 0.3832 - val_loss: 0.3456\n",
            "Epoch 75/100\n",
            "54/54 [==============================] - 4s 69ms/step - loss: 0.3812 - val_loss: 0.3454\n",
            "Epoch 76/100\n",
            "54/54 [==============================] - 4s 67ms/step - loss: 0.3818 - val_loss: 0.3428\n",
            "Epoch 77/100\n",
            "54/54 [==============================] - 5s 94ms/step - loss: 0.3801 - val_loss: 0.3415\n",
            "Epoch 78/100\n",
            "54/54 [==============================] - 4s 80ms/step - loss: 0.3777 - val_loss: 0.3376\n",
            "Epoch 79/100\n",
            "54/54 [==============================] - 4s 72ms/step - loss: 0.3774 - val_loss: 0.3440\n",
            "Epoch 80/100\n",
            "54/54 [==============================] - 5s 89ms/step - loss: 0.3772 - val_loss: 0.3403\n",
            "Epoch 81/100\n",
            "54/54 [==============================] - 4s 82ms/step - loss: 0.3756 - val_loss: 0.3363\n",
            "Epoch 82/100\n",
            "54/54 [==============================] - 4s 69ms/step - loss: 0.3736 - val_loss: 0.3321\n",
            "Epoch 83/100\n",
            "54/54 [==============================] - 4s 74ms/step - loss: 0.3736 - val_loss: 0.3443\n",
            "Epoch 84/100\n",
            "54/54 [==============================] - 6s 104ms/step - loss: 0.3754 - val_loss: 0.3334\n",
            "Epoch 85/100\n",
            "54/54 [==============================] - 4s 76ms/step - loss: 0.3721 - val_loss: 0.3466\n",
            "Epoch 86/100\n",
            "54/54 [==============================] - 4s 75ms/step - loss: 0.3709 - val_loss: 0.3277\n",
            "Epoch 87/100\n",
            "54/54 [==============================] - 6s 110ms/step - loss: 0.3701 - val_loss: 0.3278\n",
            "Epoch 88/100\n",
            "54/54 [==============================] - 4s 70ms/step - loss: 0.3679 - val_loss: 0.3286\n",
            "Epoch 89/100\n",
            "54/54 [==============================] - 4s 69ms/step - loss: 0.3679 - val_loss: 0.3260\n",
            "Epoch 90/100\n",
            "54/54 [==============================] - 6s 103ms/step - loss: 0.3662 - val_loss: 0.3258\n",
            "Epoch 91/100\n",
            "54/54 [==============================] - 4s 76ms/step - loss: 0.3666 - val_loss: 0.3239\n",
            "Epoch 92/100\n",
            "54/54 [==============================] - 4s 70ms/step - loss: 0.3653 - val_loss: 0.3339\n",
            "Epoch 93/100\n",
            "54/54 [==============================] - 5s 88ms/step - loss: 0.3664 - val_loss: 0.3262\n",
            "Epoch 94/100\n",
            "54/54 [==============================] - 5s 84ms/step - loss: 0.3640 - val_loss: 0.3285\n",
            "Epoch 95/100\n",
            "54/54 [==============================] - 4s 69ms/step - loss: 0.3643 - val_loss: 0.3226\n",
            "Epoch 96/100\n",
            "54/54 [==============================] - 4s 71ms/step - loss: 0.3623 - val_loss: 0.3232\n",
            "Epoch 97/100\n",
            "54/54 [==============================] - 5s 102ms/step - loss: 0.3609 - val_loss: 0.3225\n",
            "Epoch 98/100\n",
            "54/54 [==============================] - 4s 75ms/step - loss: 0.3593 - val_loss: 0.3202\n",
            "Epoch 99/100\n",
            "54/54 [==============================] - 4s 74ms/step - loss: 0.3605 - val_loss: 0.3209\n",
            "Epoch 100/100\n",
            "54/54 [==============================] - 5s 101ms/step - loss: 0.3598 - val_loss: 0.3188\n"
          ]
        },
        {
          "output_type": "execute_result",
          "data": {
            "text/plain": [
              "<keras.callbacks.History at 0x7a81be46d150>"
            ]
          },
          "metadata": {},
          "execution_count": 25
        }
      ],
      "source": [
        "#model = get_model(data_train_X_lstm.shape[1:])\n",
        "model.summary()\n",
        "model.compile(optimizer='adam', loss='mse')\n",
        "model.fit(data_train_X_lstm, y=y_train, epochs=100, batch_size=5000, verbose=1, validation_split =0.3, shuffle=True,\n",
        "          callbacks=[callbacks.EarlyStopping(monitor='val_loss', patience=100,verbose=2, mode='auto')])"
      ]
    },
    {
      "cell_type": "markdown",
      "source": [
        "## Metrics and Viz Here"
      ],
      "metadata": {
        "id": "On3zV9flTtr8"
      }
    },
    {
      "cell_type": "code",
      "execution_count": null,
      "metadata": {
        "id": "sIpIyWfDaqNQ",
        "colab": {
          "base_uri": "https://localhost:8080/"
        },
        "outputId": "7388fde6-4f7c-4523-89cc-016d1bc44223"
      },
      "outputs": [
        {
          "output_type": "stream",
          "name": "stdout",
          "text": [
            "Total Time Taken: 1095.474ms\n",
            "Modeling COMPLETE\n"
          ]
        }
      ],
      "source": [
        "endTime = time.time()\n",
        "print(f\"Total Time Taken: {endTime - startTime:.03f}ms\")\n",
        "print(\"Modeling COMPLETE\")"
      ]
    },
    {
      "cell_type": "code",
      "source": [
        "y_pred_train = model.predict(data_train_X_lstm)"
      ],
      "metadata": {
        "id": "gRIPpNYq8qqa",
        "colab": {
          "base_uri": "https://localhost:8080/"
        },
        "outputId": "514cd9f5-23cc-4b51-ca6e-262160f1e93f"
      },
      "execution_count": null,
      "outputs": [
        {
          "output_type": "stream",
          "name": "stdout",
          "text": [
            "11864/11864 [==============================] - 31s 2ms/step\n"
          ]
        }
      ]
    },
    {
      "cell_type": "code",
      "source": [
        "y_pred_train.shape, y_train.shape"
      ],
      "metadata": {
        "id": "69BCJWQ68w3J",
        "colab": {
          "base_uri": "https://localhost:8080/"
        },
        "outputId": "313de591-0358-467d-f542-01cc77d796f5"
      },
      "execution_count": null,
      "outputs": [
        {
          "output_type": "execute_result",
          "data": {
            "text/plain": [
              "((379623, 1), (379623, 1))"
            ]
          },
          "metadata": {},
          "execution_count": 28
        }
      ]
    },
    {
      "cell_type": "code",
      "source": [
        "train_Predict_full_range = scaler_Y.inverse_transform(y_pred_train)\n",
        "data_train_Y_full_range = scaler_Y.inverse_transform(y_train)"
      ],
      "metadata": {
        "id": "Q13UgCPi8xDJ"
      },
      "execution_count": null,
      "outputs": []
    },
    {
      "cell_type": "code",
      "source": [
        "from sklearn.metrics import mean_absolute_error, r2_score, mean_absolute_percentage_error, mean_squared_error\n",
        "\n",
        "print('RMSE:',np.sqrt(mean_squared_error(data_train_Y_full_range, train_Predict_full_range)))\n",
        "print('RMSE Percentage:',rmspe(data_train_Y_full_range, train_Predict_full_range))\n",
        "print('RMSE Percentage-1:',rmspe_1(data_train_Y_full_range, train_Predict_full_range))\n",
        "print('Mean Absolute Error:', mean_absolute_error(data_train_Y_full_range, train_Predict_full_range))\n",
        "print('Mean Absolute Percentage Error:', mean_absolute_percentage_error(data_train_Y_full_range, train_Predict_full_range))\n",
        "print('R^2 Score:', r2_score(data_train_Y_full_range, train_Predict_full_range))"
      ],
      "metadata": {
        "id": "Sm-i9s4q81Vt",
        "colab": {
          "base_uri": "https://localhost:8080/"
        },
        "outputId": "d5d8191f-26e5-4a3d-bcf4-932176c87f3a"
      },
      "execution_count": null,
      "outputs": [
        {
          "output_type": "stream",
          "name": "stdout",
          "text": [
            "RMSE: 101.74126244824154\n",
            "RMSE Percentage: 17589.246551475157\n",
            "RMSE Percentage-1: 192.46279233888606\n",
            "Mean Absolute Error: 74.57751242435795\n",
            "Mean Absolute Percentage Error: 1.8002928340531612\n",
            "R^2 Score: 0.6795804716151881\n"
          ]
        }
      ]
    },
    {
      "cell_type": "code",
      "source": [
        "plt.subplots(figsize=(15, 5))\n",
        "\n",
        "plt.plot(data_train_Y_full_range, color='red', label=\"Ground Truth\") # Y_test_given,y_pred_test\n",
        "plt.plot(train_Predict_full_range, color='blue', label=\"Prediction\")\n",
        "plt.ylabel(\"Ice Bed Height\")\n",
        "plt.xlabel(\"Data Elements\")\n",
        "plt.legend(loc=\"upper left\")\n",
        "plt.show()"
      ],
      "metadata": {
        "id": "GY_ZV8Kj9Dzs",
        "colab": {
          "base_uri": "https://localhost:8080/",
          "height": 465
        },
        "outputId": "2fb0612c-d792-4101-cdd3-dc1bd651a5d0"
      },
      "execution_count": null,
      "outputs": [
        {
          "output_type": "display_data",
          "data": {
            "text/plain": [
              "<Figure size 1500x500 with 1 Axes>"
            ],
            "image/png": "[encoded data removed]"
          },
          "metadata": {}
        }
      ]
    },
    {
      "cell_type": "code",
      "source": [
        "y_predict_test = model.predict(data_test_X_lstm)"
      ],
      "metadata": {
        "id": "skKR4y_d9FsA",
        "colab": {
          "base_uri": "https://localhost:8080/"
        },
        "outputId": "d75e8a69-f8f5-42e5-d374-84c495f88d0a"
      },
      "execution_count": null,
      "outputs": [
        {
          "output_type": "stream",
          "name": "stdout",
          "text": [
            "7909/7909 [==============================] - 19s 2ms/step\n"
          ]
        }
      ]
    },
    {
      "cell_type": "code",
      "source": [
        "y_test.shape, y_predict_test.shape"
      ],
      "metadata": {
        "id": "A7FfK6KK9H6b",
        "colab": {
          "base_uri": "https://localhost:8080/"
        },
        "outputId": "4ceca312-de0b-4c8e-965d-7c3b9c9906ea"
      },
      "execution_count": null,
      "outputs": [
        {
          "output_type": "execute_result",
          "data": {
            "text/plain": [
              "((253083, 1), (253083, 1))"
            ]
          },
          "metadata": {},
          "execution_count": 33
        }
      ]
    },
    {
      "cell_type": "code",
      "source": [
        "test_Predict_full_range = scaler_Y.inverse_transform(y_predict_test)\n",
        "data_test_Y_full_range = scaler_Y.inverse_transform(y_test)"
      ],
      "metadata": {
        "id": "QqHCnsSm9zL2"
      },
      "execution_count": null,
      "outputs": []
    },
    {
      "cell_type": "code",
      "source": [
        "from sklearn.metrics import mean_absolute_error, r2_score, mean_absolute_percentage_error\n",
        "\n",
        "print('RMSE:',np.sqrt(mean_squared_error(data_test_Y_full_range, test_Predict_full_range)))\n",
        "print('RMSE Percentage:',rmspe(data_test_Y_full_range, test_Predict_full_range))\n",
        "print('RMSE Percentage-1:',rmspe_1(data_test_Y_full_range, test_Predict_full_range))\n",
        "print('Mean Absolute Error:', mean_absolute_error(data_test_Y_full_range, test_Predict_full_range))\n",
        "print('Mean Absolute Percentage Error:', mean_absolute_percentage_error(data_test_Y_full_range, test_Predict_full_range))\n",
        "print('R^2 Score:', r2_score(data_test_Y_full_range, test_Predict_full_range))"
      ],
      "metadata": {
        "id": "7ydOJEJw9zp5",
        "colab": {
          "base_uri": "https://localhost:8080/"
        },
        "outputId": "2f897d74-03e1-4681-d8eb-069299a1f2e4"
      },
      "execution_count": null,
      "outputs": [
        {
          "output_type": "stream",
          "name": "stdout",
          "text": [
            "RMSE: 101.6302716750478\n",
            "RMSE Percentage: 6409.001744440657\n",
            "RMSE Percentage-1: 550.030020884077\n",
            "Mean Absolute Error: 74.52218215035711\n",
            "Mean Absolute Percentage Error: 1.3705143818524248\n",
            "R^2 Score: 0.6815056111788546\n"
          ]
        }
      ]
    },
    {
      "cell_type": "code",
      "source": [
        "y_Predict_1201 = model.predict(data_1201_X_lstm)"
      ],
      "metadata": {
        "id": "xgiDJQMv91da",
        "colab": {
          "base_uri": "https://localhost:8080/"
        },
        "outputId": "6838c5b3-ecf3-4909-93d6-1913510b7cc9"
      },
      "execution_count": null,
      "outputs": [
        {
          "output_type": "stream",
          "name": "stdout",
          "text": [
            "45076/45076 [==============================] - 114s 3ms/step\n"
          ]
        }
      ]
    },
    {
      "cell_type": "code",
      "source": [
        "y_Predict_1201.shape"
      ],
      "metadata": {
        "id": "CpMBlbso938q",
        "colab": {
          "base_uri": "https://localhost:8080/"
        },
        "outputId": "64678136-de91-4611-ee60-8b4181f69fa5"
      },
      "execution_count": null,
      "outputs": [
        {
          "output_type": "execute_result",
          "data": {
            "text/plain": [
              "(1442401, 1)"
            ]
          },
          "metadata": {},
          "execution_count": 37
        }
      ]
    },
    {
      "cell_type": "code",
      "source": [
        "y_Predict_1201_full = scaler_Y.inverse_transform(y_Predict_1201)"
      ],
      "metadata": {
        "id": "sSAmV2Sq98Tb"
      },
      "execution_count": null,
      "outputs": []
    },
    {
      "cell_type": "code",
      "source": [
        "y_Predict_1201_full_flatten=y_Predict_1201_full.flatten()"
      ],
      "metadata": {
        "id": "wN4qCXD399lT"
      },
      "execution_count": null,
      "outputs": []
    },
    {
      "cell_type": "code",
      "source": [
        "prediction_on_1201_2D=y_Predict_1201_full_flatten.reshape(1201,1201)\n",
        "prediction_on_1201_2D.shape"
      ],
      "metadata": {
        "id": "olDfjZCf9-Qx",
        "colab": {
          "base_uri": "https://localhost:8080/"
        },
        "outputId": "6ad948be-0aa2-4711-f1c5-466de16911e4"
      },
      "execution_count": null,
      "outputs": [
        {
          "output_type": "execute_result",
          "data": {
            "text/plain": [
              "(1201, 1201)"
            ]
          },
          "metadata": {},
          "execution_count": 40
        }
      ]
    },
    {
      "cell_type": "code",
      "source": [
        "import h5py\n",
        "\n",
        "new_filename_2 = '/content/drive/MyDrive/REU 2023 Team 1: Ice Bed Topography Prediction/Research/Chen_Work/Old Models/LSTM_Vmag.h5'\n",
        "\n",
        "with h5py.File(new_filename_2, 'w') as hf:\n",
        "    hf.create_dataset(\"track bed prediction\",  data=prediction_on_1201_2D)"
      ],
      "metadata": {
        "id": "BeJMNQMe-CoK"
      },
      "execution_count": null,
      "outputs": []
    },
    {
      "cell_type": "code",
      "source": [
        "import matplotlib.pyplot as plt\n",
        "plt.imshow(np.transpose(prediction_on_1201_2D), cmap=\"seismic\")\n",
        "#plt.imshow(a.squeeze(), cmap=\"seismic\", interpolation=\"nearest\") # new interpolated data\n",
        "plt.title('Track Bed Prediction')\n",
        "plt.xlabel('x-axis')\n",
        "plt.ylabel('y-axis')\n",
        "plt.colorbar(label=\"Color-bar\", orientation=\"horizontal\")"
      ],
      "metadata": {
        "id": "3rOXxF3x-E1v",
        "colab": {
          "base_uri": "https://localhost:8080/",
          "height": 459
        },
        "outputId": "06152982-7888-45c0-e885-026e56537581"
      },
      "execution_count": null,
      "outputs": [
        {
          "output_type": "execute_result",
          "data": {
            "text/plain": [
              "<matplotlib.colorbar.Colorbar at 0x7a81b66945b0>"
            ]
          },
          "metadata": {},
          "execution_count": 42
        },
        {
          "output_type": "display_data",
          "data": {
            "text/plain": [
              "<Figure size 640x480 with 2 Axes>"
            ],
            "image/png": "[encoded data removed]"
          },
          "metadata": {}
        }
      ]
    }
  ],
  "metadata": {
    "colab": {
      "provenance": []
    },
    "kernelspec": {
      "display_name": "Python 3",
      "name": "python3"
    },
    "language_info": {
      "name": "python"
    }
  },
  "nbformat": 4,
  "nbformat_minor": 0
}