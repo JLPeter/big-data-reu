{
  "metadata": {
    "kernelspec": {
      "language": "python",
      "display_name": "Python 3",
      "name": "python3"
    },
    "language_info": {
      "name": "python",
      "version": "3.7.12",
      "mimetype": "text/x-python",
      "codemirror_mode": {
        "name": "ipython",
        "version": 3
      },
      "pygments_lexer": "ipython3",
      "nbconvert_exporter": "python",
      "file_extension": ".py"
    },
    "colab": {
      "provenance": []
    }
  },
  "nbformat_minor": 0,
  "nbformat": 4,
  "cells": [
    {
      "cell_type": "code",
      "source": [
        "# This Python 3 environment comes with many helpful analytics libraries installed\n",
        "# It is defined by the kaggle/python Docker image: https://github.com/kaggle/docker-python\n",
        "# For example, here's several helpful packages to load\n",
        "\n",
        "import numpy as np # linear algebra\n",
        "import pandas as pd # data processing, CSV file I/O (e.g. pd.read_csv)\n",
        "\n",
        "# Input data files are available in the read-only \"../input/\" directory\n",
        "# For example, running this (by clicking run or pressing Shift+Enter) will list all files under the input directory\n",
        "\n",
        "import os\n",
        "for dirname, _, filenames in os.walk('/kaggle/input'):\n",
        "    for filename in filenames:\n",
        "        print(os.path.join(dirname, filename))\n",
        "\n",
        "# You can write up to 20GB to the current directory (/kaggle/working/) that gets preserved as output when you create a version using \"Save & Run All\"\n",
        "# You can also write temporary files to /kaggle/temp/, but they won't be saved outside of the current session"
      ],
      "metadata": {
        "_uuid": "8f2839f25d086af736a60e9eeb907d3b93b6e0e5",
        "_cell_guid": "b1076dfc-b9ad-4769-8c92-a6c4dae69d19",
        "execution": {
          "iopub.status.busy": "2022-08-19T14:06:23.501046Z",
          "iopub.execute_input": "2022-08-19T14:06:23.501483Z",
          "iopub.status.idle": "2022-08-19T14:06:23.534287Z",
          "shell.execute_reply.started": "2022-08-19T14:06:23.501411Z",
          "shell.execute_reply": "2022-08-19T14:06:23.533325Z"
        },
        "trusted": true,
        "id": "eWq-CDD8YJwU"
      },
      "execution_count": null,
      "outputs": []
    },
    {
      "cell_type": "markdown",
      "source": [
        "# Reading data"
      ],
      "metadata": {
        "id": "PNeHbBlkYJwW"
      }
    },
    {
      "cell_type": "code",
      "source": [
        "import h5py\n",
        "h5_file_location = '../input/hackathon/hackathon (2).h5'\n",
        "df = h5py.File(h5_file_location, 'r')\n",
        "\n",
        "def keys(s):\n",
        "    return [key for key in s.keys()]\n",
        "print(keys(df))"
      ],
      "metadata": {
        "execution": {
          "iopub.status.busy": "2022-08-19T14:33:47.536894Z",
          "iopub.execute_input": "2022-08-19T14:33:47.537473Z",
          "iopub.status.idle": "2022-08-19T14:33:47.546124Z",
          "shell.execute_reply.started": "2022-08-19T14:33:47.537430Z",
          "shell.execute_reply": "2022-08-19T14:33:47.545188Z"
        },
        "trusted": true,
        "id": "-metbRwVYJwY"
      },
      "execution_count": null,
      "outputs": []
    },
    {
      "cell_type": "code",
      "source": [
        "df.keys()"
      ],
      "metadata": {
        "execution": {
          "iopub.status.busy": "2022-08-19T14:33:49.770560Z",
          "iopub.execute_input": "2022-08-19T14:33:49.771325Z",
          "iopub.status.idle": "2022-08-19T14:33:49.778200Z",
          "shell.execute_reply.started": "2022-08-19T14:33:49.771287Z",
          "shell.execute_reply": "2022-08-19T14:33:49.776819Z"
        },
        "trusted": true,
        "id": "P_lt7u--YJwZ"
      },
      "execution_count": null,
      "outputs": []
    },
    {
      "cell_type": "code",
      "source": [
        "track_bed_training =df.get('track_bed_training')\n",
        "track_bed_training\n",
        "track_bed_training = pd.DataFrame(track_bed_training)\n",
        "track_bed_training"
      ],
      "metadata": {
        "execution": {
          "iopub.status.busy": "2022-08-19T14:33:52.133597Z",
          "iopub.execute_input": "2022-08-19T14:33:52.134175Z",
          "iopub.status.idle": "2022-08-19T14:34:02.533754Z",
          "shell.execute_reply.started": "2022-08-19T14:33:52.134142Z",
          "shell.execute_reply": "2022-08-19T14:34:02.532780Z"
        },
        "trusted": true,
        "id": "KyDoatwnYJwZ"
      },
      "execution_count": null,
      "outputs": []
    },
    {
      "cell_type": "markdown",
      "source": [
        "# Test data set"
      ],
      "metadata": {
        "id": "G6bVuqUNYJwa"
      }
    },
    {
      "cell_type": "code",
      "source": [
        "track_bed_test =df.get('track_bed_testing')\n",
        "track_bed_test\n",
        "track_bed_test = pd.DataFrame(track_bed_testing)\n",
        "track_bed_test\n"
      ],
      "metadata": {
        "execution": {
          "iopub.status.busy": "2022-08-19T15:08:18.223473Z",
          "iopub.execute_input": "2022-08-19T15:08:18.223858Z",
          "iopub.status.idle": "2022-08-19T15:08:18.253048Z",
          "shell.execute_reply.started": "2022-08-19T15:08:18.223828Z",
          "shell.execute_reply": "2022-08-19T15:08:18.252056Z"
        },
        "trusted": true,
        "id": "OpuOz78kYJwa"
      },
      "execution_count": null,
      "outputs": []
    },
    {
      "cell_type": "code",
      "source": [
        "x_test= track_bed_testing.iloc[0]\n",
        "x_test"
      ],
      "metadata": {
        "execution": {
          "iopub.status.busy": "2022-08-19T15:09:11.373253Z",
          "iopub.execute_input": "2022-08-19T15:09:11.373612Z",
          "iopub.status.idle": "2022-08-19T15:09:11.381591Z",
          "shell.execute_reply.started": "2022-08-19T15:09:11.373583Z",
          "shell.execute_reply": "2022-08-19T15:09:11.380588Z"
        },
        "trusted": true,
        "id": "l1doS7HTYJwb"
      },
      "execution_count": null,
      "outputs": []
    },
    {
      "cell_type": "code",
      "source": [
        "y_test=track_bed_testing.iloc[1]\n",
        "y_test"
      ],
      "metadata": {
        "execution": {
          "iopub.status.busy": "2022-08-19T15:09:40.989775Z",
          "iopub.execute_input": "2022-08-19T15:09:40.990121Z",
          "iopub.status.idle": "2022-08-19T15:09:40.999014Z",
          "shell.execute_reply.started": "2022-08-19T15:09:40.990092Z",
          "shell.execute_reply": "2022-08-19T15:09:40.997952Z"
        },
        "trusted": true,
        "id": "iFHnZzxDYJwb"
      },
      "execution_count": null,
      "outputs": []
    },
    {
      "cell_type": "markdown",
      "source": [
        "# Train data set"
      ],
      "metadata": {
        "id": "6FdXgl3TYJwc"
      }
    },
    {
      "cell_type": "code",
      "source": [
        "x= track_bed_training.iloc[0]\n",
        "x"
      ],
      "metadata": {
        "execution": {
          "iopub.status.busy": "2022-08-19T15:35:38.202771Z",
          "iopub.execute_input": "2022-08-19T15:35:38.203349Z",
          "iopub.status.idle": "2022-08-19T15:35:38.213764Z",
          "shell.execute_reply.started": "2022-08-19T15:35:38.203316Z",
          "shell.execute_reply": "2022-08-19T15:35:38.212774Z"
        },
        "trusted": true,
        "id": "YiOEKxV3YJwc"
      },
      "execution_count": null,
      "outputs": []
    },
    {
      "cell_type": "code",
      "source": [
        "y=track_bed_training.iloc[1]\n",
        "y"
      ],
      "metadata": {
        "execution": {
          "iopub.status.busy": "2022-08-19T15:35:42.523335Z",
          "iopub.execute_input": "2022-08-19T15:35:42.523729Z",
          "iopub.status.idle": "2022-08-19T15:35:42.532670Z",
          "shell.execute_reply.started": "2022-08-19T15:35:42.523697Z",
          "shell.execute_reply": "2022-08-19T15:35:42.531804Z"
        },
        "trusted": true,
        "id": "jqnpbYx4YJwc"
      },
      "execution_count": null,
      "outputs": []
    },
    {
      "cell_type": "code",
      "source": [
        "target=track_bed_training.iloc[2]\n",
        "target"
      ],
      "metadata": {
        "execution": {
          "iopub.status.busy": "2022-08-19T15:35:45.250623Z",
          "iopub.execute_input": "2022-08-19T15:35:45.251197Z",
          "iopub.status.idle": "2022-08-19T15:35:45.259279Z",
          "shell.execute_reply.started": "2022-08-19T15:35:45.251162Z",
          "shell.execute_reply": "2022-08-19T15:35:45.258257Z"
        },
        "trusted": true,
        "id": "0wXeEmOGYJwd"
      },
      "execution_count": null,
      "outputs": []
    },
    {
      "cell_type": "code",
      "source": [
        "surf_x =df.get('surf_x')\n",
        "surf_x = pd.DataFrame(surf_x)\n",
        "surf_x"
      ],
      "metadata": {
        "execution": {
          "iopub.status.busy": "2022-08-19T15:35:48.716604Z",
          "iopub.execute_input": "2022-08-19T15:35:48.717258Z",
          "iopub.status.idle": "2022-08-19T15:35:49.220660Z",
          "shell.execute_reply.started": "2022-08-19T15:35:48.717219Z",
          "shell.execute_reply": "2022-08-19T15:35:49.219698Z"
        },
        "trusted": true,
        "id": "BjjwqePnYJwe"
      },
      "execution_count": null,
      "outputs": []
    },
    {
      "cell_type": "code",
      "source": [
        "surf_y =df.get('surf_y')\n",
        "surf_y = pd.DataFrame(surf_y)\n",
        "surf_y"
      ],
      "metadata": {
        "execution": {
          "iopub.status.busy": "2022-08-19T15:35:52.150306Z",
          "iopub.execute_input": "2022-08-19T15:35:52.150672Z",
          "iopub.status.idle": "2022-08-19T15:35:52.646599Z",
          "shell.execute_reply.started": "2022-08-19T15:35:52.150641Z",
          "shell.execute_reply": "2022-08-19T15:35:52.645642Z"
        },
        "trusted": true,
        "id": "MMpFHFRAYJwe"
      },
      "execution_count": null,
      "outputs": []
    },
    {
      "cell_type": "code",
      "source": [
        "surf_vx =df.get('surf_vx')\n",
        "surf_vx = pd.DataFrame(surf_vx)\n",
        "surf_vx"
      ],
      "metadata": {
        "execution": {
          "iopub.status.busy": "2022-08-19T15:35:55.369814Z",
          "iopub.execute_input": "2022-08-19T15:35:55.370378Z",
          "iopub.status.idle": "2022-08-19T15:35:55.852857Z",
          "shell.execute_reply.started": "2022-08-19T15:35:55.370344Z",
          "shell.execute_reply": "2022-08-19T15:35:55.851648Z"
        },
        "trusted": true,
        "id": "DHhWjNpbYJwe"
      },
      "execution_count": null,
      "outputs": []
    },
    {
      "cell_type": "code",
      "source": [
        "surf_SMB=df.get('surf_SMB')\n",
        "surf_SMB = pd.DataFrame(surf_SMB)\n",
        "surf_SMB"
      ],
      "metadata": {
        "execution": {
          "iopub.status.busy": "2022-08-19T15:35:59.151138Z",
          "iopub.execute_input": "2022-08-19T15:35:59.151705Z",
          "iopub.status.idle": "2022-08-19T15:35:59.580014Z",
          "shell.execute_reply.started": "2022-08-19T15:35:59.151670Z",
          "shell.execute_reply": "2022-08-19T15:35:59.578918Z"
        },
        "trusted": true,
        "id": "th6CTV4aYJwf"
      },
      "execution_count": null,
      "outputs": []
    },
    {
      "cell_type": "code",
      "source": [
        "surf_dhdt=df.get('surf_dhdt')\n",
        "surf_dhdt = pd.DataFrame(surf_dhdt)\n",
        "surf_dhdt"
      ],
      "metadata": {
        "execution": {
          "iopub.status.busy": "2022-08-19T15:36:02.537779Z",
          "iopub.execute_input": "2022-08-19T15:36:02.538347Z",
          "iopub.status.idle": "2022-08-19T15:36:03.003878Z",
          "shell.execute_reply.started": "2022-08-19T15:36:02.538314Z",
          "shell.execute_reply": "2022-08-19T15:36:03.002685Z"
        },
        "trusted": true,
        "id": "PRA6KKONYJwg"
      },
      "execution_count": null,
      "outputs": []
    },
    {
      "cell_type": "code",
      "source": [
        "surf_elv=df.get('surf_elv')\n",
        "surf_elv = pd.DataFrame(surf_elv)\n",
        "surf_elv"
      ],
      "metadata": {
        "execution": {
          "iopub.status.busy": "2022-08-19T15:36:05.275319Z",
          "iopub.execute_input": "2022-08-19T15:36:05.275692Z",
          "iopub.status.idle": "2022-08-19T15:36:05.725312Z",
          "shell.execute_reply.started": "2022-08-19T15:36:05.275661Z",
          "shell.execute_reply": "2022-08-19T15:36:05.724221Z"
        },
        "trusted": true,
        "id": "eGNtmsRtYJwg"
      },
      "execution_count": null,
      "outputs": []
    },
    {
      "cell_type": "code",
      "source": [
        "track_bed_testing=df.get('track_bed_testing')\n",
        "track_bed_testing = pd.DataFrame(track_bed_testing)\n",
        "track_bed_testing"
      ],
      "metadata": {
        "execution": {
          "iopub.status.busy": "2022-08-19T15:36:08.248599Z",
          "iopub.execute_input": "2022-08-19T15:36:08.249176Z",
          "iopub.status.idle": "2022-08-19T15:36:14.619559Z",
          "shell.execute_reply.started": "2022-08-19T15:36:08.249141Z",
          "shell.execute_reply": "2022-08-19T15:36:14.618635Z"
        },
        "trusted": true,
        "id": "mIpZtI7uYJwg"
      },
      "execution_count": null,
      "outputs": []
    },
    {
      "cell_type": "code",
      "source": [
        "surf_x.iloc[-1,0]"
      ],
      "metadata": {
        "trusted": true,
        "id": "GYVsmdPNYJwh"
      },
      "execution_count": null,
      "outputs": []
    },
    {
      "cell_type": "code",
      "source": [
        "track_bed_training .iloc[0]"
      ],
      "metadata": {
        "trusted": true,
        "id": "DBJx3Z4HYJwh"
      },
      "execution_count": null,
      "outputs": []
    },
    {
      "cell_type": "code",
      "source": [
        "surf_x.iloc[0,0]"
      ],
      "metadata": {
        "trusted": true,
        "id": "upTnRJJ1YJwi"
      },
      "execution_count": null,
      "outputs": []
    },
    {
      "cell_type": "markdown",
      "source": [
        "# Preprocessing data"
      ],
      "metadata": {
        "id": "_KEvAfgZYJwi"
      }
    },
    {
      "cell_type": "markdown",
      "source": [
        "# Train"
      ],
      "metadata": {
        "id": "XuJXbbQjYJwj"
      }
    },
    {
      "cell_type": "code",
      "source": [
        "# X\n",
        "loc_x=(surf_x.iloc[0,0])\n",
        "loc_x=(x-loc_x)/150\n",
        "loc_x=round(loc_x).astype(int)\n",
        "loc_x=abs(loc_x)\n",
        "loc_x"
      ],
      "metadata": {
        "execution": {
          "iopub.status.busy": "2022-08-19T15:36:30.926303Z",
          "iopub.execute_input": "2022-08-19T15:36:30.926653Z",
          "iopub.status.idle": "2022-08-19T15:36:30.942005Z",
          "shell.execute_reply.started": "2022-08-19T15:36:30.926622Z",
          "shell.execute_reply": "2022-08-19T15:36:30.940900Z"
        },
        "trusted": true,
        "id": "3t8Z6Yb5YJwj"
      },
      "execution_count": null,
      "outputs": []
    },
    {
      "cell_type": "code",
      "source": [
        "df1 = pd.DataFrame(ex_x)\n",
        "df1.iloc[1000]"
      ],
      "metadata": {
        "trusted": true,
        "id": "Q6C_ho_sYJwj"
      },
      "execution_count": null,
      "outputs": []
    },
    {
      "cell_type": "code",
      "source": [
        "ex_x.shape"
      ],
      "metadata": {
        "trusted": true,
        "id": "4axQIRjMYJwk"
      },
      "execution_count": null,
      "outputs": []
    },
    {
      "cell_type": "code",
      "source": [
        "#Y\n",
        "loc_y=surf_y.iloc[-1,0]\n",
        "loc_y=(y-loc_y)/150\n",
        "loc_y=-(round(loc_y).astype(int))\n",
        "#loc_y=abs(loc_y)\n",
        "loc_y"
      ],
      "metadata": {
        "execution": {
          "iopub.status.busy": "2022-08-19T15:36:33.957934Z",
          "iopub.execute_input": "2022-08-19T15:36:33.958954Z",
          "iopub.status.idle": "2022-08-19T15:36:33.973517Z",
          "shell.execute_reply.started": "2022-08-19T15:36:33.958908Z",
          "shell.execute_reply": "2022-08-19T15:36:33.972577Z"
        },
        "trusted": true,
        "id": "JwVdS0iEYJwk"
      },
      "execution_count": null,
      "outputs": []
    },
    {
      "cell_type": "code",
      "source": [
        "surf_y.iloc[10,0]"
      ],
      "metadata": {
        "trusted": true,
        "id": "NcVaSX1ZYJwk"
      },
      "execution_count": null,
      "outputs": []
    },
    {
      "cell_type": "code",
      "source": [
        "surf_y.shape"
      ],
      "metadata": {
        "trusted": true,
        "id": "JBO56aiPYJwl"
      },
      "execution_count": null,
      "outputs": []
    },
    {
      "cell_type": "code",
      "source": [
        "df1 = pd.DataFrame(ex_y)\n",
        "df1.iloc[1000]"
      ],
      "metadata": {
        "trusted": true,
        "id": "sRuBairBYJwl"
      },
      "execution_count": null,
      "outputs": []
    },
    {
      "cell_type": "code",
      "source": [
        "# 4  869\n",
        "ex_y=(y-ex_y)/150*4"
      ],
      "metadata": {
        "id": "VT_3BxULYJwl"
      },
      "execution_count": null,
      "outputs": []
    },
    {
      "cell_type": "code",
      "source": [
        "surf_vx =df.get('surf_vx')\n",
        "surf_vx = pd.DataFrame(surf_vx)\n",
        "surf_vx"
      ],
      "metadata": {
        "trusted": true,
        "id": "BpW7GqH7YJwl"
      },
      "execution_count": null,
      "outputs": []
    },
    {
      "cell_type": "code",
      "source": [
        "p=surf_vx.iloc[960,232]\n",
        "p"
      ],
      "metadata": {
        "trusted": true,
        "id": "ifn6NlX1YJwl"
      },
      "execution_count": null,
      "outputs": []
    },
    {
      "cell_type": "code",
      "source": [
        "# surf_vx\n",
        "A = [int(loc_x) for loc_x in loc_x]\n",
        "B = [int(loc_y) for loc_y in loc_y]\n"
      ],
      "metadata": {
        "execution": {
          "iopub.status.busy": "2022-08-19T15:37:38.588167Z",
          "iopub.execute_input": "2022-08-19T15:37:38.589123Z",
          "iopub.status.idle": "2022-08-19T15:37:38.763614Z",
          "shell.execute_reply.started": "2022-08-19T15:37:38.589086Z",
          "shell.execute_reply": "2022-08-19T15:37:38.762653Z"
        },
        "trusted": true,
        "id": "mm27JIx_YJwm"
      },
      "execution_count": null,
      "outputs": []
    },
    {
      "cell_type": "code",
      "source": [
        "df1 = pd.DataFrame(surf_vx_arr)\n",
        "df1.shape"
      ],
      "metadata": {
        "execution": {
          "iopub.status.busy": "2022-08-18T23:21:09.232643Z",
          "iopub.execute_input": "2022-08-18T23:21:09.233227Z",
          "iopub.status.idle": "2022-08-18T23:21:09.311820Z",
          "shell.execute_reply.started": "2022-08-18T23:21:09.233194Z",
          "shell.execute_reply": "2022-08-18T23:21:09.310820Z"
        },
        "trusted": true,
        "id": "7b0ERIMKYJwm"
      },
      "execution_count": null,
      "outputs": []
    },
    {
      "cell_type": "code",
      "source": [
        "surf_vx_arr"
      ],
      "metadata": {
        "execution": {
          "iopub.status.busy": "2022-08-19T14:53:04.470096Z",
          "iopub.execute_input": "2022-08-19T14:53:04.470439Z",
          "iopub.status.idle": "2022-08-19T14:53:04.476697Z",
          "shell.execute_reply.started": "2022-08-19T14:53:04.470410Z",
          "shell.execute_reply": "2022-08-19T14:53:04.475799Z"
        },
        "trusted": true,
        "id": "tzwwWTsjYJwm"
      },
      "execution_count": null,
      "outputs": []
    },
    {
      "cell_type": "code",
      "source": [
        "df1.iloc[150,0]"
      ],
      "metadata": {
        "execution": {
          "iopub.status.busy": "2022-08-18T23:23:37.377003Z",
          "iopub.execute_input": "2022-08-18T23:23:37.378147Z",
          "iopub.status.idle": "2022-08-18T23:23:37.385268Z",
          "shell.execute_reply.started": "2022-08-18T23:23:37.378104Z",
          "shell.execute_reply": "2022-08-18T23:23:37.384245Z"
        },
        "trusted": true,
        "id": "nv9eqALzYJwm"
      },
      "execution_count": null,
      "outputs": []
    },
    {
      "cell_type": "code",
      "source": [
        "surf_vx_arr=[]\n",
        "for (i,j) in zip(A,B):\n",
        "    f_surf_vx=(df[('surf_vx')][i,j] )\n",
        "    surf_vx_arr.append(f_surf_vx)\n",
        "surf_vy_arr=[]\n",
        "for (i,j) in zip(A,B):\n",
        "    f_surf_vy=(df[('surf_vy')][i,j] )\n",
        "    surf_vy_arr.append(f_surf_vy)\n",
        "surf_SMB_arr=[]\n",
        "for (i,j) in zip(A,B):\n",
        "    f_surf_SMB=(df[('surf_SMB')][i,j] )\n",
        "    surf_SMB_arr.append(f_surf_SMB)\n",
        "surf_dhdt_arr=[]\n",
        "for (i,j) in zip(A,B):\n",
        "    f_surf_dhdt=(df[('surf_dhdt')][i,j] )\n",
        "    surf_dhdt_arr.append(f_surf_dhdt)\n",
        "surf_elv_arr=[]\n",
        "for (i,j) in zip(A,B):\n",
        "    f_surf_elv=(df[('surf_elv')][i,j] )\n",
        "    surf_elv_arr.append(f_surf_elv)\n"
      ],
      "metadata": {
        "execution": {
          "iopub.status.busy": "2022-08-19T15:39:21.461349Z",
          "iopub.execute_input": "2022-08-19T15:39:21.461707Z",
          "iopub.status.idle": "2022-08-19T15:44:07.874163Z",
          "shell.execute_reply.started": "2022-08-19T15:39:21.461676Z",
          "shell.execute_reply": "2022-08-19T15:44:07.873207Z"
        },
        "trusted": true,
        "id": "TkCGXqIwYJwn"
      },
      "execution_count": null,
      "outputs": []
    },
    {
      "cell_type": "code",
      "source": [],
      "metadata": {
        "id": "LqDhFt5JYJwn"
      },
      "execution_count": null,
      "outputs": []
    },
    {
      "cell_type": "code",
      "source": [
        "import pandas as pd\n",
        "import numpy as np\n",
        "\n",
        "dataset = pd.DataFrame({'surf_vx': surf_vx_arr, 'surf_vy': surf_vy_arr,'surf_SMB':surf_SMB_arr,'surf_elv': surf_elv_arr,'surf_dhdt':surf_dhdt_arr\n",
        "                       ,'x':x,'y':y,'target':target},\n",
        "                       columns=['surf_vx', 'surf_vy','surf_SMB','surf_elv','surf_dhdt','x','y','target'])\n",
        "dataset"
      ],
      "metadata": {
        "execution": {
          "iopub.status.busy": "2022-08-19T15:44:16.061651Z",
          "iopub.execute_input": "2022-08-19T15:44:16.062014Z",
          "iopub.status.idle": "2022-08-19T15:44:16.473235Z",
          "shell.execute_reply.started": "2022-08-19T15:44:16.061984Z",
          "shell.execute_reply": "2022-08-19T15:44:16.472134Z"
        },
        "trusted": true,
        "id": "fVpi3UHnYJwn"
      },
      "execution_count": null,
      "outputs": []
    },
    {
      "cell_type": "code",
      "source": [
        "dataset.to_csv('Hack_train.csv',index=False)"
      ],
      "metadata": {
        "execution": {
          "iopub.status.busy": "2022-08-19T15:45:39.375825Z",
          "iopub.execute_input": "2022-08-19T15:45:39.376175Z",
          "iopub.status.idle": "2022-08-19T15:45:42.482704Z",
          "shell.execute_reply.started": "2022-08-19T15:45:39.376147Z",
          "shell.execute_reply": "2022-08-19T15:45:42.481764Z"
        },
        "trusted": true,
        "id": "E_LpsEgGYJwn"
      },
      "execution_count": null,
      "outputs": []
    },
    {
      "cell_type": "markdown",
      "source": [
        "# Test data set"
      ],
      "metadata": {
        "id": "KjdwDFuiYJwn"
      }
    },
    {
      "cell_type": "code",
      "source": [
        "x_test= track_bed_testing.iloc[0]\n",
        "x_test"
      ],
      "metadata": {
        "execution": {
          "iopub.status.busy": "2022-08-19T15:46:37.866874Z",
          "iopub.execute_input": "2022-08-19T15:46:37.867399Z",
          "iopub.status.idle": "2022-08-19T15:46:37.880683Z",
          "shell.execute_reply.started": "2022-08-19T15:46:37.867363Z",
          "shell.execute_reply": "2022-08-19T15:46:37.879533Z"
        },
        "trusted": true,
        "id": "mJm_WMzBYJwo"
      },
      "execution_count": null,
      "outputs": []
    },
    {
      "cell_type": "code",
      "source": [
        "# X\n",
        "loc_x=(surf_x.iloc[0,0])\n",
        "loc_x=(x_test-loc_x)/150\n",
        "loc_x=round(loc_x).astype(int)\n",
        "loc_x=abs(loc_x)\n",
        "loc_x"
      ],
      "metadata": {
        "execution": {
          "iopub.status.busy": "2022-08-19T15:46:40.288498Z",
          "iopub.execute_input": "2022-08-19T15:46:40.288875Z",
          "iopub.status.idle": "2022-08-19T15:46:40.330604Z",
          "shell.execute_reply.started": "2022-08-19T15:46:40.288843Z",
          "shell.execute_reply": "2022-08-19T15:46:40.329651Z"
        },
        "trusted": true,
        "id": "9Dmnsl36YJwo"
      },
      "execution_count": null,
      "outputs": []
    },
    {
      "cell_type": "code",
      "source": [],
      "metadata": {
        "id": "iQtqgLLFYJwo"
      },
      "execution_count": null,
      "outputs": []
    },
    {
      "cell_type": "code",
      "source": [
        "y_test=track_bed_testing.iloc[1]\n",
        "y_test"
      ],
      "metadata": {
        "execution": {
          "iopub.status.busy": "2022-08-19T15:51:26.091366Z",
          "iopub.execute_input": "2022-08-19T15:51:26.091719Z",
          "iopub.status.idle": "2022-08-19T15:51:26.101843Z",
          "shell.execute_reply.started": "2022-08-19T15:51:26.091689Z",
          "shell.execute_reply": "2022-08-19T15:51:26.100786Z"
        },
        "trusted": true,
        "id": "jbqWqIgNYJwo"
      },
      "execution_count": null,
      "outputs": []
    },
    {
      "cell_type": "code",
      "source": [
        "#Y\n",
        "loc_y=surf_y.iloc[-1,0]\n",
        "loc_y=(y_test-loc_y)/150\n",
        "loc_y=-(round(loc_y).astype(int))\n",
        "#loc_y=abs(loc_y)\n",
        "loc_y"
      ],
      "metadata": {
        "execution": {
          "iopub.status.busy": "2022-08-19T15:51:28.500578Z",
          "iopub.execute_input": "2022-08-19T15:51:28.501510Z",
          "iopub.status.idle": "2022-08-19T15:51:28.513666Z",
          "shell.execute_reply.started": "2022-08-19T15:51:28.501472Z",
          "shell.execute_reply": "2022-08-19T15:51:28.512669Z"
        },
        "trusted": true,
        "id": "mbpPYTRyYJwo"
      },
      "execution_count": null,
      "outputs": []
    },
    {
      "cell_type": "code",
      "source": [
        "A = [int(loc_x) for loc_x in loc_x]\n",
        "B = [int(loc_y) for loc_y in loc_y]"
      ],
      "metadata": {
        "execution": {
          "iopub.status.busy": "2022-08-19T15:51:32.114120Z",
          "iopub.execute_input": "2022-08-19T15:51:32.114475Z",
          "iopub.status.idle": "2022-08-19T15:51:32.222859Z",
          "shell.execute_reply.started": "2022-08-19T15:51:32.114444Z",
          "shell.execute_reply": "2022-08-19T15:51:32.221901Z"
        },
        "trusted": true,
        "id": "h8jlzOmkYJwp"
      },
      "execution_count": null,
      "outputs": []
    },
    {
      "cell_type": "code",
      "source": [
        "surf_vx_arr=[]\n",
        "for (i,j) in zip(A,B):\n",
        "    f_surf_vx=(df[('surf_vx')][i,j] )\n",
        "    surf_vx_arr.append(f_surf_vx)\n",
        "surf_vy_arr=[]\n",
        "for (i,j) in zip(A,B):\n",
        "    f_surf_vy=(df[('surf_vy')][i,j] )\n",
        "    surf_vy_arr.append(f_surf_vy)\n",
        "surf_SMB_arr=[]\n",
        "for (i,j) in zip(A,B):\n",
        "    f_surf_SMB=(df[('surf_SMB')][i,j] )\n",
        "    surf_SMB_arr.append(f_surf_SMB)\n",
        "surf_dhdt_arr=[]\n",
        "for (i,j) in zip(A,B):\n",
        "    f_surf_dhdt=(df[('surf_dhdt')][i,j] )\n",
        "    surf_dhdt_arr.append(f_surf_dhdt)\n",
        "surf_elv_arr=[]\n",
        "for (i,j) in zip(A,B):\n",
        "    f_surf_elv=(df[('surf_elv')][i,j] )\n",
        "    surf_elv_arr.append(f_surf_elv)"
      ],
      "metadata": {
        "execution": {
          "iopub.status.busy": "2022-08-19T15:51:57.887240Z",
          "iopub.execute_input": "2022-08-19T15:51:57.887916Z",
          "iopub.status.idle": "2022-08-19T15:54:53.598199Z",
          "shell.execute_reply.started": "2022-08-19T15:51:57.887879Z",
          "shell.execute_reply": "2022-08-19T15:54:53.597185Z"
        },
        "trusted": true,
        "id": "pBAb8D5QYJwp"
      },
      "execution_count": null,
      "outputs": []
    },
    {
      "cell_type": "code",
      "source": [
        "\n",
        "len(x)"
      ],
      "metadata": {
        "execution": {
          "iopub.status.busy": "2022-08-19T15:56:22.393516Z",
          "iopub.execute_input": "2022-08-19T15:56:22.394081Z",
          "iopub.status.idle": "2022-08-19T15:56:22.400802Z",
          "shell.execute_reply.started": "2022-08-19T15:56:22.394042Z",
          "shell.execute_reply": "2022-08-19T15:56:22.399770Z"
        },
        "trusted": true,
        "id": "Su-GiJjkYJwp"
      },
      "execution_count": null,
      "outputs": []
    },
    {
      "cell_type": "code",
      "source": [
        "import pandas as pd\n",
        "import numpy as np\n",
        "\n",
        "dataset_test = pd.DataFrame({'surf_vx': surf_vx_arr, 'surf_vy': surf_vy_arr,'surf_SMB':surf_SMB_arr,'surf_elv': surf_elv_arr,'surf_dhdt':surf_dhdt_arr\n",
        "                       ,'x':x_test,'y':y_test},\n",
        "                       columns=['surf_vx', 'surf_vy','surf_SMB','surf_elv','surf_dhdt','x','y'])\n",
        "dataset_test"
      ],
      "metadata": {
        "execution": {
          "iopub.status.busy": "2022-08-19T15:56:53.264210Z",
          "iopub.execute_input": "2022-08-19T15:56:53.264561Z",
          "iopub.status.idle": "2022-08-19T15:56:53.512348Z",
          "shell.execute_reply.started": "2022-08-19T15:56:53.264532Z",
          "shell.execute_reply": "2022-08-19T15:56:53.510625Z"
        },
        "trusted": true,
        "id": "9-xtN-k6YJwp"
      },
      "execution_count": null,
      "outputs": []
    },
    {
      "cell_type": "code",
      "source": [
        "dataset_test.to_csv('Hack_test.csv',index=False)"
      ],
      "metadata": {
        "execution": {
          "iopub.status.busy": "2022-08-19T15:57:45.161175Z",
          "iopub.execute_input": "2022-08-19T15:57:45.161778Z",
          "iopub.status.idle": "2022-08-19T15:57:46.662814Z",
          "shell.execute_reply.started": "2022-08-19T15:57:45.161721Z",
          "shell.execute_reply": "2022-08-19T15:57:46.661782Z"
        },
        "trusted": true,
        "id": "ihTPq9pRYJwp"
      },
      "execution_count": null,
      "outputs": []
    },
    {
      "cell_type": "markdown",
      "source": [
        "# Model"
      ],
      "metadata": {
        "id": "6FC-H57-YJwp"
      }
    },
    {
      "cell_type": "code",
      "source": [
        "import numpy as np\n",
        "import h5py\n",
        "import xarray as xr\n",
        "from keras.models import Sequential\n",
        "from sklearn.linear_model import LogisticRegression\n",
        "from keras.layers import Dense\n",
        "import keras\n",
        "\n",
        "\n",
        "import pandas as pd\n",
        "import numpy as np\n",
        "from sklearn import model_selection\n",
        "from sklearn.linear_model import LinearRegression\n",
        "from sklearn.linear_model import Ridge\n",
        "from sklearn.linear_model import Lasso\n",
        "from sklearn.linear_model import ElasticNet\n",
        "from sklearn.neighbors import KNeighborsRegressor\n",
        "from sklearn.tree import DecisionTreeRegressor\n",
        "from sklearn.svm import SVR\n",
        "from sklearn.ensemble import RandomForestRegressor\n",
        "from sklearn.metrics import r2_score\n",
        "from sklearn.model_selection import train_test_split\n",
        "from sklearn.metrics import mean_squared_error\n",
        "\n",
        "from math import sqrt\n",
        "import matplotlib.pyplot as plt\n"
      ],
      "metadata": {
        "execution": {
          "iopub.status.busy": "2022-08-19T16:12:26.877600Z",
          "iopub.execute_input": "2022-08-19T16:12:26.878552Z",
          "iopub.status.idle": "2022-08-19T16:12:34.392173Z",
          "shell.execute_reply.started": "2022-08-19T16:12:26.878517Z",
          "shell.execute_reply": "2022-08-19T16:12:34.391221Z"
        },
        "trusted": true,
        "id": "eghyPJilYJwp"
      },
      "execution_count": null,
      "outputs": []
    },
    {
      "cell_type": "code",
      "source": [
        "df_train= pd.read_csv('../input/hack-train/Hack_train.csv')\n",
        "df_test= pd.read_csv('../input/hack-test/Hack_test.csv')"
      ],
      "metadata": {
        "execution": {
          "iopub.status.busy": "2022-08-19T16:04:36.978761Z",
          "iopub.execute_input": "2022-08-19T16:04:36.979610Z",
          "iopub.status.idle": "2022-08-19T16:04:37.935587Z",
          "shell.execute_reply.started": "2022-08-19T16:04:36.979575Z",
          "shell.execute_reply": "2022-08-19T16:04:37.934490Z"
        },
        "trusted": true,
        "id": "Xn6QuigKYJwq"
      },
      "execution_count": null,
      "outputs": []
    },
    {
      "cell_type": "code",
      "source": [
        "x_train=df_train.iloc[:,:-1]\n",
        "x_train"
      ],
      "metadata": {
        "execution": {
          "iopub.status.busy": "2022-08-19T16:14:56.314444Z",
          "iopub.execute_input": "2022-08-19T16:14:56.314821Z",
          "iopub.status.idle": "2022-08-19T16:14:56.334849Z",
          "shell.execute_reply.started": "2022-08-19T16:14:56.314791Z",
          "shell.execute_reply": "2022-08-19T16:14:56.333523Z"
        },
        "trusted": true,
        "id": "Qr3k7W8lYJwq"
      },
      "execution_count": null,
      "outputs": []
    },
    {
      "cell_type": "code",
      "source": [
        "y_train=df_train.iloc[:,-1]\n",
        "y_train"
      ],
      "metadata": {
        "execution": {
          "iopub.status.busy": "2022-08-19T16:14:59.713411Z",
          "iopub.execute_input": "2022-08-19T16:14:59.713785Z",
          "iopub.status.idle": "2022-08-19T16:14:59.722787Z",
          "shell.execute_reply.started": "2022-08-19T16:14:59.713748Z",
          "shell.execute_reply": "2022-08-19T16:14:59.721774Z"
        },
        "trusted": true,
        "id": "ai0-I1MpYJwq"
      },
      "execution_count": null,
      "outputs": []
    },
    {
      "cell_type": "code",
      "source": [
        "x_test_pred=df_test.iloc[:,:]\n",
        "x_test_pred"
      ],
      "metadata": {
        "execution": {
          "iopub.status.busy": "2022-08-19T17:47:33.157382Z",
          "iopub.execute_input": "2022-08-19T17:47:33.158393Z",
          "iopub.status.idle": "2022-08-19T17:47:33.182336Z",
          "shell.execute_reply.started": "2022-08-19T17:47:33.158348Z",
          "shell.execute_reply": "2022-08-19T17:47:33.181322Z"
        },
        "trusted": true,
        "id": "EhYIkEL3YJwq"
      },
      "execution_count": null,
      "outputs": []
    },
    {
      "cell_type": "code",
      "source": [
        "x_train, x_test, y_train,y_test = train_test_split(x_train, y_train, test_size=0.30, shuffle=False)"
      ],
      "metadata": {
        "execution": {
          "iopub.status.busy": "2022-08-19T16:16:21.643200Z",
          "iopub.execute_input": "2022-08-19T16:16:21.643554Z",
          "iopub.status.idle": "2022-08-19T16:16:21.674471Z",
          "shell.execute_reply.started": "2022-08-19T16:16:21.643525Z",
          "shell.execute_reply": "2022-08-19T16:16:21.673577Z"
        },
        "trusted": true,
        "id": "9jE4lZD6YJwq"
      },
      "execution_count": null,
      "outputs": []
    },
    {
      "cell_type": "code",
      "source": [
        "print(\"Shape of X_train\",X_train.shape)\n",
        "print(\"Shape of X_test\",X_test.shape)"
      ],
      "metadata": {
        "execution": {
          "iopub.status.busy": "2022-08-19T16:16:57.857725Z",
          "iopub.execute_input": "2022-08-19T16:16:57.858632Z",
          "iopub.status.idle": "2022-08-19T16:16:57.865951Z",
          "shell.execute_reply.started": "2022-08-19T16:16:57.858585Z",
          "shell.execute_reply": "2022-08-19T16:16:57.864790Z"
        },
        "trusted": true,
        "id": "i3uDtCFdYJwq"
      },
      "execution_count": null,
      "outputs": []
    },
    {
      "cell_type": "code",
      "source": [
        "\n",
        "\n",
        "\n",
        "from sklearn import preprocessing\n",
        "from sklearn import utils\n",
        "\n",
        "dtree = DecisionTreeRegressor(max_depth=10, min_samples_leaf=0.13, random_state=3)\n",
        "dtree.fit(X_train, y_train)\n",
        "\n",
        "pred_train_tree= dtree.predict(X_train)\n",
        "print(\"MSE of train data of X_train\", np.sqrt(mean_squared_error(y_train,pred_train_tree)))\n",
        "\n",
        "pred_test_tree= dtree.predict(X_test)\n",
        "print(\"MSE of train data of X_test\",np.sqrt(mean_squared_error(y_test,pred_test_tree)))\n",
        "print(pred_test_tree)\n",
        "\n"
      ],
      "metadata": {
        "execution": {
          "iopub.status.busy": "2022-08-19T16:17:30.869401Z",
          "iopub.execute_input": "2022-08-19T16:17:30.869777Z",
          "iopub.status.idle": "2022-08-19T16:17:31.213016Z",
          "shell.execute_reply.started": "2022-08-19T16:17:30.869724Z",
          "shell.execute_reply": "2022-08-19T16:17:31.212003Z"
        },
        "trusted": true,
        "id": "6PbysskuYJwr"
      },
      "execution_count": null,
      "outputs": []
    },
    {
      "cell_type": "code",
      "source": [
        "# Grid search for random forest\n",
        "from sklearn.model_selection import GridSearchCV\n",
        "from sklearn.ensemble import RandomForestRegressor\n",
        "param_grid = {\n",
        "    'bootstrap': [True],\n",
        "    'max_depth': [10, 30],\n",
        "    'min_samples_leaf': [3, 4, 5],\n",
        "    'min_samples_split': [8, 10, 12],\n",
        "    'n_estimators': [100, 200]\n",
        "}\n",
        "\n",
        "forest_reg = RandomForestRegressor()\n",
        "\n",
        "grid_search = GridSearchCV(forest_reg, param_grid, cv=10,\n",
        "                           scoring='neg_mean_squared_error',\n",
        "                            n_jobs = -1, verbose = 2)\n",
        "gs=grid_search.fit(x_train, y_train)\n",
        "clf = gs.best_estimator_\n",
        "print('Best Score MAE: %s' % gs.best_score_)\n",
        "print('Best Hyperparameters: %s' % gs.best_params_)"
      ],
      "metadata": {
        "id": "3SAHV70hYJwr"
      },
      "execution_count": null,
      "outputs": []
    },
    {
      "cell_type": "code",
      "source": [
        "from sklearn.preprocessing import StandardScaler\n",
        "feature_scaler = StandardScaler()\n",
        "X_train = feature_scaler.fit_transform(X_train)\n",
        "X_test = feature_scaler.transform(X_test)"
      ],
      "metadata": {
        "execution": {
          "iopub.status.busy": "2022-08-19T17:55:34.661810Z",
          "iopub.execute_input": "2022-08-19T17:55:34.662401Z",
          "iopub.status.idle": "2022-08-19T17:55:34.699695Z",
          "shell.execute_reply.started": "2022-08-19T17:55:34.662366Z",
          "shell.execute_reply": "2022-08-19T17:55:34.698623Z"
        },
        "trusted": true,
        "id": "8uynkcsdYJwr"
      },
      "execution_count": null,
      "outputs": []
    },
    {
      "cell_type": "markdown",
      "source": [
        "# Liniear regression"
      ],
      "metadata": {
        "id": "OYyJN3uFYJwr"
      }
    },
    {
      "cell_type": "code",
      "source": [
        "from sklearn.metrics import mean_squared_error\n",
        "from sklearn.ensemble import RandomForestRegressor\n",
        "from sklearn.metrics import r2_score\n",
        "from sklearn.ensemble import RandomForestRegressor\n",
        "from sklearn.metrics import mean_absolute_error\n",
        "from sklearn.metrics import mean_squared_error\n",
        "from sklearn.linear_model import LinearRegression\n",
        "from sklearn.model_selection import GridSearchCV\n",
        "from sklearn.ensemble import RandomForestRegressor\n",
        "from numpy import mean\n",
        "import math\n",
        "\n",
        "clf = LinearRegression()\n",
        "\n",
        "clf.fit(X_train, y_train)\n",
        "y_train_pred = clf.predict(X_train)\n",
        "y_test_pred = clf.predict(X_test)\n",
        "\n",
        "mae_train = mean_absolute_error(y_train, y_train_pred)\n",
        "mae_test = mean_absolute_error(y_test, y_test_pred)\n",
        "print(f'MAE train: {mae_train:.2f}')\n",
        "print(f'MAE test: {mae_test:.2f}')\n",
        "\n",
        "from sklearn.metrics import mean_squared_error\n",
        "mse_train = mean_squared_error(y_train, y_train_pred)\n",
        "mse_test = mean_squared_error(y_test, y_test_pred)\n",
        "print(f'MSE train: {mse_train:.2f}')\n",
        "print(f'MSE test: {mse_test:.2f}')\n",
        "\n",
        "print(f'RMSE train: {math.sqrt(mse_train):.2f}')\n",
        "print(f'RMSE test: {math.sqrt(mse_test):.2f}')\n",
        "\n",
        "from sklearn.metrics import r2_score\n",
        "r2_train = r2_score(y_train, y_train_pred)\n",
        "r2_test =r2_score(y_test, y_test_pred)\n",
        "print(f'R^2 train: {r2_train:.2f}')\n",
        "print(f'R^2 test: {r2_test:.2f}')"
      ],
      "metadata": {
        "execution": {
          "iopub.status.busy": "2022-08-19T17:55:39.348633Z",
          "iopub.execute_input": "2022-08-19T17:55:39.349366Z",
          "iopub.status.idle": "2022-08-19T17:55:39.439986Z",
          "shell.execute_reply.started": "2022-08-19T17:55:39.349331Z",
          "shell.execute_reply": "2022-08-19T17:55:39.437829Z"
        },
        "trusted": true,
        "id": "MQFeyL4FYJwr"
      },
      "execution_count": null,
      "outputs": []
    },
    {
      "cell_type": "code",
      "source": [
        "y_pred=clf.predict(x_test_pred)\n",
        "\n",
        "mean(y_pred)\n"
      ],
      "metadata": {
        "execution": {
          "iopub.status.busy": "2022-08-19T18:18:28.550318Z",
          "iopub.execute_input": "2022-08-19T18:18:28.550889Z",
          "iopub.status.idle": "2022-08-19T18:18:28.574887Z",
          "shell.execute_reply.started": "2022-08-19T18:18:28.550855Z",
          "shell.execute_reply": "2022-08-19T18:18:28.573802Z"
        },
        "trusted": true,
        "id": "4KPyT7uNYJws"
      },
      "execution_count": null,
      "outputs": []
    },
    {
      "cell_type": "markdown",
      "source": [
        "# DecisionTreeRegressor"
      ],
      "metadata": {
        "id": "w1Yraf_GYJws"
      }
    },
    {
      "cell_type": "code",
      "source": [
        "clf= DecisionTreeRegressor(max_depth=10, min_samples_leaf=0.13, random_state=3)\n",
        "clf.fit(X_train, y_train)\n",
        "y_train_pred = clf.predict(X_train)\n",
        "y_test_pred = clf.predict(X_test)\n",
        "\n",
        "mae_train = mean_absolute_error(y_train, y_train_pred)\n",
        "mae_test = mean_absolute_error(y_test, y_test_pred)\n",
        "print(f'MAE train: {mae_train:.2f}')\n",
        "print(f'MAE test: {mae_test:.2f}')\n",
        "\n",
        "from sklearn.metrics import mean_squared_error\n",
        "mse_train = mean_squared_error(y_train, y_train_pred)\n",
        "mse_test = mean_squared_error(y_test, y_test_pred)\n",
        "print(f'MSE train: {mse_train:.2f}')\n",
        "print(f'MSE test: {mse_test:.2f}')\n",
        "\n",
        "print(f'RMSE train: {math.sqrt(mse_train):.2f}')\n",
        "print(f'RMSE test: {math.sqrt(mse_test):.2f}')\n",
        "\n",
        "from sklearn.metrics import r2_score\n",
        "r2_train = r2_score(y_train, y_train_pred)\n",
        "r2_test =r2_score(y_test, y_test_pred)\n",
        "print(f'R^2 train: {r2_train:.2f}')\n",
        "print(f'R^2 test: {r2_test:.2f}')\n"
      ],
      "metadata": {
        "execution": {
          "iopub.status.busy": "2022-08-19T18:19:18.087094Z",
          "iopub.execute_input": "2022-08-19T18:19:18.087918Z",
          "iopub.status.idle": "2022-08-19T18:19:18.455686Z",
          "shell.execute_reply.started": "2022-08-19T18:19:18.087875Z",
          "shell.execute_reply": "2022-08-19T18:19:18.454719Z"
        },
        "trusted": true,
        "id": "pjbgDXA2YJws"
      },
      "execution_count": null,
      "outputs": []
    },
    {
      "cell_type": "code",
      "source": [
        "y_pred=clf.predict(x_test_pred)\n",
        "mean(y_pred)"
      ],
      "metadata": {
        "execution": {
          "iopub.status.busy": "2022-08-19T18:19:21.533024Z",
          "iopub.execute_input": "2022-08-19T18:19:21.533916Z",
          "iopub.status.idle": "2022-08-19T18:19:21.552006Z",
          "shell.execute_reply.started": "2022-08-19T18:19:21.533879Z",
          "shell.execute_reply": "2022-08-19T18:19:21.550924Z"
        },
        "trusted": true,
        "id": "BOzNlr0EYJws"
      },
      "execution_count": null,
      "outputs": []
    },
    {
      "cell_type": "markdown",
      "source": [
        "# Read real target"
      ],
      "metadata": {
        "id": "d5ja19ITYJws"
      }
    },
    {
      "cell_type": "code",
      "source": [
        "import h5py\n",
        "h5_file_location = '../input/solution/hackathon_solution.h5'\n",
        "df_1 = h5py.File(h5_file_location, 'r')\n",
        "\n",
        "def keys(s):\n",
        "    return [key for key in s.keys()]\n",
        "print(keys(df_1))"
      ],
      "metadata": {
        "execution": {
          "iopub.status.busy": "2022-08-19T18:06:32.775308Z",
          "iopub.execute_input": "2022-08-19T18:06:32.775672Z",
          "iopub.status.idle": "2022-08-19T18:06:32.784113Z",
          "shell.execute_reply.started": "2022-08-19T18:06:32.775638Z",
          "shell.execute_reply": "2022-08-19T18:06:32.782791Z"
        },
        "trusted": true,
        "id": "Xc6K9rVtYJws"
      },
      "execution_count": null,
      "outputs": []
    },
    {
      "cell_type": "code",
      "source": [
        "track_bed =df_1.get('track_bed_testing')\n",
        "track_bed\n",
        "track_bed = pd.DataFrame(track_bed)\n",
        "track_bed"
      ],
      "metadata": {
        "execution": {
          "iopub.status.busy": "2022-08-19T18:15:05.136967Z",
          "iopub.execute_input": "2022-08-19T18:15:05.137557Z",
          "iopub.status.idle": "2022-08-19T18:15:11.795932Z",
          "shell.execute_reply.started": "2022-08-19T18:15:05.137504Z",
          "shell.execute_reply": "2022-08-19T18:15:11.794832Z"
        },
        "trusted": true,
        "id": "w5CDJaqTYJwt"
      },
      "execution_count": null,
      "outputs": []
    },
    {
      "cell_type": "code",
      "source": [
        "y=track_bed.iloc[2]\n",
        "mean(y)"
      ],
      "metadata": {
        "execution": {
          "iopub.status.busy": "2022-08-19T18:16:29.550241Z",
          "iopub.execute_input": "2022-08-19T18:16:29.550691Z",
          "iopub.status.idle": "2022-08-19T18:16:29.572229Z",
          "shell.execute_reply.started": "2022-08-19T18:16:29.550655Z",
          "shell.execute_reply": "2022-08-19T18:16:29.571342Z"
        },
        "trusted": true,
        "id": "q50mFKQ2YJwt"
      },
      "execution_count": null,
      "outputs": []
    }
  ]
}