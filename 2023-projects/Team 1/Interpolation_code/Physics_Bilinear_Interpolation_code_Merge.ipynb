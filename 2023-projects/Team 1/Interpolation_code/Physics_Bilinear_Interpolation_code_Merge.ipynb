{
  "cells": [
    {
      "cell_type": "code",
      "source": [
        "import h5py\n",
        "import numpy as np\n",
        "import pandas as pd\n",
        "import matplotlib.pyplot as plt"
      ],
      "metadata": {
        "id": "dePINqFGh5xn"
      },
      "execution_count": null,
      "outputs": []
    },
    {
      "cell_type": "code",
      "execution_count": null,
      "metadata": {
        "colab": {
          "base_uri": "https://localhost:8080/"
        },
        "id": "gzbtR8FWP2NP",
        "outputId": "d884c668-3cb2-416d-d145-974da2da68d1"
      },
      "outputs": [
        {
          "output_type": "stream",
          "name": "stdout",
          "text": [
            "Mounted at /content/drive\n"
          ]
        }
      ],
      "source": [
        "from google.colab import drive\n",
        "drive.mount('/content/drive')"
      ]
    },
    {
      "cell_type": "code",
      "source": [
        "import numpy as np\n",
        "from scipy.interpolate import RegularGridInterpolator\n",
        "\n",
        "# Define known data points\n",
        "x = np.array([0, 1, 2, 3])\n",
        "y = np.array([0, 1, 2, 3])\n",
        "z = np.array([[1, 4, 3, 6],\n",
        "              [3, 2, 4, 1],\n",
        "              [2, 3, 1, 5],\n",
        "              [4, 1, 6, 2]])\n",
        "\n",
        "# Create an interpolation function using bilinear interpolation\n",
        "f = RegularGridInterpolator((x, y), z, method='linear', bounds_error=False, fill_value=None)\n",
        "\n",
        "# Evaluate the interpolation function at new points\n",
        "x_new = np.array([1.5, 2.5])\n",
        "y_new = np.array([0.5, 1.5])\n",
        "z_new = f(np.column_stack((x_new, y_new)))\n",
        "\n",
        "print(f\"The interpolated values of z at ({x_new}, {y_new}) are {z_new}\")\n"
      ],
      "metadata": {
        "colab": {
          "base_uri": "https://localhost:8080/"
        },
        "id": "fc-QQkcwiBv1",
        "outputId": "66b90c14-eb17-4044-b6c7-92f72fb60a0e"
      },
      "execution_count": null,
      "outputs": [
        {
          "output_type": "stream",
          "name": "stdout",
          "text": [
            "The interpolated values of z at ([1.5 2.5], [0.5 1.5]) are [2.5  2.75]\n"
          ]
        }
      ]
    },
    {
      "cell_type": "code",
      "source": [
        "# Evaluate the interpolation function at new points\n",
        "x_new = np.array([1.5])\n",
        "y_new = np.array([0.5])\n",
        "z_new = f(np.column_stack((x_new, y_new)))\n",
        "\n",
        "print(f\"The interpolated values of z at ({x_new}, {y_new}) are {z_new}\")"
      ],
      "metadata": {
        "colab": {
          "base_uri": "https://localhost:8080/"
        },
        "id": "U3dLX05gkSrG",
        "outputId": "bd55f0e2-d69c-446e-edb1-70b15fd0927c"
      },
      "execution_count": null,
      "outputs": [
        {
          "output_type": "stream",
          "name": "stdout",
          "text": [
            "The interpolated values of z at ([1.5], [0.5]) are [2.5]\n"
          ]
        }
      ]
    },
    {
      "cell_type": "code",
      "source": [
        "hackathon_file_location = '/content/drive/MyDrive/hackathon.h5'\n",
        "df_hackathon = h5py.File(hackathon_file_location, 'r')\n",
        "bedmachine_file_location = '/content/drive/MyDrive/bed_BedMachine.h5'\n",
        "df_bedmachine = h5py.File(bedmachine_file_location, 'r')\n",
        "\n"
      ],
      "metadata": {
        "id": "jekvZlMxJjSf"
      },
      "execution_count": null,
      "outputs": []
    },
    {
      "cell_type": "code",
      "source": [
        "bed_BedMachine =df_bedmachine.get('bed_BedMachine')\n",
        "bed_BedMachine=np.array(bed_BedMachine)\n",
        "bed_BedMachine"
      ],
      "metadata": {
        "colab": {
          "base_uri": "https://localhost:8080/"
        },
        "id": "QQoBZw9do87t",
        "outputId": "e868e879-b0f1-4b57-86ef-9871958e9ad6"
      },
      "execution_count": null,
      "outputs": [
        {
          "output_type": "execute_result",
          "data": {
            "text/plain": [
              "array([[192.54895, 176.59802, 164.97534, ..., 557.7349 , 558.06384,\n",
              "        560.96704],\n",
              "       [195.76892, 180.4939 , 166.89478, ..., 551.7234 , 551.8322 ,\n",
              "        555.66876],\n",
              "       [199.5365 , 183.78601, 169.0398 , ..., 542.25824, 545.25684,\n",
              "        546.88165],\n",
              "       ...,\n",
              "       [157.92041, 158.49365, 159.04663, ..., 410.15747, 409.583  ,\n",
              "        410.25977],\n",
              "       [155.57715, 156.13306, 156.66846, ..., 405.36963, 405.5818 ,\n",
              "        405.29053],\n",
              "       [152.85498, 153.39233, 153.3999 , ..., 400.5869 , 400.76782,\n",
              "        400.7566 ]], dtype=float32)"
            ]
          },
          "metadata": {},
          "execution_count": 4
        }
      ]
    },
    {
      "cell_type": "code",
      "source": [
        "#bed_BedMachine_array=np.array(bed_BedMachine)\n"
      ],
      "metadata": {
        "id": "qRVKw8ZMcj9x"
      },
      "execution_count": null,
      "outputs": []
    },
    {
      "cell_type": "code",
      "source": [
        "#bed_BedMachine=np.array(bed_BedMachine)\n",
        "#bed_BedMachine_flatten=bed_BedMachine.flatten()"
      ],
      "metadata": {
        "id": "43VG4s-Fa_a7"
      },
      "execution_count": null,
      "outputs": []
    },
    {
      "cell_type": "code",
      "source": [
        "#bed_BedMachine_flatten.shape"
      ],
      "metadata": {
        "id": "lTR_yywIaKB_"
      },
      "execution_count": null,
      "outputs": []
    },
    {
      "cell_type": "code",
      "source": [
        "track_bed_training =df_hackathon.get('track_bed_training')\n",
        "track_bed_training = pd.DataFrame(track_bed_training)\n",
        "track_bed_training"
      ],
      "metadata": {
        "colab": {
          "base_uri": "https://localhost:8080/",
          "height": 235
        },
        "id": "xGnb_8jeJxE6",
        "outputId": "748b4577-eb8b-4628-b484-ee7929380ef6"
      },
      "execution_count": null,
      "outputs": [
        {
          "output_type": "execute_result",
          "data": {
            "text/plain": [
              "         0             1             2             3             4       \\\n",
              "0 -2.060374e+05 -2.059812e+05 -2.059531e+05 -2.058971e+05 -2.058413e+05   \n",
              "1 -1.827384e+06 -1.827519e+06 -1.827586e+06 -1.827721e+06 -1.827856e+06   \n",
              "2  5.382352e+02  5.504916e+02  5.638006e+02  5.605308e+02  5.457083e+02   \n",
              "\n",
              "         5             6             7             8             9       ...  \\\n",
              "0 -2.057857e+05 -2.057302e+05 -2.056886e+05 -2.056470e+05 -2.055917e+05  ...   \n",
              "1 -1.827990e+06 -1.828125e+06 -1.828227e+06 -1.828328e+06 -1.828463e+06  ...   \n",
              "2  5.311980e+02  5.142937e+02  5.012729e+02  4.923016e+02  4.892823e+02  ...   \n",
              "\n",
              "         396724        396725        396726        396727        396728  \\\n",
              "0 -2.780478e+05 -2.780505e+05 -2.780533e+05 -2.780562e+05 -2.780588e+05   \n",
              "1 -1.720149e+06 -1.720127e+06 -1.720106e+06 -1.720086e+06 -1.720064e+06   \n",
              "2  2.631079e+02  2.560241e+02  2.559489e+02  2.548794e+02  2.478405e+02   \n",
              "\n",
              "         396729        396730        396731        396732        396733  \n",
              "0 -2.780617e+05 -2.780645e+05 -2.780671e+05 -2.780697e+05 -2.780723e+05  \n",
              "1 -1.720044e+06 -1.720023e+06 -1.720001e+06 -1.719981e+06 -1.719959e+06  \n",
              "2  2.408906e+02  2.409561e+02  2.339927e+02  2.270397e+02  2.270641e+02  \n",
              "\n",
              "[3 rows x 396734 columns]"
            ],
            "text/html": [
              "\n",
              "\n",
              "  <div id=\"df-76ea7c04-abac-4169-b565-33ddfddd3bb6\">\n",
              "    <div class=\"colab-df-container\">\n",
              "      <div>\n",
              "<style scoped>\n",
              "    .dataframe tbody tr th:only-of-type {\n",
              "        vertical-align: middle;\n",
              "    }\n",
              "\n",
              "    .dataframe tbody tr th {\n",
              "        vertical-align: top;\n",
              "    }\n",
              "\n",
              "    .dataframe thead th {\n",
              "        text-align: right;\n",
              "    }\n",
              "</style>\n",
              "<table border=\"1\" class=\"dataframe\">\n",
              "  <thead>\n",
              "    <tr style=\"text-align: right;\">\n",
              "      <th></th>\n",
              "      <th>0</th>\n",
              "      <th>1</th>\n",
              "      <th>2</th>\n",
              "      <th>3</th>\n",
              "      <th>4</th>\n",
              "      <th>5</th>\n",
              "      <th>6</th>\n",
              "      <th>7</th>\n",
              "      <th>8</th>\n",
              "      <th>9</th>\n",
              "      <th>...</th>\n",
              "      <th>396724</th>\n",
              "      <th>396725</th>\n",
              "      <th>396726</th>\n",
              "      <th>396727</th>\n",
              "      <th>396728</th>\n",
              "      <th>396729</th>\n",
              "      <th>396730</th>\n",
              "      <th>396731</th>\n",
              "      <th>396732</th>\n",
              "      <th>396733</th>\n",
              "    </tr>\n",
              "  </thead>\n",
              "  <tbody>\n",
              "    <tr>\n",
              "      <th>0</th>\n",
              "      <td>-2.060374e+05</td>\n",
              "      <td>-2.059812e+05</td>\n",
              "      <td>-2.059531e+05</td>\n",
              "      <td>-2.058971e+05</td>\n",
              "      <td>-2.058413e+05</td>\n",
              "      <td>-2.057857e+05</td>\n",
              "      <td>-2.057302e+05</td>\n",
              "      <td>-2.056886e+05</td>\n",
              "      <td>-2.056470e+05</td>\n",
              "      <td>-2.055917e+05</td>\n",
              "      <td>...</td>\n",
              "      <td>-2.780478e+05</td>\n",
              "      <td>-2.780505e+05</td>\n",
              "      <td>-2.780533e+05</td>\n",
              "      <td>-2.780562e+05</td>\n",
              "      <td>-2.780588e+05</td>\n",
              "      <td>-2.780617e+05</td>\n",
              "      <td>-2.780645e+05</td>\n",
              "      <td>-2.780671e+05</td>\n",
              "      <td>-2.780697e+05</td>\n",
              "      <td>-2.780723e+05</td>\n",
              "    </tr>\n",
              "    <tr>\n",
              "      <th>1</th>\n",
              "      <td>-1.827384e+06</td>\n",
              "      <td>-1.827519e+06</td>\n",
              "      <td>-1.827586e+06</td>\n",
              "      <td>-1.827721e+06</td>\n",
              "      <td>-1.827856e+06</td>\n",
              "      <td>-1.827990e+06</td>\n",
              "      <td>-1.828125e+06</td>\n",
              "      <td>-1.828227e+06</td>\n",
              "      <td>-1.828328e+06</td>\n",
              "      <td>-1.828463e+06</td>\n",
              "      <td>...</td>\n",
              "      <td>-1.720149e+06</td>\n",
              "      <td>-1.720127e+06</td>\n",
              "      <td>-1.720106e+06</td>\n",
              "      <td>-1.720086e+06</td>\n",
              "      <td>-1.720064e+06</td>\n",
              "      <td>-1.720044e+06</td>\n",
              "      <td>-1.720023e+06</td>\n",
              "      <td>-1.720001e+06</td>\n",
              "      <td>-1.719981e+06</td>\n",
              "      <td>-1.719959e+06</td>\n",
              "    </tr>\n",
              "    <tr>\n",
              "      <th>2</th>\n",
              "      <td>5.382352e+02</td>\n",
              "      <td>5.504916e+02</td>\n",
              "      <td>5.638006e+02</td>\n",
              "      <td>5.605308e+02</td>\n",
              "      <td>5.457083e+02</td>\n",
              "      <td>5.311980e+02</td>\n",
              "      <td>5.142937e+02</td>\n",
              "      <td>5.012729e+02</td>\n",
              "      <td>4.923016e+02</td>\n",
              "      <td>4.892823e+02</td>\n",
              "      <td>...</td>\n",
              "      <td>2.631079e+02</td>\n",
              "      <td>2.560241e+02</td>\n",
              "      <td>2.559489e+02</td>\n",
              "      <td>2.548794e+02</td>\n",
              "      <td>2.478405e+02</td>\n",
              "      <td>2.408906e+02</td>\n",
              "      <td>2.409561e+02</td>\n",
              "      <td>2.339927e+02</td>\n",
              "      <td>2.270397e+02</td>\n",
              "      <td>2.270641e+02</td>\n",
              "    </tr>\n",
              "  </tbody>\n",
              "</table>\n",
              "<p>3 rows × 396734 columns</p>\n",
              "</div>\n",
              "      <button class=\"colab-df-convert\" onclick=\"convertToInteractive('df-76ea7c04-abac-4169-b565-33ddfddd3bb6')\"\n",
              "              title=\"Convert this dataframe to an interactive table.\"\n",
              "              style=\"display:none;\">\n",
              "\n",
              "  <svg xmlns=\"http://www.w3.org/2000/svg\" height=\"24px\"viewBox=\"0 0 24 24\"\n",
              "       width=\"24px\">\n",
              "    <path d=\"M0 0h24v24H0V0z\" fill=\"none\"/>\n",
              "    <path d=\"M18.56 5.44l.94 2.06.94-2.06 2.06-.94-2.06-.94-.94-2.06-.94 2.06-2.06.94zm-11 1L8.5 8.5l.94-2.06 2.06-.94-2.06-.94L8.5 2.5l-.94 2.06-2.06.94zm10 10l.94 2.06.94-2.06 2.06-.94-2.06-.94-.94-2.06-.94 2.06-2.06.94z\"/><path d=\"M17.41 7.96l-1.37-1.37c-.4-.4-.92-.59-1.43-.59-.52 0-1.04.2-1.43.59L10.3 9.45l-7.72 7.72c-.78.78-.78 2.05 0 2.83L4 21.41c.39.39.9.59 1.41.59.51 0 1.02-.2 1.41-.59l7.78-7.78 2.81-2.81c.8-.78.8-2.07 0-2.86zM5.41 20L4 18.59l7.72-7.72 1.47 1.35L5.41 20z\"/>\n",
              "  </svg>\n",
              "      </button>\n",
              "\n",
              "\n",
              "\n",
              "    <div id=\"df-42be83bb-40a2-4bc7-a04e-3f3f6a24df3c\">\n",
              "      <button class=\"colab-df-quickchart\" onclick=\"quickchart('df-42be83bb-40a2-4bc7-a04e-3f3f6a24df3c')\"\n",
              "              title=\"Suggest charts.\"\n",
              "              style=\"display:none;\">\n",
              "\n",
              "<svg xmlns=\"http://www.w3.org/2000/svg\" height=\"24px\"viewBox=\"0 0 24 24\"\n",
              "     width=\"24px\">\n",
              "    <g>\n",
              "        <path d=\"M19 3H5c-1.1 0-2 .9-2 2v14c0 1.1.9 2 2 2h14c1.1 0 2-.9 2-2V5c0-1.1-.9-2-2-2zM9 17H7v-7h2v7zm4 0h-2V7h2v10zm4 0h-2v-4h2v4z\"/>\n",
              "    </g>\n",
              "</svg>\n",
              "      </button>\n",
              "    </div>\n",
              "\n",
              "<style>\n",
              "  .colab-df-quickchart {\n",
              "    background-color: #E8F0FE;\n",
              "    border: none;\n",
              "    border-radius: 50%;\n",
              "    cursor: pointer;\n",
              "    display: none;\n",
              "    fill: #1967D2;\n",
              "    height: 32px;\n",
              "    padding: 0 0 0 0;\n",
              "    width: 32px;\n",
              "  }\n",
              "\n",
              "  .colab-df-quickchart:hover {\n",
              "    background-color: #E2EBFA;\n",
              "    box-shadow: 0px 1px 2px rgba(60, 64, 67, 0.3), 0px 1px 3px 1px rgba(60, 64, 67, 0.15);\n",
              "    fill: #174EA6;\n",
              "  }\n",
              "\n",
              "  [theme=dark] .colab-df-quickchart {\n",
              "    background-color: #3B4455;\n",
              "    fill: #D2E3FC;\n",
              "  }\n",
              "\n",
              "  [theme=dark] .colab-df-quickchart:hover {\n",
              "    background-color: #434B5C;\n",
              "    box-shadow: 0px 1px 3px 1px rgba(0, 0, 0, 0.15);\n",
              "    filter: drop-shadow(0px 1px 2px rgba(0, 0, 0, 0.3));\n",
              "    fill: #FFFFFF;\n",
              "  }\n",
              "</style>\n",
              "\n",
              "    <script>\n",
              "      async function quickchart(key) {\n",
              "        const containerElement = document.querySelector('#' + key);\n",
              "        const charts = await google.colab.kernel.invokeFunction(\n",
              "            'suggestCharts', [key], {});\n",
              "      }\n",
              "    </script>\n",
              "\n",
              "      <script>\n",
              "\n",
              "function displayQuickchartButton(domScope) {\n",
              "  let quickchartButtonEl =\n",
              "    domScope.querySelector('#df-42be83bb-40a2-4bc7-a04e-3f3f6a24df3c button.colab-df-quickchart');\n",
              "  quickchartButtonEl.style.display =\n",
              "    google.colab.kernel.accessAllowed ? 'block' : 'none';\n",
              "}\n",
              "\n",
              "        displayQuickchartButton(document);\n",
              "      </script>\n",
              "      <style>\n",
              "    .colab-df-container {\n",
              "      display:flex;\n",
              "      flex-wrap:wrap;\n",
              "      gap: 12px;\n",
              "    }\n",
              "\n",
              "    .colab-df-convert {\n",
              "      background-color: #E8F0FE;\n",
              "      border: none;\n",
              "      border-radius: 50%;\n",
              "      cursor: pointer;\n",
              "      display: none;\n",
              "      fill: #1967D2;\n",
              "      height: 32px;\n",
              "      padding: 0 0 0 0;\n",
              "      width: 32px;\n",
              "    }\n",
              "\n",
              "    .colab-df-convert:hover {\n",
              "      background-color: #E2EBFA;\n",
              "      box-shadow: 0px 1px 2px rgba(60, 64, 67, 0.3), 0px 1px 3px 1px rgba(60, 64, 67, 0.15);\n",
              "      fill: #174EA6;\n",
              "    }\n",
              "\n",
              "    [theme=dark] .colab-df-convert {\n",
              "      background-color: #3B4455;\n",
              "      fill: #D2E3FC;\n",
              "    }\n",
              "\n",
              "    [theme=dark] .colab-df-convert:hover {\n",
              "      background-color: #434B5C;\n",
              "      box-shadow: 0px 1px 3px 1px rgba(0, 0, 0, 0.15);\n",
              "      filter: drop-shadow(0px 1px 2px rgba(0, 0, 0, 0.3));\n",
              "      fill: #FFFFFF;\n",
              "    }\n",
              "  </style>\n",
              "\n",
              "      <script>\n",
              "        const buttonEl =\n",
              "          document.querySelector('#df-76ea7c04-abac-4169-b565-33ddfddd3bb6 button.colab-df-convert');\n",
              "        buttonEl.style.display =\n",
              "          google.colab.kernel.accessAllowed ? 'block' : 'none';\n",
              "\n",
              "        async function convertToInteractive(key) {\n",
              "          const element = document.querySelector('#df-76ea7c04-abac-4169-b565-33ddfddd3bb6');\n",
              "          const dataTable =\n",
              "            await google.colab.kernel.invokeFunction('convertToInteractive',\n",
              "                                                     [key], {});\n",
              "          if (!dataTable) return;\n",
              "\n",
              "          const docLinkHtml = 'Like what you see? Visit the ' +\n",
              "            '<a target=\"_blank\" href=https://colab.research.google.com/notebooks/data_table.ipynb>data table notebook</a>'\n",
              "            + ' to learn more about interactive tables.';\n",
              "          element.innerHTML = '';\n",
              "          dataTable['output_type'] = 'display_data';\n",
              "          await google.colab.output.renderOutput(dataTable, element);\n",
              "          const docLink = document.createElement('div');\n",
              "          docLink.innerHTML = docLinkHtml;\n",
              "          element.appendChild(docLink);\n",
              "        }\n",
              "      </script>\n",
              "    </div>\n",
              "  </div>\n"
            ]
          },
          "metadata": {},
          "execution_count": 5
        }
      ]
    },
    {
      "cell_type": "code",
      "source": [
        "track_bed_testing =df_hackathon.get('track_bed_testing')\n",
        "track_bed_testing = pd.DataFrame(track_bed_testing)\n",
        "track_bed_testing"
      ],
      "metadata": {
        "colab": {
          "base_uri": "https://localhost:8080/",
          "height": 204
        },
        "id": "toOZgFGbzv04",
        "outputId": "da592fa4-bb8b-405a-d7a4-b8ecac76e2c1"
      },
      "execution_count": null,
      "outputs": [
        {
          "output_type": "execute_result",
          "data": {
            "text/plain": [
              "         0             1             2             3             4       \\\n",
              "0 -2.200383e+05 -2.200384e+05 -2.200386e+05 -2.200389e+05 -2.200393e+05   \n",
              "1 -1.697568e+06 -1.697642e+06 -1.697789e+06 -1.697936e+06 -1.698083e+06   \n",
              "\n",
              "         5             6             7             8             9       ...  \\\n",
              "0 -2.200397e+05 -2.200399e+05 -2.200402e+05 -2.200406e+05 -2.200411e+05  ...   \n",
              "1 -1.698231e+06 -1.698304e+06 -1.698451e+06 -1.698599e+06 -1.698746e+06  ...   \n",
              "\n",
              "         235962        235963        235964        235965        235966  \\\n",
              "0 -2.418088e+05 -2.418207e+05 -2.418323e+05 -2.418439e+05 -2.418558e+05   \n",
              "1 -1.871773e+06 -1.871755e+06 -1.871737e+06 -1.871719e+06 -1.871700e+06   \n",
              "\n",
              "         235967        235968        235969        235970        235971  \n",
              "0 -2.418674e+05 -2.418793e+05 -2.418909e+05 -2.420553e+05 -2.420668e+05  \n",
              "1 -1.871682e+06 -1.871664e+06 -1.871645e+06 -1.871391e+06 -1.871373e+06  \n",
              "\n",
              "[2 rows x 235972 columns]"
            ],
            "text/html": [
              "\n",
              "\n",
              "  <div id=\"df-de8dfeb7-fa8c-4494-b8cb-c682762d5856\">\n",
              "    <div class=\"colab-df-container\">\n",
              "      <div>\n",
              "<style scoped>\n",
              "    .dataframe tbody tr th:only-of-type {\n",
              "        vertical-align: middle;\n",
              "    }\n",
              "\n",
              "    .dataframe tbody tr th {\n",
              "        vertical-align: top;\n",
              "    }\n",
              "\n",
              "    .dataframe thead th {\n",
              "        text-align: right;\n",
              "    }\n",
              "</style>\n",
              "<table border=\"1\" class=\"dataframe\">\n",
              "  <thead>\n",
              "    <tr style=\"text-align: right;\">\n",
              "      <th></th>\n",
              "      <th>0</th>\n",
              "      <th>1</th>\n",
              "      <th>2</th>\n",
              "      <th>3</th>\n",
              "      <th>4</th>\n",
              "      <th>5</th>\n",
              "      <th>6</th>\n",
              "      <th>7</th>\n",
              "      <th>8</th>\n",
              "      <th>9</th>\n",
              "      <th>...</th>\n",
              "      <th>235962</th>\n",
              "      <th>235963</th>\n",
              "      <th>235964</th>\n",
              "      <th>235965</th>\n",
              "      <th>235966</th>\n",
              "      <th>235967</th>\n",
              "      <th>235968</th>\n",
              "      <th>235969</th>\n",
              "      <th>235970</th>\n",
              "      <th>235971</th>\n",
              "    </tr>\n",
              "  </thead>\n",
              "  <tbody>\n",
              "    <tr>\n",
              "      <th>0</th>\n",
              "      <td>-2.200383e+05</td>\n",
              "      <td>-2.200384e+05</td>\n",
              "      <td>-2.200386e+05</td>\n",
              "      <td>-2.200389e+05</td>\n",
              "      <td>-2.200393e+05</td>\n",
              "      <td>-2.200397e+05</td>\n",
              "      <td>-2.200399e+05</td>\n",
              "      <td>-2.200402e+05</td>\n",
              "      <td>-2.200406e+05</td>\n",
              "      <td>-2.200411e+05</td>\n",
              "      <td>...</td>\n",
              "      <td>-2.418088e+05</td>\n",
              "      <td>-2.418207e+05</td>\n",
              "      <td>-2.418323e+05</td>\n",
              "      <td>-2.418439e+05</td>\n",
              "      <td>-2.418558e+05</td>\n",
              "      <td>-2.418674e+05</td>\n",
              "      <td>-2.418793e+05</td>\n",
              "      <td>-2.418909e+05</td>\n",
              "      <td>-2.420553e+05</td>\n",
              "      <td>-2.420668e+05</td>\n",
              "    </tr>\n",
              "    <tr>\n",
              "      <th>1</th>\n",
              "      <td>-1.697568e+06</td>\n",
              "      <td>-1.697642e+06</td>\n",
              "      <td>-1.697789e+06</td>\n",
              "      <td>-1.697936e+06</td>\n",
              "      <td>-1.698083e+06</td>\n",
              "      <td>-1.698231e+06</td>\n",
              "      <td>-1.698304e+06</td>\n",
              "      <td>-1.698451e+06</td>\n",
              "      <td>-1.698599e+06</td>\n",
              "      <td>-1.698746e+06</td>\n",
              "      <td>...</td>\n",
              "      <td>-1.871773e+06</td>\n",
              "      <td>-1.871755e+06</td>\n",
              "      <td>-1.871737e+06</td>\n",
              "      <td>-1.871719e+06</td>\n",
              "      <td>-1.871700e+06</td>\n",
              "      <td>-1.871682e+06</td>\n",
              "      <td>-1.871664e+06</td>\n",
              "      <td>-1.871645e+06</td>\n",
              "      <td>-1.871391e+06</td>\n",
              "      <td>-1.871373e+06</td>\n",
              "    </tr>\n",
              "  </tbody>\n",
              "</table>\n",
              "<p>2 rows × 235972 columns</p>\n",
              "</div>\n",
              "      <button class=\"colab-df-convert\" onclick=\"convertToInteractive('df-de8dfeb7-fa8c-4494-b8cb-c682762d5856')\"\n",
              "              title=\"Convert this dataframe to an interactive table.\"\n",
              "              style=\"display:none;\">\n",
              "\n",
              "  <svg xmlns=\"http://www.w3.org/2000/svg\" height=\"24px\"viewBox=\"0 0 24 24\"\n",
              "       width=\"24px\">\n",
              "    <path d=\"M0 0h24v24H0V0z\" fill=\"none\"/>\n",
              "    <path d=\"M18.56 5.44l.94 2.06.94-2.06 2.06-.94-2.06-.94-.94-2.06-.94 2.06-2.06.94zm-11 1L8.5 8.5l.94-2.06 2.06-.94-2.06-.94L8.5 2.5l-.94 2.06-2.06.94zm10 10l.94 2.06.94-2.06 2.06-.94-2.06-.94-.94-2.06-.94 2.06-2.06.94z\"/><path d=\"M17.41 7.96l-1.37-1.37c-.4-.4-.92-.59-1.43-.59-.52 0-1.04.2-1.43.59L10.3 9.45l-7.72 7.72c-.78.78-.78 2.05 0 2.83L4 21.41c.39.39.9.59 1.41.59.51 0 1.02-.2 1.41-.59l7.78-7.78 2.81-2.81c.8-.78.8-2.07 0-2.86zM5.41 20L4 18.59l7.72-7.72 1.47 1.35L5.41 20z\"/>\n",
              "  </svg>\n",
              "      </button>\n",
              "\n",
              "\n",
              "\n",
              "    <div id=\"df-d7291f2a-9d8b-4ff9-b957-6800e4850cbe\">\n",
              "      <button class=\"colab-df-quickchart\" onclick=\"quickchart('df-d7291f2a-9d8b-4ff9-b957-6800e4850cbe')\"\n",
              "              title=\"Suggest charts.\"\n",
              "              style=\"display:none;\">\n",
              "\n",
              "<svg xmlns=\"http://www.w3.org/2000/svg\" height=\"24px\"viewBox=\"0 0 24 24\"\n",
              "     width=\"24px\">\n",
              "    <g>\n",
              "        <path d=\"M19 3H5c-1.1 0-2 .9-2 2v14c0 1.1.9 2 2 2h14c1.1 0 2-.9 2-2V5c0-1.1-.9-2-2-2zM9 17H7v-7h2v7zm4 0h-2V7h2v10zm4 0h-2v-4h2v4z\"/>\n",
              "    </g>\n",
              "</svg>\n",
              "      </button>\n",
              "    </div>\n",
              "\n",
              "<style>\n",
              "  .colab-df-quickchart {\n",
              "    background-color: #E8F0FE;\n",
              "    border: none;\n",
              "    border-radius: 50%;\n",
              "    cursor: pointer;\n",
              "    display: none;\n",
              "    fill: #1967D2;\n",
              "    height: 32px;\n",
              "    padding: 0 0 0 0;\n",
              "    width: 32px;\n",
              "  }\n",
              "\n",
              "  .colab-df-quickchart:hover {\n",
              "    background-color: #E2EBFA;\n",
              "    box-shadow: 0px 1px 2px rgba(60, 64, 67, 0.3), 0px 1px 3px 1px rgba(60, 64, 67, 0.15);\n",
              "    fill: #174EA6;\n",
              "  }\n",
              "\n",
              "  [theme=dark] .colab-df-quickchart {\n",
              "    background-color: #3B4455;\n",
              "    fill: #D2E3FC;\n",
              "  }\n",
              "\n",
              "  [theme=dark] .colab-df-quickchart:hover {\n",
              "    background-color: #434B5C;\n",
              "    box-shadow: 0px 1px 3px 1px rgba(0, 0, 0, 0.15);\n",
              "    filter: drop-shadow(0px 1px 2px rgba(0, 0, 0, 0.3));\n",
              "    fill: #FFFFFF;\n",
              "  }\n",
              "</style>\n",
              "\n",
              "    <script>\n",
              "      async function quickchart(key) {\n",
              "        const containerElement = document.querySelector('#' + key);\n",
              "        const charts = await google.colab.kernel.invokeFunction(\n",
              "            'suggestCharts', [key], {});\n",
              "      }\n",
              "    </script>\n",
              "\n",
              "      <script>\n",
              "\n",
              "function displayQuickchartButton(domScope) {\n",
              "  let quickchartButtonEl =\n",
              "    domScope.querySelector('#df-d7291f2a-9d8b-4ff9-b957-6800e4850cbe button.colab-df-quickchart');\n",
              "  quickchartButtonEl.style.display =\n",
              "    google.colab.kernel.accessAllowed ? 'block' : 'none';\n",
              "}\n",
              "\n",
              "        displayQuickchartButton(document);\n",
              "      </script>\n",
              "      <style>\n",
              "    .colab-df-container {\n",
              "      display:flex;\n",
              "      flex-wrap:wrap;\n",
              "      gap: 12px;\n",
              "    }\n",
              "\n",
              "    .colab-df-convert {\n",
              "      background-color: #E8F0FE;\n",
              "      border: none;\n",
              "      border-radius: 50%;\n",
              "      cursor: pointer;\n",
              "      display: none;\n",
              "      fill: #1967D2;\n",
              "      height: 32px;\n",
              "      padding: 0 0 0 0;\n",
              "      width: 32px;\n",
              "    }\n",
              "\n",
              "    .colab-df-convert:hover {\n",
              "      background-color: #E2EBFA;\n",
              "      box-shadow: 0px 1px 2px rgba(60, 64, 67, 0.3), 0px 1px 3px 1px rgba(60, 64, 67, 0.15);\n",
              "      fill: #174EA6;\n",
              "    }\n",
              "\n",
              "    [theme=dark] .colab-df-convert {\n",
              "      background-color: #3B4455;\n",
              "      fill: #D2E3FC;\n",
              "    }\n",
              "\n",
              "    [theme=dark] .colab-df-convert:hover {\n",
              "      background-color: #434B5C;\n",
              "      box-shadow: 0px 1px 3px 1px rgba(0, 0, 0, 0.15);\n",
              "      filter: drop-shadow(0px 1px 2px rgba(0, 0, 0, 0.3));\n",
              "      fill: #FFFFFF;\n",
              "    }\n",
              "  </style>\n",
              "\n",
              "      <script>\n",
              "        const buttonEl =\n",
              "          document.querySelector('#df-de8dfeb7-fa8c-4494-b8cb-c682762d5856 button.colab-df-convert');\n",
              "        buttonEl.style.display =\n",
              "          google.colab.kernel.accessAllowed ? 'block' : 'none';\n",
              "\n",
              "        async function convertToInteractive(key) {\n",
              "          const element = document.querySelector('#df-de8dfeb7-fa8c-4494-b8cb-c682762d5856');\n",
              "          const dataTable =\n",
              "            await google.colab.kernel.invokeFunction('convertToInteractive',\n",
              "                                                     [key], {});\n",
              "          if (!dataTable) return;\n",
              "\n",
              "          const docLinkHtml = 'Like what you see? Visit the ' +\n",
              "            '<a target=\"_blank\" href=https://colab.research.google.com/notebooks/data_table.ipynb>data table notebook</a>'\n",
              "            + ' to learn more about interactive tables.';\n",
              "          element.innerHTML = '';\n",
              "          dataTable['output_type'] = 'display_data';\n",
              "          await google.colab.output.renderOutput(dataTable, element);\n",
              "          const docLink = document.createElement('div');\n",
              "          docLink.innerHTML = docLinkHtml;\n",
              "          element.appendChild(docLink);\n",
              "        }\n",
              "      </script>\n",
              "    </div>\n",
              "  </div>\n"
            ]
          },
          "metadata": {},
          "execution_count": 9
        }
      ]
    },
    {
      "cell_type": "code",
      "source": [
        "track_x = track_bed_training.iloc[0][:]\n",
        "track_x"
      ],
      "metadata": {
        "colab": {
          "base_uri": "https://localhost:8080/"
        },
        "id": "_us_inyspb0A",
        "outputId": "110cfc17-0866-4aa3-fb98-3642590fe884"
      },
      "execution_count": null,
      "outputs": [
        {
          "output_type": "execute_result",
          "data": {
            "text/plain": [
              "0        -206037.406250\n",
              "1        -205981.171875\n",
              "2        -205953.109375\n",
              "3        -205897.078125\n",
              "4        -205841.328125\n",
              "              ...      \n",
              "396729   -278061.656250\n",
              "396730   -278064.468750\n",
              "396731   -278067.125000\n",
              "396732   -278069.656250\n",
              "396733   -278072.343750\n",
              "Name: 0, Length: 396734, dtype: float64"
            ]
          },
          "metadata": {},
          "execution_count": 10
        }
      ]
    },
    {
      "cell_type": "code",
      "source": [
        "track_y = track_bed_training.iloc[1][:]\n",
        "track_y"
      ],
      "metadata": {
        "colab": {
          "base_uri": "https://localhost:8080/"
        },
        "id": "u9PCxPr3qIaj",
        "outputId": "24d3afe1-3e25-4fcd-eeb4-e5da2d00f440"
      },
      "execution_count": null,
      "outputs": [
        {
          "output_type": "execute_result",
          "data": {
            "text/plain": [
              "0        -1827384.000\n",
              "1        -1827518.625\n",
              "2        -1827586.125\n",
              "3        -1827720.750\n",
              "4        -1827855.625\n",
              "             ...     \n",
              "396729   -1720043.625\n",
              "396730   -1720023.125\n",
              "396731   -1720001.375\n",
              "396732   -1719980.875\n",
              "396733   -1719959.250\n",
              "Name: 1, Length: 396734, dtype: float64"
            ]
          },
          "metadata": {},
          "execution_count": 11
        }
      ]
    },
    {
      "cell_type": "code",
      "source": [
        "bed_groundtruth = track_bed_training.iloc[2][:]\n",
        "bed_groundtruth"
      ],
      "metadata": {
        "colab": {
          "base_uri": "https://localhost:8080/"
        },
        "id": "r8kJpAiIqO2M",
        "outputId": "0348347f-cf72-4520-d0c3-b5898741d0d0"
      },
      "execution_count": null,
      "outputs": [
        {
          "output_type": "execute_result",
          "data": {
            "text/plain": [
              "0         538.235168\n",
              "1         550.491638\n",
              "2         563.800598\n",
              "3         560.530823\n",
              "4         545.708252\n",
              "             ...    \n",
              "396729    240.890564\n",
              "396730    240.956131\n",
              "396731    233.992737\n",
              "396732    227.039673\n",
              "396733    227.064072\n",
              "Name: 2, Length: 396734, dtype: float64"
            ]
          },
          "metadata": {},
          "execution_count": 12
        }
      ]
    },
    {
      "cell_type": "code",
      "source": [
        "#bed_BedMachine =df_02.get('bed_BedMachine')\n",
        "#bed_BedMachine = pd.DataFrame(bed_BedMachine)\n",
        "#data_bedmachine = np.array([bed_BedMachine]).T\n",
        "#ata_bedmachine"
      ],
      "metadata": {
        "id": "33xPfNhbJ9Xx"
      },
      "execution_count": null,
      "outputs": []
    },
    {
      "cell_type": "code",
      "source": [
        "surf_x =df_bedmachine.get('surf_x')\n",
        "surf_x = pd.DataFrame(surf_x)\n",
        "surf_x"
      ],
      "metadata": {
        "id": "OjGcC2M3KrC3"
      },
      "execution_count": null,
      "outputs": []
    },
    {
      "cell_type": "code",
      "source": [
        "x = surf_x.iloc[:][0]\n",
        "x"
      ],
      "metadata": {
        "id": "nGUdZyzUoetw"
      },
      "execution_count": null,
      "outputs": []
    },
    {
      "cell_type": "code",
      "source": [
        "surf_y =df_bedmachine.get('surf_y')\n",
        "surf_y = pd.DataFrame(surf_y)\n",
        "surf_y"
      ],
      "metadata": {
        "id": "GKq3i-HfKxsZ"
      },
      "execution_count": null,
      "outputs": []
    },
    {
      "cell_type": "code",
      "source": [
        "y = surf_y.iloc[0][:]\n",
        "y"
      ],
      "metadata": {
        "colab": {
          "base_uri": "https://localhost:8080/"
        },
        "id": "ABgUGx7ioqiy",
        "outputId": "a0a89573-daa9-43e5-de1d-79c404bfbee2"
      },
      "execution_count": null,
      "outputs": [
        {
          "output_type": "execute_result",
          "data": {
            "text/plain": [
              "0      -1697525.0\n",
              "1      -1697675.0\n",
              "2      -1697825.0\n",
              "3      -1697975.0\n",
              "4      -1698125.0\n",
              "          ...    \n",
              "1196   -1876925.0\n",
              "1197   -1877075.0\n",
              "1198   -1877225.0\n",
              "1199   -1877375.0\n",
              "1200   -1877525.0\n",
              "Name: 0, Length: 1201, dtype: float32"
            ]
          },
          "metadata": {},
          "execution_count": 16
        }
      ]
    },
    {
      "cell_type": "code",
      "source": [
        "# interpolation of training data using surf_x(0) and surf_y(1)\n",
        "from scipy.interpolate import RegularGridInterpolator\n",
        "import numpy as np\n",
        "import matplotlib.pyplot as plt\n",
        "x = surf_x.iloc[:][0]\n",
        "y = surf_y.iloc[0][:]\n",
        "interp = RegularGridInterpolator((x, y),bed_BedMachine, bounds_error=False, fill_value=None)\n",
        "interpolated_bedmachine = interp((track_bed_training.iloc[0][:], track_bed_training.iloc[1][:]))\n",
        "interpolated_bedmachine"
      ],
      "metadata": {
        "colab": {
          "base_uri": "https://localhost:8080/"
        },
        "id": "dI8MBNqcpFIx",
        "outputId": "58f81682-1574-4976-d5d8-64273468f87f"
      },
      "execution_count": null,
      "outputs": [
        {
          "output_type": "execute_result",
          "data": {
            "text/plain": [
              "array([484.29138229, 484.01289827, 483.91233229, ..., 233.54048655,\n",
              "       232.77649187, 231.96939687])"
            ]
          },
          "metadata": {},
          "execution_count": 17
        }
      ]
    },
    {
      "cell_type": "code",
      "source": [
        "type(interpolated_bedmachine)"
      ],
      "metadata": {
        "colab": {
          "base_uri": "https://localhost:8080/"
        },
        "id": "LBAAJYpaisfU",
        "outputId": "b61e8d66-aee4-431b-d01f-3e16c66fc5a5"
      },
      "execution_count": null,
      "outputs": [
        {
          "output_type": "execute_result",
          "data": {
            "text/plain": [
              "numpy.ndarray"
            ]
          },
          "metadata": {},
          "execution_count": 18
        }
      ]
    },
    {
      "cell_type": "code",
      "source": [
        "# converting dataframe to numpy array\n",
        "track_bed_training_arr = track_bed_training.to_numpy()\n",
        "track_bed_training_arr"
      ],
      "metadata": {
        "colab": {
          "base_uri": "https://localhost:8080/"
        },
        "id": "CbJObMzsqE80",
        "outputId": "1e0117f5-a97b-4e6c-f7c3-ae7932c9bda9"
      },
      "execution_count": null,
      "outputs": [
        {
          "output_type": "execute_result",
          "data": {
            "text/plain": [
              "array([[-2.06037406e+05, -2.05981172e+05, -2.05953109e+05, ...,\n",
              "        -2.78067125e+05, -2.78069656e+05, -2.78072344e+05],\n",
              "       [-1.82738400e+06, -1.82751862e+06, -1.82758612e+06, ...,\n",
              "        -1.72000138e+06, -1.71998088e+06, -1.71995925e+06],\n",
              "       [ 5.38235168e+02,  5.50491638e+02,  5.63800598e+02, ...,\n",
              "         2.33992737e+02,  2.27039673e+02,  2.27064072e+02]])"
            ]
          },
          "metadata": {},
          "execution_count": 19
        }
      ]
    },
    {
      "cell_type": "code",
      "source": [
        "# numpy array to store the training data with interpolated variables\n",
        "track_bed_training_T_interpotale = np.zeros((4,track_bed_training_arr.shape[1]))\n",
        "track_bed_training_T_interpotale[0:3,:] = track_bed_training_arr[0:3,:]\n",
        "#track_bed_training_T_interpotale[0,:], track_bed_training.iloc[0], track_bed_training_arr[0,:]\n",
        "track_bed_training_T_interpotale"
      ],
      "metadata": {
        "colab": {
          "base_uri": "https://localhost:8080/"
        },
        "id": "vQ5f5veQj1T4",
        "outputId": "b5876736-1e54-4a2b-fe2f-bc571fc8f256"
      },
      "execution_count": null,
      "outputs": [
        {
          "output_type": "execute_result",
          "data": {
            "text/plain": [
              "array([[-2.06037406e+05, -2.05981172e+05, -2.05953109e+05, ...,\n",
              "        -2.78067125e+05, -2.78069656e+05, -2.78072344e+05],\n",
              "       [-1.82738400e+06, -1.82751862e+06, -1.82758612e+06, ...,\n",
              "        -1.72000138e+06, -1.71998088e+06, -1.71995925e+06],\n",
              "       [ 5.38235168e+02,  5.50491638e+02,  5.63800598e+02, ...,\n",
              "         2.33992737e+02,  2.27039673e+02,  2.27064072e+02],\n",
              "       [ 0.00000000e+00,  0.00000000e+00,  0.00000000e+00, ...,\n",
              "         0.00000000e+00,  0.00000000e+00,  0.00000000e+00]])"
            ]
          },
          "metadata": {},
          "execution_count": 20
        }
      ]
    },
    {
      "cell_type": "code",
      "source": [
        "track_bed_training_T_interpotale"
      ],
      "metadata": {
        "colab": {
          "base_uri": "https://localhost:8080/"
        },
        "id": "bhsBtuQ_lXAi",
        "outputId": "f1a065e3-913b-49f0-9351-4aad31b85373"
      },
      "execution_count": null,
      "outputs": [
        {
          "output_type": "execute_result",
          "data": {
            "text/plain": [
              "array([[-2.06037406e+05, -2.05981172e+05, -2.05953109e+05, ...,\n",
              "        -2.78067125e+05, -2.78069656e+05, -2.78072344e+05],\n",
              "       [-1.82738400e+06, -1.82751862e+06, -1.82758612e+06, ...,\n",
              "        -1.72000138e+06, -1.71998088e+06, -1.71995925e+06],\n",
              "       [ 5.38235168e+02,  5.50491638e+02,  5.63800598e+02, ...,\n",
              "         2.33992737e+02,  2.27039673e+02,  2.27064072e+02],\n",
              "       [ 0.00000000e+00,  0.00000000e+00,  0.00000000e+00, ...,\n",
              "         0.00000000e+00,  0.00000000e+00,  0.00000000e+00]])"
            ]
          },
          "metadata": {},
          "execution_count": 110
        }
      ]
    },
    {
      "cell_type": "code",
      "source": [
        "#track_bed_training_T_interpotale_df = pd.DataFrame(data = interpolated_bedmachine)\n",
        "track_bed_training_T_interpotale[3,:] = interpolated_bedmachine\n",
        "track_bed_training_T_interpotale_df = pd.DataFrame(data = track_bed_training_T_interpotale.T, columns = ['track_x', 'track_y', 'target', 'bed_machine'])\n",
        "track_bed_training_T_interpotale_df"
      ],
      "metadata": {
        "colab": {
          "base_uri": "https://localhost:8080/",
          "height": 419
        },
        "id": "oYfMOig1ndFt",
        "outputId": "e6d11fbc-6a93-4b50-eb67-5493a2b677b2"
      },
      "execution_count": null,
      "outputs": [
        {
          "output_type": "execute_result",
          "data": {
            "text/plain": [
              "              track_x      track_y      target  bed_machine\n",
              "0      -206037.406250 -1827384.000  538.235168   484.291382\n",
              "1      -205981.171875 -1827518.625  550.491638   484.012898\n",
              "2      -205953.109375 -1827586.125  563.800598   483.912332\n",
              "3      -205897.078125 -1827720.750  560.530823   483.171844\n",
              "4      -205841.328125 -1827855.625  545.708252   481.979672\n",
              "...               ...          ...         ...          ...\n",
              "396729 -278061.656250 -1720043.625  240.890564   235.117712\n",
              "396730 -278064.468750 -1720023.125  240.956131   234.349890\n",
              "396731 -278067.125000 -1720001.375  233.992737   233.540487\n",
              "396732 -278069.656250 -1719980.875  227.039673   232.776492\n",
              "396733 -278072.343750 -1719959.250  227.064072   231.969397\n",
              "\n",
              "[396734 rows x 4 columns]"
            ],
            "text/html": [
              "\n",
              "\n",
              "  <div id=\"df-991d0ead-cf01-46cc-a4f0-358184bd5c87\">\n",
              "    <div class=\"colab-df-container\">\n",
              "      <div>\n",
              "<style scoped>\n",
              "    .dataframe tbody tr th:only-of-type {\n",
              "        vertical-align: middle;\n",
              "    }\n",
              "\n",
              "    .dataframe tbody tr th {\n",
              "        vertical-align: top;\n",
              "    }\n",
              "\n",
              "    .dataframe thead th {\n",
              "        text-align: right;\n",
              "    }\n",
              "</style>\n",
              "<table border=\"1\" class=\"dataframe\">\n",
              "  <thead>\n",
              "    <tr style=\"text-align: right;\">\n",
              "      <th></th>\n",
              "      <th>track_x</th>\n",
              "      <th>track_y</th>\n",
              "      <th>target</th>\n",
              "      <th>bed_machine</th>\n",
              "    </tr>\n",
              "  </thead>\n",
              "  <tbody>\n",
              "    <tr>\n",
              "      <th>0</th>\n",
              "      <td>-206037.406250</td>\n",
              "      <td>-1827384.000</td>\n",
              "      <td>538.235168</td>\n",
              "      <td>484.291382</td>\n",
              "    </tr>\n",
              "    <tr>\n",
              "      <th>1</th>\n",
              "      <td>-205981.171875</td>\n",
              "      <td>-1827518.625</td>\n",
              "      <td>550.491638</td>\n",
              "      <td>484.012898</td>\n",
              "    </tr>\n",
              "    <tr>\n",
              "      <th>2</th>\n",
              "      <td>-205953.109375</td>\n",
              "      <td>-1827586.125</td>\n",
              "      <td>563.800598</td>\n",
              "      <td>483.912332</td>\n",
              "    </tr>\n",
              "    <tr>\n",
              "      <th>3</th>\n",
              "      <td>-205897.078125</td>\n",
              "      <td>-1827720.750</td>\n",
              "      <td>560.530823</td>\n",
              "      <td>483.171844</td>\n",
              "    </tr>\n",
              "    <tr>\n",
              "      <th>4</th>\n",
              "      <td>-205841.328125</td>\n",
              "      <td>-1827855.625</td>\n",
              "      <td>545.708252</td>\n",
              "      <td>481.979672</td>\n",
              "    </tr>\n",
              "    <tr>\n",
              "      <th>...</th>\n",
              "      <td>...</td>\n",
              "      <td>...</td>\n",
              "      <td>...</td>\n",
              "      <td>...</td>\n",
              "    </tr>\n",
              "    <tr>\n",
              "      <th>396729</th>\n",
              "      <td>-278061.656250</td>\n",
              "      <td>-1720043.625</td>\n",
              "      <td>240.890564</td>\n",
              "      <td>235.117712</td>\n",
              "    </tr>\n",
              "    <tr>\n",
              "      <th>396730</th>\n",
              "      <td>-278064.468750</td>\n",
              "      <td>-1720023.125</td>\n",
              "      <td>240.956131</td>\n",
              "      <td>234.349890</td>\n",
              "    </tr>\n",
              "    <tr>\n",
              "      <th>396731</th>\n",
              "      <td>-278067.125000</td>\n",
              "      <td>-1720001.375</td>\n",
              "      <td>233.992737</td>\n",
              "      <td>233.540487</td>\n",
              "    </tr>\n",
              "    <tr>\n",
              "      <th>396732</th>\n",
              "      <td>-278069.656250</td>\n",
              "      <td>-1719980.875</td>\n",
              "      <td>227.039673</td>\n",
              "      <td>232.776492</td>\n",
              "    </tr>\n",
              "    <tr>\n",
              "      <th>396733</th>\n",
              "      <td>-278072.343750</td>\n",
              "      <td>-1719959.250</td>\n",
              "      <td>227.064072</td>\n",
              "      <td>231.969397</td>\n",
              "    </tr>\n",
              "  </tbody>\n",
              "</table>\n",
              "<p>396734 rows × 4 columns</p>\n",
              "</div>\n",
              "      <button class=\"colab-df-convert\" onclick=\"convertToInteractive('df-991d0ead-cf01-46cc-a4f0-358184bd5c87')\"\n",
              "              title=\"Convert this dataframe to an interactive table.\"\n",
              "              style=\"display:none;\">\n",
              "\n",
              "  <svg xmlns=\"http://www.w3.org/2000/svg\" height=\"24px\"viewBox=\"0 0 24 24\"\n",
              "       width=\"24px\">\n",
              "    <path d=\"M0 0h24v24H0V0z\" fill=\"none\"/>\n",
              "    <path d=\"M18.56 5.44l.94 2.06.94-2.06 2.06-.94-2.06-.94-.94-2.06-.94 2.06-2.06.94zm-11 1L8.5 8.5l.94-2.06 2.06-.94-2.06-.94L8.5 2.5l-.94 2.06-2.06.94zm10 10l.94 2.06.94-2.06 2.06-.94-2.06-.94-.94-2.06-.94 2.06-2.06.94z\"/><path d=\"M17.41 7.96l-1.37-1.37c-.4-.4-.92-.59-1.43-.59-.52 0-1.04.2-1.43.59L10.3 9.45l-7.72 7.72c-.78.78-.78 2.05 0 2.83L4 21.41c.39.39.9.59 1.41.59.51 0 1.02-.2 1.41-.59l7.78-7.78 2.81-2.81c.8-.78.8-2.07 0-2.86zM5.41 20L4 18.59l7.72-7.72 1.47 1.35L5.41 20z\"/>\n",
              "  </svg>\n",
              "      </button>\n",
              "\n",
              "\n",
              "\n",
              "    <div id=\"df-cf903f1e-55f3-4826-a686-02f720ec5156\">\n",
              "      <button class=\"colab-df-quickchart\" onclick=\"quickchart('df-cf903f1e-55f3-4826-a686-02f720ec5156')\"\n",
              "              title=\"Suggest charts.\"\n",
              "              style=\"display:none;\">\n",
              "\n",
              "<svg xmlns=\"http://www.w3.org/2000/svg\" height=\"24px\"viewBox=\"0 0 24 24\"\n",
              "     width=\"24px\">\n",
              "    <g>\n",
              "        <path d=\"M19 3H5c-1.1 0-2 .9-2 2v14c0 1.1.9 2 2 2h14c1.1 0 2-.9 2-2V5c0-1.1-.9-2-2-2zM9 17H7v-7h2v7zm4 0h-2V7h2v10zm4 0h-2v-4h2v4z\"/>\n",
              "    </g>\n",
              "</svg>\n",
              "      </button>\n",
              "    </div>\n",
              "\n",
              "<style>\n",
              "  .colab-df-quickchart {\n",
              "    background-color: #E8F0FE;\n",
              "    border: none;\n",
              "    border-radius: 50%;\n",
              "    cursor: pointer;\n",
              "    display: none;\n",
              "    fill: #1967D2;\n",
              "    height: 32px;\n",
              "    padding: 0 0 0 0;\n",
              "    width: 32px;\n",
              "  }\n",
              "\n",
              "  .colab-df-quickchart:hover {\n",
              "    background-color: #E2EBFA;\n",
              "    box-shadow: 0px 1px 2px rgba(60, 64, 67, 0.3), 0px 1px 3px 1px rgba(60, 64, 67, 0.15);\n",
              "    fill: #174EA6;\n",
              "  }\n",
              "\n",
              "  [theme=dark] .colab-df-quickchart {\n",
              "    background-color: #3B4455;\n",
              "    fill: #D2E3FC;\n",
              "  }\n",
              "\n",
              "  [theme=dark] .colab-df-quickchart:hover {\n",
              "    background-color: #434B5C;\n",
              "    box-shadow: 0px 1px 3px 1px rgba(0, 0, 0, 0.15);\n",
              "    filter: drop-shadow(0px 1px 2px rgba(0, 0, 0, 0.3));\n",
              "    fill: #FFFFFF;\n",
              "  }\n",
              "</style>\n",
              "\n",
              "    <script>\n",
              "      async function quickchart(key) {\n",
              "        const containerElement = document.querySelector('#' + key);\n",
              "        const charts = await google.colab.kernel.invokeFunction(\n",
              "            'suggestCharts', [key], {});\n",
              "      }\n",
              "    </script>\n",
              "\n",
              "      <script>\n",
              "\n",
              "function displayQuickchartButton(domScope) {\n",
              "  let quickchartButtonEl =\n",
              "    domScope.querySelector('#df-cf903f1e-55f3-4826-a686-02f720ec5156 button.colab-df-quickchart');\n",
              "  quickchartButtonEl.style.display =\n",
              "    google.colab.kernel.accessAllowed ? 'block' : 'none';\n",
              "}\n",
              "\n",
              "        displayQuickchartButton(document);\n",
              "      </script>\n",
              "      <style>\n",
              "    .colab-df-container {\n",
              "      display:flex;\n",
              "      flex-wrap:wrap;\n",
              "      gap: 12px;\n",
              "    }\n",
              "\n",
              "    .colab-df-convert {\n",
              "      background-color: #E8F0FE;\n",
              "      border: none;\n",
              "      border-radius: 50%;\n",
              "      cursor: pointer;\n",
              "      display: none;\n",
              "      fill: #1967D2;\n",
              "      height: 32px;\n",
              "      padding: 0 0 0 0;\n",
              "      width: 32px;\n",
              "    }\n",
              "\n",
              "    .colab-df-convert:hover {\n",
              "      background-color: #E2EBFA;\n",
              "      box-shadow: 0px 1px 2px rgba(60, 64, 67, 0.3), 0px 1px 3px 1px rgba(60, 64, 67, 0.15);\n",
              "      fill: #174EA6;\n",
              "    }\n",
              "\n",
              "    [theme=dark] .colab-df-convert {\n",
              "      background-color: #3B4455;\n",
              "      fill: #D2E3FC;\n",
              "    }\n",
              "\n",
              "    [theme=dark] .colab-df-convert:hover {\n",
              "      background-color: #434B5C;\n",
              "      box-shadow: 0px 1px 3px 1px rgba(0, 0, 0, 0.15);\n",
              "      filter: drop-shadow(0px 1px 2px rgba(0, 0, 0, 0.3));\n",
              "      fill: #FFFFFF;\n",
              "    }\n",
              "  </style>\n",
              "\n",
              "      <script>\n",
              "        const buttonEl =\n",
              "          document.querySelector('#df-991d0ead-cf01-46cc-a4f0-358184bd5c87 button.colab-df-convert');\n",
              "        buttonEl.style.display =\n",
              "          google.colab.kernel.accessAllowed ? 'block' : 'none';\n",
              "\n",
              "        async function convertToInteractive(key) {\n",
              "          const element = document.querySelector('#df-991d0ead-cf01-46cc-a4f0-358184bd5c87');\n",
              "          const dataTable =\n",
              "            await google.colab.kernel.invokeFunction('convertToInteractive',\n",
              "                                                     [key], {});\n",
              "          if (!dataTable) return;\n",
              "\n",
              "          const docLinkHtml = 'Like what you see? Visit the ' +\n",
              "            '<a target=\"_blank\" href=https://colab.research.google.com/notebooks/data_table.ipynb>data table notebook</a>'\n",
              "            + ' to learn more about interactive tables.';\n",
              "          element.innerHTML = '';\n",
              "          dataTable['output_type'] = 'display_data';\n",
              "          await google.colab.output.renderOutput(dataTable, element);\n",
              "          const docLink = document.createElement('div');\n",
              "          docLink.innerHTML = docLinkHtml;\n",
              "          element.appendChild(docLink);\n",
              "        }\n",
              "      </script>\n",
              "    </div>\n",
              "  </div>\n"
            ]
          },
          "metadata": {},
          "execution_count": 23
        }
      ]
    },
    {
      "cell_type": "code",
      "source": [
        "## Writing interpolated data in CSV format\n",
        "track_bed_training_T_interpotale=track_bed_training_T_interpotale_df.to_csv('track_bed_training_interpotale.csv', index=False)"
      ],
      "metadata": {
        "id": "L9H_sHhrjSeW"
      },
      "execution_count": null,
      "outputs": []
    },
    {
      "cell_type": "code",
      "source": [
        "hackathon_solution_file_location = '/content/hackathon_solution.h5'\n",
        "df_hackathon_solution = h5py.File(hackathon_solution_file_location, 'r')\n",
        "\n",
        "#bed_BedMachine_test =df_hackathon_solution.get('track_bed_testing')\n",
        "#bed_BedMachine_test=np.array(bed_BedMachine_test)\n",
        "#bed_BedMachine_test"
      ],
      "metadata": {
        "id": "zc2oEN5NrXpo"
      },
      "execution_count": null,
      "outputs": []
    },
    {
      "cell_type": "code",
      "source": [
        "track_bed_testing =df_hackathon_solution.get('track_bed_testing')\n",
        "track_bed_testing = pd.DataFrame(track_bed_testing)\n",
        "track_bed_testing"
      ],
      "metadata": {
        "colab": {
          "base_uri": "https://localhost:8080/",
          "height": 235
        },
        "id": "pOyd3d5G2wHW",
        "outputId": "342b818e-2861-4e44-d558-b7be2705b73a"
      },
      "execution_count": null,
      "outputs": [
        {
          "output_type": "execute_result",
          "data": {
            "text/plain": [
              "         0             1             2             3             4       \\\n",
              "0 -2.200383e+05 -2.200384e+05 -2.200386e+05 -2.200389e+05 -2.200393e+05   \n",
              "1 -1.697568e+06 -1.697642e+06 -1.697789e+06 -1.697936e+06 -1.698083e+06   \n",
              "2  3.559614e+02  3.635703e+02  3.782978e+02  3.904904e+02  3.916742e+02   \n",
              "\n",
              "         5             6             7             8             9       ...  \\\n",
              "0 -2.200397e+05 -2.200399e+05 -2.200402e+05 -2.200406e+05 -2.200411e+05  ...   \n",
              "1 -1.698231e+06 -1.698304e+06 -1.698452e+06 -1.698599e+06 -1.698746e+06  ...   \n",
              "2  3.949558e+02  3.982959e+02  4.017264e+02  4.039883e+02  4.061511e+02  ...   \n",
              "\n",
              "         235962        235963        235964        235965        235966  \\\n",
              "0 -2.418088e+05 -2.418207e+05 -2.418323e+05 -2.418439e+05 -2.418558e+05   \n",
              "1 -1.871773e+06 -1.871755e+06 -1.871737e+06 -1.871719e+06 -1.871700e+06   \n",
              "2  5.990311e+02  5.850154e+02  5.850388e+02  5.780992e+02  5.711619e+02   \n",
              "\n",
              "         235967        235968        235969        235970        235971  \n",
              "0 -2.418674e+05 -2.418793e+05 -2.418909e+05 -2.420552e+05 -2.420668e+05  \n",
              "1 -1.871682e+06 -1.871664e+06 -1.871646e+06 -1.871391e+06 -1.871373e+06  \n",
              "2  5.642097e+02  5.642252e+02  5.632264e+02  9.428146e+01  1.002415e+02  \n",
              "\n",
              "[3 rows x 235972 columns]"
            ],
            "text/html": [
              "\n",
              "\n",
              "  <div id=\"df-17b7bce6-53c7-41ca-8b99-241a1cebd2d6\">\n",
              "    <div class=\"colab-df-container\">\n",
              "      <div>\n",
              "<style scoped>\n",
              "    .dataframe tbody tr th:only-of-type {\n",
              "        vertical-align: middle;\n",
              "    }\n",
              "\n",
              "    .dataframe tbody tr th {\n",
              "        vertical-align: top;\n",
              "    }\n",
              "\n",
              "    .dataframe thead th {\n",
              "        text-align: right;\n",
              "    }\n",
              "</style>\n",
              "<table border=\"1\" class=\"dataframe\">\n",
              "  <thead>\n",
              "    <tr style=\"text-align: right;\">\n",
              "      <th></th>\n",
              "      <th>0</th>\n",
              "      <th>1</th>\n",
              "      <th>2</th>\n",
              "      <th>3</th>\n",
              "      <th>4</th>\n",
              "      <th>5</th>\n",
              "      <th>6</th>\n",
              "      <th>7</th>\n",
              "      <th>8</th>\n",
              "      <th>9</th>\n",
              "      <th>...</th>\n",
              "      <th>235962</th>\n",
              "      <th>235963</th>\n",
              "      <th>235964</th>\n",
              "      <th>235965</th>\n",
              "      <th>235966</th>\n",
              "      <th>235967</th>\n",
              "      <th>235968</th>\n",
              "      <th>235969</th>\n",
              "      <th>235970</th>\n",
              "      <th>235971</th>\n",
              "    </tr>\n",
              "  </thead>\n",
              "  <tbody>\n",
              "    <tr>\n",
              "      <th>0</th>\n",
              "      <td>-2.200383e+05</td>\n",
              "      <td>-2.200384e+05</td>\n",
              "      <td>-2.200386e+05</td>\n",
              "      <td>-2.200389e+05</td>\n",
              "      <td>-2.200393e+05</td>\n",
              "      <td>-2.200397e+05</td>\n",
              "      <td>-2.200399e+05</td>\n",
              "      <td>-2.200402e+05</td>\n",
              "      <td>-2.200406e+05</td>\n",
              "      <td>-2.200411e+05</td>\n",
              "      <td>...</td>\n",
              "      <td>-2.418088e+05</td>\n",
              "      <td>-2.418207e+05</td>\n",
              "      <td>-2.418323e+05</td>\n",
              "      <td>-2.418439e+05</td>\n",
              "      <td>-2.418558e+05</td>\n",
              "      <td>-2.418674e+05</td>\n",
              "      <td>-2.418793e+05</td>\n",
              "      <td>-2.418909e+05</td>\n",
              "      <td>-2.420552e+05</td>\n",
              "      <td>-2.420668e+05</td>\n",
              "    </tr>\n",
              "    <tr>\n",
              "      <th>1</th>\n",
              "      <td>-1.697568e+06</td>\n",
              "      <td>-1.697642e+06</td>\n",
              "      <td>-1.697789e+06</td>\n",
              "      <td>-1.697936e+06</td>\n",
              "      <td>-1.698083e+06</td>\n",
              "      <td>-1.698231e+06</td>\n",
              "      <td>-1.698304e+06</td>\n",
              "      <td>-1.698452e+06</td>\n",
              "      <td>-1.698599e+06</td>\n",
              "      <td>-1.698746e+06</td>\n",
              "      <td>...</td>\n",
              "      <td>-1.871773e+06</td>\n",
              "      <td>-1.871755e+06</td>\n",
              "      <td>-1.871737e+06</td>\n",
              "      <td>-1.871719e+06</td>\n",
              "      <td>-1.871700e+06</td>\n",
              "      <td>-1.871682e+06</td>\n",
              "      <td>-1.871664e+06</td>\n",
              "      <td>-1.871646e+06</td>\n",
              "      <td>-1.871391e+06</td>\n",
              "      <td>-1.871373e+06</td>\n",
              "    </tr>\n",
              "    <tr>\n",
              "      <th>2</th>\n",
              "      <td>3.559614e+02</td>\n",
              "      <td>3.635703e+02</td>\n",
              "      <td>3.782978e+02</td>\n",
              "      <td>3.904904e+02</td>\n",
              "      <td>3.916742e+02</td>\n",
              "      <td>3.949558e+02</td>\n",
              "      <td>3.982959e+02</td>\n",
              "      <td>4.017264e+02</td>\n",
              "      <td>4.039883e+02</td>\n",
              "      <td>4.061511e+02</td>\n",
              "      <td>...</td>\n",
              "      <td>5.990311e+02</td>\n",
              "      <td>5.850154e+02</td>\n",
              "      <td>5.850388e+02</td>\n",
              "      <td>5.780992e+02</td>\n",
              "      <td>5.711619e+02</td>\n",
              "      <td>5.642097e+02</td>\n",
              "      <td>5.642252e+02</td>\n",
              "      <td>5.632264e+02</td>\n",
              "      <td>9.428146e+01</td>\n",
              "      <td>1.002415e+02</td>\n",
              "    </tr>\n",
              "  </tbody>\n",
              "</table>\n",
              "<p>3 rows × 235972 columns</p>\n",
              "</div>\n",
              "      <button class=\"colab-df-convert\" onclick=\"convertToInteractive('df-17b7bce6-53c7-41ca-8b99-241a1cebd2d6')\"\n",
              "              title=\"Convert this dataframe to an interactive table.\"\n",
              "              style=\"display:none;\">\n",
              "\n",
              "  <svg xmlns=\"http://www.w3.org/2000/svg\" height=\"24px\"viewBox=\"0 0 24 24\"\n",
              "       width=\"24px\">\n",
              "    <path d=\"M0 0h24v24H0V0z\" fill=\"none\"/>\n",
              "    <path d=\"M18.56 5.44l.94 2.06.94-2.06 2.06-.94-2.06-.94-.94-2.06-.94 2.06-2.06.94zm-11 1L8.5 8.5l.94-2.06 2.06-.94-2.06-.94L8.5 2.5l-.94 2.06-2.06.94zm10 10l.94 2.06.94-2.06 2.06-.94-2.06-.94-.94-2.06-.94 2.06-2.06.94z\"/><path d=\"M17.41 7.96l-1.37-1.37c-.4-.4-.92-.59-1.43-.59-.52 0-1.04.2-1.43.59L10.3 9.45l-7.72 7.72c-.78.78-.78 2.05 0 2.83L4 21.41c.39.39.9.59 1.41.59.51 0 1.02-.2 1.41-.59l7.78-7.78 2.81-2.81c.8-.78.8-2.07 0-2.86zM5.41 20L4 18.59l7.72-7.72 1.47 1.35L5.41 20z\"/>\n",
              "  </svg>\n",
              "      </button>\n",
              "\n",
              "\n",
              "\n",
              "    <div id=\"df-7db70df3-b401-41ea-83f3-1cb3d085c681\">\n",
              "      <button class=\"colab-df-quickchart\" onclick=\"quickchart('df-7db70df3-b401-41ea-83f3-1cb3d085c681')\"\n",
              "              title=\"Suggest charts.\"\n",
              "              style=\"display:none;\">\n",
              "\n",
              "<svg xmlns=\"http://www.w3.org/2000/svg\" height=\"24px\"viewBox=\"0 0 24 24\"\n",
              "     width=\"24px\">\n",
              "    <g>\n",
              "        <path d=\"M19 3H5c-1.1 0-2 .9-2 2v14c0 1.1.9 2 2 2h14c1.1 0 2-.9 2-2V5c0-1.1-.9-2-2-2zM9 17H7v-7h2v7zm4 0h-2V7h2v10zm4 0h-2v-4h2v4z\"/>\n",
              "    </g>\n",
              "</svg>\n",
              "      </button>\n",
              "    </div>\n",
              "\n",
              "<style>\n",
              "  .colab-df-quickchart {\n",
              "    background-color: #E8F0FE;\n",
              "    border: none;\n",
              "    border-radius: 50%;\n",
              "    cursor: pointer;\n",
              "    display: none;\n",
              "    fill: #1967D2;\n",
              "    height: 32px;\n",
              "    padding: 0 0 0 0;\n",
              "    width: 32px;\n",
              "  }\n",
              "\n",
              "  .colab-df-quickchart:hover {\n",
              "    background-color: #E2EBFA;\n",
              "    box-shadow: 0px 1px 2px rgba(60, 64, 67, 0.3), 0px 1px 3px 1px rgba(60, 64, 67, 0.15);\n",
              "    fill: #174EA6;\n",
              "  }\n",
              "\n",
              "  [theme=dark] .colab-df-quickchart {\n",
              "    background-color: #3B4455;\n",
              "    fill: #D2E3FC;\n",
              "  }\n",
              "\n",
              "  [theme=dark] .colab-df-quickchart:hover {\n",
              "    background-color: #434B5C;\n",
              "    box-shadow: 0px 1px 3px 1px rgba(0, 0, 0, 0.15);\n",
              "    filter: drop-shadow(0px 1px 2px rgba(0, 0, 0, 0.3));\n",
              "    fill: #FFFFFF;\n",
              "  }\n",
              "</style>\n",
              "\n",
              "    <script>\n",
              "      async function quickchart(key) {\n",
              "        const containerElement = document.querySelector('#' + key);\n",
              "        const charts = await google.colab.kernel.invokeFunction(\n",
              "            'suggestCharts', [key], {});\n",
              "      }\n",
              "    </script>\n",
              "\n",
              "      <script>\n",
              "\n",
              "function displayQuickchartButton(domScope) {\n",
              "  let quickchartButtonEl =\n",
              "    domScope.querySelector('#df-7db70df3-b401-41ea-83f3-1cb3d085c681 button.colab-df-quickchart');\n",
              "  quickchartButtonEl.style.display =\n",
              "    google.colab.kernel.accessAllowed ? 'block' : 'none';\n",
              "}\n",
              "\n",
              "        displayQuickchartButton(document);\n",
              "      </script>\n",
              "      <style>\n",
              "    .colab-df-container {\n",
              "      display:flex;\n",
              "      flex-wrap:wrap;\n",
              "      gap: 12px;\n",
              "    }\n",
              "\n",
              "    .colab-df-convert {\n",
              "      background-color: #E8F0FE;\n",
              "      border: none;\n",
              "      border-radius: 50%;\n",
              "      cursor: pointer;\n",
              "      display: none;\n",
              "      fill: #1967D2;\n",
              "      height: 32px;\n",
              "      padding: 0 0 0 0;\n",
              "      width: 32px;\n",
              "    }\n",
              "\n",
              "    .colab-df-convert:hover {\n",
              "      background-color: #E2EBFA;\n",
              "      box-shadow: 0px 1px 2px rgba(60, 64, 67, 0.3), 0px 1px 3px 1px rgba(60, 64, 67, 0.15);\n",
              "      fill: #174EA6;\n",
              "    }\n",
              "\n",
              "    [theme=dark] .colab-df-convert {\n",
              "      background-color: #3B4455;\n",
              "      fill: #D2E3FC;\n",
              "    }\n",
              "\n",
              "    [theme=dark] .colab-df-convert:hover {\n",
              "      background-color: #434B5C;\n",
              "      box-shadow: 0px 1px 3px 1px rgba(0, 0, 0, 0.15);\n",
              "      filter: drop-shadow(0px 1px 2px rgba(0, 0, 0, 0.3));\n",
              "      fill: #FFFFFF;\n",
              "    }\n",
              "  </style>\n",
              "\n",
              "      <script>\n",
              "        const buttonEl =\n",
              "          document.querySelector('#df-17b7bce6-53c7-41ca-8b99-241a1cebd2d6 button.colab-df-convert');\n",
              "        buttonEl.style.display =\n",
              "          google.colab.kernel.accessAllowed ? 'block' : 'none';\n",
              "\n",
              "        async function convertToInteractive(key) {\n",
              "          const element = document.querySelector('#df-17b7bce6-53c7-41ca-8b99-241a1cebd2d6');\n",
              "          const dataTable =\n",
              "            await google.colab.kernel.invokeFunction('convertToInteractive',\n",
              "                                                     [key], {});\n",
              "          if (!dataTable) return;\n",
              "\n",
              "          const docLinkHtml = 'Like what you see? Visit the ' +\n",
              "            '<a target=\"_blank\" href=https://colab.research.google.com/notebooks/data_table.ipynb>data table notebook</a>'\n",
              "            + ' to learn more about interactive tables.';\n",
              "          element.innerHTML = '';\n",
              "          dataTable['output_type'] = 'display_data';\n",
              "          await google.colab.output.renderOutput(dataTable, element);\n",
              "          const docLink = document.createElement('div');\n",
              "          docLink.innerHTML = docLinkHtml;\n",
              "          element.appendChild(docLink);\n",
              "        }\n",
              "      </script>\n",
              "    </div>\n",
              "  </div>\n"
            ]
          },
          "metadata": {},
          "execution_count": 35
        }
      ]
    },
    {
      "cell_type": "code",
      "source": [
        "# interpolation of training data using surf_x(0) and surf_y(1)\n",
        "from scipy.interpolate import RegularGridInterpolator\n",
        "import numpy as np\n",
        "import matplotlib.pyplot as plt\n",
        "x = surf_x.iloc[:][0]\n",
        "y = surf_y.iloc[0][:]\n",
        "interp = RegularGridInterpolator((x, y),bed_BedMachine, bounds_error=False, fill_value=None)\n",
        "interpolated_bedmachine_test = interp((track_bed_testing.iloc[0][:], track_bed_testing.iloc[1][:]))\n",
        "interpolated_bedmachine_test"
      ],
      "metadata": {
        "colab": {
          "base_uri": "https://localhost:8080/"
        },
        "id": "r15rCAfE0ZCt",
        "outputId": "9edffa56-35aa-4469-a6a4-24edba492317"
      },
      "execution_count": null,
      "outputs": [
        {
          "output_type": "execute_result",
          "data": {
            "text/plain": [
              "array([379.83523267, 381.43893202, 384.35213714, ..., 161.29288649,\n",
              "       109.32102773, 105.70654046])"
            ]
          },
          "metadata": {},
          "execution_count": 36
        }
      ]
    },
    {
      "cell_type": "code",
      "source": [
        "interpolated_bedmachine_test.shape"
      ],
      "metadata": {
        "colab": {
          "base_uri": "https://localhost:8080/"
        },
        "id": "ZetXtk-h1CGL",
        "outputId": "e71eedf8-ff16-4940-db9d-63cb771a653e"
      },
      "execution_count": null,
      "outputs": [
        {
          "output_type": "execute_result",
          "data": {
            "text/plain": [
              "(235972,)"
            ]
          },
          "metadata": {},
          "execution_count": 37
        }
      ]
    },
    {
      "cell_type": "code",
      "source": [
        "type(interpolated_bedmachine_test)"
      ],
      "metadata": {
        "colab": {
          "base_uri": "https://localhost:8080/"
        },
        "id": "FTBuMeEx1KcT",
        "outputId": "13b15b64-95e6-4401-df02-e4156fab2016"
      },
      "execution_count": null,
      "outputs": [
        {
          "output_type": "execute_result",
          "data": {
            "text/plain": [
              "numpy.ndarray"
            ]
          },
          "metadata": {},
          "execution_count": 38
        }
      ]
    },
    {
      "cell_type": "code",
      "source": [
        "# converting dataframe to numpy array\n",
        "track_bed_testing_arr = track_bed_testing.to_numpy()\n",
        "track_bed_testing_arr"
      ],
      "metadata": {
        "colab": {
          "base_uri": "https://localhost:8080/"
        },
        "id": "zFjcUGCP1ZwG",
        "outputId": "5996bf1b-18cf-4dfe-ac63-aab7446f0516"
      },
      "execution_count": null,
      "outputs": [
        {
          "output_type": "execute_result",
          "data": {
            "text/plain": [
              "array([[-2.20038297e+05, -2.20038406e+05, -2.20038641e+05, ...,\n",
              "        -2.41890906e+05, -2.42055250e+05, -2.42066844e+05],\n",
              "       [-1.69756800e+06, -1.69764162e+06, -1.69778875e+06, ...,\n",
              "        -1.87164550e+06, -1.87139088e+06, -1.87137262e+06],\n",
              "       [ 3.55961426e+02,  3.63570251e+02,  3.78297791e+02, ...,\n",
              "         5.63226440e+02,  9.42814560e+01,  1.00241531e+02]])"
            ]
          },
          "metadata": {},
          "execution_count": 39
        }
      ]
    },
    {
      "cell_type": "code",
      "source": [
        "# numpy array to store the training data with interpolated variables\n",
        "track_bed_testing_T_interpotale = np.zeros((4,track_bed_testing_arr.shape[1]))\n",
        "track_bed_testing_T_interpotale[0:3,:] = track_bed_testing_arr[0:3,:]\n",
        "#track_bed_training_T_interpotale[0,:], track_bed_training.iloc[0], track_bed_training_arr[0,:]\n",
        "track_bed_testing_T_interpotale"
      ],
      "metadata": {
        "colab": {
          "base_uri": "https://localhost:8080/"
        },
        "id": "98MkNLTB1ulb",
        "outputId": "e9c0864a-4e4a-45ab-8051-eee4eb687d95"
      },
      "execution_count": null,
      "outputs": [
        {
          "output_type": "execute_result",
          "data": {
            "text/plain": [
              "array([[-2.20038297e+05, -2.20038406e+05, -2.20038641e+05, ...,\n",
              "        -2.41890906e+05, -2.42055250e+05, -2.42066844e+05],\n",
              "       [-1.69756800e+06, -1.69764162e+06, -1.69778875e+06, ...,\n",
              "        -1.87164550e+06, -1.87139088e+06, -1.87137262e+06],\n",
              "       [ 3.55961426e+02,  3.63570251e+02,  3.78297791e+02, ...,\n",
              "         5.63226440e+02,  9.42814560e+01,  1.00241531e+02],\n",
              "       [ 0.00000000e+00,  0.00000000e+00,  0.00000000e+00, ...,\n",
              "         0.00000000e+00,  0.00000000e+00,  0.00000000e+00]])"
            ]
          },
          "metadata": {},
          "execution_count": 40
        }
      ]
    },
    {
      "cell_type": "code",
      "source": [
        "#track_bed_training_T_interpotale_df = pd.DataFrame(data = interpolated_bedmachine)\n",
        "track_bed_testing_T_interpotale[3,:] = interpolated_bedmachine_test\n",
        "track_bed_testing_T_interpotale_df = pd.DataFrame(data = track_bed_testing_T_interpotale.T, columns = ['track_x', 'track_y', 'target', 'bed_machine'])\n",
        "track_bed_testing_T_interpotale_df"
      ],
      "metadata": {
        "colab": {
          "base_uri": "https://localhost:8080/",
          "height": 419
        },
        "id": "gMEV1qAM3LMl",
        "outputId": "e9c3c2a8-7981-4c50-8c53-adf6674169ef"
      },
      "execution_count": null,
      "outputs": [
        {
          "output_type": "execute_result",
          "data": {
            "text/plain": [
              "              track_x      track_y      target  bed_machine\n",
              "0      -220038.296875 -1697568.000  355.961426   379.835233\n",
              "1      -220038.406250 -1697641.625  363.570251   381.438932\n",
              "2      -220038.640625 -1697788.750  378.297791   384.352137\n",
              "3      -220038.937500 -1697936.125  390.490387   386.982756\n",
              "4      -220039.328125 -1698083.250  391.674225   389.207615\n",
              "...               ...          ...         ...          ...\n",
              "235967 -241867.390625 -1871682.000  564.209717   168.790475\n",
              "235968 -241879.312500 -1871663.750  564.225159   165.027493\n",
              "235969 -241890.906250 -1871645.500  563.226440   161.292886\n",
              "235970 -242055.250000 -1871390.875   94.281456   109.321028\n",
              "235971 -242066.843750 -1871372.625  100.241531   105.706540\n",
              "\n",
              "[235972 rows x 4 columns]"
            ],
            "text/html": [
              "\n",
              "\n",
              "  <div id=\"df-6e8d2b7e-86aa-459e-87fe-44b1cbc71992\">\n",
              "    <div class=\"colab-df-container\">\n",
              "      <div>\n",
              "<style scoped>\n",
              "    .dataframe tbody tr th:only-of-type {\n",
              "        vertical-align: middle;\n",
              "    }\n",
              "\n",
              "    .dataframe tbody tr th {\n",
              "        vertical-align: top;\n",
              "    }\n",
              "\n",
              "    .dataframe thead th {\n",
              "        text-align: right;\n",
              "    }\n",
              "</style>\n",
              "<table border=\"1\" class=\"dataframe\">\n",
              "  <thead>\n",
              "    <tr style=\"text-align: right;\">\n",
              "      <th></th>\n",
              "      <th>track_x</th>\n",
              "      <th>track_y</th>\n",
              "      <th>target</th>\n",
              "      <th>bed_machine</th>\n",
              "    </tr>\n",
              "  </thead>\n",
              "  <tbody>\n",
              "    <tr>\n",
              "      <th>0</th>\n",
              "      <td>-220038.296875</td>\n",
              "      <td>-1697568.000</td>\n",
              "      <td>355.961426</td>\n",
              "      <td>379.835233</td>\n",
              "    </tr>\n",
              "    <tr>\n",
              "      <th>1</th>\n",
              "      <td>-220038.406250</td>\n",
              "      <td>-1697641.625</td>\n",
              "      <td>363.570251</td>\n",
              "      <td>381.438932</td>\n",
              "    </tr>\n",
              "    <tr>\n",
              "      <th>2</th>\n",
              "      <td>-220038.640625</td>\n",
              "      <td>-1697788.750</td>\n",
              "      <td>378.297791</td>\n",
              "      <td>384.352137</td>\n",
              "    </tr>\n",
              "    <tr>\n",
              "      <th>3</th>\n",
              "      <td>-220038.937500</td>\n",
              "      <td>-1697936.125</td>\n",
              "      <td>390.490387</td>\n",
              "      <td>386.982756</td>\n",
              "    </tr>\n",
              "    <tr>\n",
              "      <th>4</th>\n",
              "      <td>-220039.328125</td>\n",
              "      <td>-1698083.250</td>\n",
              "      <td>391.674225</td>\n",
              "      <td>389.207615</td>\n",
              "    </tr>\n",
              "    <tr>\n",
              "      <th>...</th>\n",
              "      <td>...</td>\n",
              "      <td>...</td>\n",
              "      <td>...</td>\n",
              "      <td>...</td>\n",
              "    </tr>\n",
              "    <tr>\n",
              "      <th>235967</th>\n",
              "      <td>-241867.390625</td>\n",
              "      <td>-1871682.000</td>\n",
              "      <td>564.209717</td>\n",
              "      <td>168.790475</td>\n",
              "    </tr>\n",
              "    <tr>\n",
              "      <th>235968</th>\n",
              "      <td>-241879.312500</td>\n",
              "      <td>-1871663.750</td>\n",
              "      <td>564.225159</td>\n",
              "      <td>165.027493</td>\n",
              "    </tr>\n",
              "    <tr>\n",
              "      <th>235969</th>\n",
              "      <td>-241890.906250</td>\n",
              "      <td>-1871645.500</td>\n",
              "      <td>563.226440</td>\n",
              "      <td>161.292886</td>\n",
              "    </tr>\n",
              "    <tr>\n",
              "      <th>235970</th>\n",
              "      <td>-242055.250000</td>\n",
              "      <td>-1871390.875</td>\n",
              "      <td>94.281456</td>\n",
              "      <td>109.321028</td>\n",
              "    </tr>\n",
              "    <tr>\n",
              "      <th>235971</th>\n",
              "      <td>-242066.843750</td>\n",
              "      <td>-1871372.625</td>\n",
              "      <td>100.241531</td>\n",
              "      <td>105.706540</td>\n",
              "    </tr>\n",
              "  </tbody>\n",
              "</table>\n",
              "<p>235972 rows × 4 columns</p>\n",
              "</div>\n",
              "      <button class=\"colab-df-convert\" onclick=\"convertToInteractive('df-6e8d2b7e-86aa-459e-87fe-44b1cbc71992')\"\n",
              "              title=\"Convert this dataframe to an interactive table.\"\n",
              "              style=\"display:none;\">\n",
              "\n",
              "  <svg xmlns=\"http://www.w3.org/2000/svg\" height=\"24px\"viewBox=\"0 0 24 24\"\n",
              "       width=\"24px\">\n",
              "    <path d=\"M0 0h24v24H0V0z\" fill=\"none\"/>\n",
              "    <path d=\"M18.56 5.44l.94 2.06.94-2.06 2.06-.94-2.06-.94-.94-2.06-.94 2.06-2.06.94zm-11 1L8.5 8.5l.94-2.06 2.06-.94-2.06-.94L8.5 2.5l-.94 2.06-2.06.94zm10 10l.94 2.06.94-2.06 2.06-.94-2.06-.94-.94-2.06-.94 2.06-2.06.94z\"/><path d=\"M17.41 7.96l-1.37-1.37c-.4-.4-.92-.59-1.43-.59-.52 0-1.04.2-1.43.59L10.3 9.45l-7.72 7.72c-.78.78-.78 2.05 0 2.83L4 21.41c.39.39.9.59 1.41.59.51 0 1.02-.2 1.41-.59l7.78-7.78 2.81-2.81c.8-.78.8-2.07 0-2.86zM5.41 20L4 18.59l7.72-7.72 1.47 1.35L5.41 20z\"/>\n",
              "  </svg>\n",
              "      </button>\n",
              "\n",
              "\n",
              "\n",
              "    <div id=\"df-91a5accc-4e51-4043-a010-a1be80e56481\">\n",
              "      <button class=\"colab-df-quickchart\" onclick=\"quickchart('df-91a5accc-4e51-4043-a010-a1be80e56481')\"\n",
              "              title=\"Suggest charts.\"\n",
              "              style=\"display:none;\">\n",
              "\n",
              "<svg xmlns=\"http://www.w3.org/2000/svg\" height=\"24px\"viewBox=\"0 0 24 24\"\n",
              "     width=\"24px\">\n",
              "    <g>\n",
              "        <path d=\"M19 3H5c-1.1 0-2 .9-2 2v14c0 1.1.9 2 2 2h14c1.1 0 2-.9 2-2V5c0-1.1-.9-2-2-2zM9 17H7v-7h2v7zm4 0h-2V7h2v10zm4 0h-2v-4h2v4z\"/>\n",
              "    </g>\n",
              "</svg>\n",
              "      </button>\n",
              "    </div>\n",
              "\n",
              "<style>\n",
              "  .colab-df-quickchart {\n",
              "    background-color: #E8F0FE;\n",
              "    border: none;\n",
              "    border-radius: 50%;\n",
              "    cursor: pointer;\n",
              "    display: none;\n",
              "    fill: #1967D2;\n",
              "    height: 32px;\n",
              "    padding: 0 0 0 0;\n",
              "    width: 32px;\n",
              "  }\n",
              "\n",
              "  .colab-df-quickchart:hover {\n",
              "    background-color: #E2EBFA;\n",
              "    box-shadow: 0px 1px 2px rgba(60, 64, 67, 0.3), 0px 1px 3px 1px rgba(60, 64, 67, 0.15);\n",
              "    fill: #174EA6;\n",
              "  }\n",
              "\n",
              "  [theme=dark] .colab-df-quickchart {\n",
              "    background-color: #3B4455;\n",
              "    fill: #D2E3FC;\n",
              "  }\n",
              "\n",
              "  [theme=dark] .colab-df-quickchart:hover {\n",
              "    background-color: #434B5C;\n",
              "    box-shadow: 0px 1px 3px 1px rgba(0, 0, 0, 0.15);\n",
              "    filter: drop-shadow(0px 1px 2px rgba(0, 0, 0, 0.3));\n",
              "    fill: #FFFFFF;\n",
              "  }\n",
              "</style>\n",
              "\n",
              "    <script>\n",
              "      async function quickchart(key) {\n",
              "        const containerElement = document.querySelector('#' + key);\n",
              "        const charts = await google.colab.kernel.invokeFunction(\n",
              "            'suggestCharts', [key], {});\n",
              "      }\n",
              "    </script>\n",
              "\n",
              "      <script>\n",
              "\n",
              "function displayQuickchartButton(domScope) {\n",
              "  let quickchartButtonEl =\n",
              "    domScope.querySelector('#df-91a5accc-4e51-4043-a010-a1be80e56481 button.colab-df-quickchart');\n",
              "  quickchartButtonEl.style.display =\n",
              "    google.colab.kernel.accessAllowed ? 'block' : 'none';\n",
              "}\n",
              "\n",
              "        displayQuickchartButton(document);\n",
              "      </script>\n",
              "      <style>\n",
              "    .colab-df-container {\n",
              "      display:flex;\n",
              "      flex-wrap:wrap;\n",
              "      gap: 12px;\n",
              "    }\n",
              "\n",
              "    .colab-df-convert {\n",
              "      background-color: #E8F0FE;\n",
              "      border: none;\n",
              "      border-radius: 50%;\n",
              "      cursor: pointer;\n",
              "      display: none;\n",
              "      fill: #1967D2;\n",
              "      height: 32px;\n",
              "      padding: 0 0 0 0;\n",
              "      width: 32px;\n",
              "    }\n",
              "\n",
              "    .colab-df-convert:hover {\n",
              "      background-color: #E2EBFA;\n",
              "      box-shadow: 0px 1px 2px rgba(60, 64, 67, 0.3), 0px 1px 3px 1px rgba(60, 64, 67, 0.15);\n",
              "      fill: #174EA6;\n",
              "    }\n",
              "\n",
              "    [theme=dark] .colab-df-convert {\n",
              "      background-color: #3B4455;\n",
              "      fill: #D2E3FC;\n",
              "    }\n",
              "\n",
              "    [theme=dark] .colab-df-convert:hover {\n",
              "      background-color: #434B5C;\n",
              "      box-shadow: 0px 1px 3px 1px rgba(0, 0, 0, 0.15);\n",
              "      filter: drop-shadow(0px 1px 2px rgba(0, 0, 0, 0.3));\n",
              "      fill: #FFFFFF;\n",
              "    }\n",
              "  </style>\n",
              "\n",
              "      <script>\n",
              "        const buttonEl =\n",
              "          document.querySelector('#df-6e8d2b7e-86aa-459e-87fe-44b1cbc71992 button.colab-df-convert');\n",
              "        buttonEl.style.display =\n",
              "          google.colab.kernel.accessAllowed ? 'block' : 'none';\n",
              "\n",
              "        async function convertToInteractive(key) {\n",
              "          const element = document.querySelector('#df-6e8d2b7e-86aa-459e-87fe-44b1cbc71992');\n",
              "          const dataTable =\n",
              "            await google.colab.kernel.invokeFunction('convertToInteractive',\n",
              "                                                     [key], {});\n",
              "          if (!dataTable) return;\n",
              "\n",
              "          const docLinkHtml = 'Like what you see? Visit the ' +\n",
              "            '<a target=\"_blank\" href=https://colab.research.google.com/notebooks/data_table.ipynb>data table notebook</a>'\n",
              "            + ' to learn more about interactive tables.';\n",
              "          element.innerHTML = '';\n",
              "          dataTable['output_type'] = 'display_data';\n",
              "          await google.colab.output.renderOutput(dataTable, element);\n",
              "          const docLink = document.createElement('div');\n",
              "          docLink.innerHTML = docLinkHtml;\n",
              "          element.appendChild(docLink);\n",
              "        }\n",
              "      </script>\n",
              "    </div>\n",
              "  </div>\n"
            ]
          },
          "metadata": {},
          "execution_count": 41
        }
      ]
    },
    {
      "cell_type": "code",
      "source": [
        "## Writing interpolated data in CSV format\n",
        "track_bed_testing_T_interpotale=track_bed_testing_T_interpotale_df.to_csv('track_bed_testing_interpotale.csv', index=False)"
      ],
      "metadata": {
        "id": "a2V9eMhW34h-"
      },
      "execution_count": null,
      "outputs": []
    },
    {
      "cell_type": "code",
      "source": [
        "train='/content/track_bed_training_interpotale.csv'\n",
        "test='/content/track_bed_testing_interpotale.csv'"
      ],
      "metadata": {
        "id": "x4bVPY2V4kc6"
      },
      "execution_count": null,
      "outputs": []
    },
    {
      "cell_type": "code",
      "source": [
        "train = pd.read_csv(train)\n",
        "test = pd.read_csv(test)"
      ],
      "metadata": {
        "id": "BrA2QoOD4tXs"
      },
      "execution_count": null,
      "outputs": []
    },
    {
      "cell_type": "code",
      "source": [
        "data_full_known = pd.concat([train, test])"
      ],
      "metadata": {
        "id": "-xo8M5EU4x_2"
      },
      "execution_count": null,
      "outputs": []
    },
    {
      "cell_type": "code",
      "source": [
        "data_full_known=data_full_known.to_csv('physics_train_test_combined.csv',index=False)"
      ],
      "metadata": {
        "id": "PpcwhN1r4zUk"
      },
      "execution_count": null,
      "outputs": []
    }
  ],
  "metadata": {
    "colab": {
      "provenance": []
    },
    "kernelspec": {
      "display_name": "Python 3",
      "name": "python3"
    },
    "language_info": {
      "name": "python"
    }
  },
  "nbformat": 4,
  "nbformat_minor": 0
}
