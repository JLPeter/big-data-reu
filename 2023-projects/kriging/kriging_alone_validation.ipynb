{
  "nbformat": 4,
  "nbformat_minor": 0,
  "metadata": {
    "colab": {
      "provenance": []
    },
    "kernelspec": {
      "name": "python3",
      "display_name": "Python 3"
    },
    "language_info": {
      "name": "python"
    }
  },
  "cells": [
    {
      "cell_type": "code",
      "execution_count": null,
      "metadata": {
        "colab": {
          "base_uri": "https://localhost:8080/"
        },
        "id": "6KjZdNUrWwq1",
        "outputId": "6d58e32f-414c-42a9-df30-61e3edacd052"
      },
      "outputs": [
        {
          "output_type": "stream",
          "name": "stdout",
          "text": [
            "Drive already mounted at /content/drive; to attempt to forcibly remount, call drive.mount(\"/content/drive\", force_remount=True).\n"
          ]
        }
      ],
      "source": [
        "from google.colab import drive\n",
        "drive.mount('/content/drive')"
      ]
    },
    {
      "cell_type": "code",
      "source": [
        "!pip install pykrige"
      ],
      "metadata": {
        "colab": {
          "base_uri": "https://localhost:8080/"
        },
        "id": "gvZ_QkIMXD_z",
        "outputId": "79bcb603-f00d-4b29-ff67-e4ce9e291630"
      },
      "execution_count": null,
      "outputs": [
        {
          "output_type": "stream",
          "name": "stdout",
          "text": [
            "Collecting pykrige\n",
            "  Downloading PyKrige-1.7.0-cp310-cp310-manylinux_2_17_x86_64.manylinux2014_x86_64.whl (852 kB)\n",
            "\u001b[2K     \u001b[90m━━━━━━━━━━━━━━━━━━━━━━━━━━━━━━━━━━━━━━━\u001b[0m \u001b[32m852.6/852.6 kB\u001b[0m \u001b[31m2.9 MB/s\u001b[0m eta \u001b[36m0:00:00\u001b[0m\n",
            "\u001b[?25hRequirement already satisfied: numpy<2,>=1.14.5 in /usr/local/lib/python3.10/dist-packages (from pykrige) (1.22.4)\n",
            "Requirement already satisfied: scipy<2,>=1.1.0 in /usr/local/lib/python3.10/dist-packages (from pykrige) (1.10.1)\n",
            "Installing collected packages: pykrige\n",
            "Successfully installed pykrige-1.7.0\n"
          ]
        }
      ]
    },
    {
      "cell_type": "code",
      "source": [
        "import pandas as pd\n",
        "import numpy as np\n",
        "import matplotlib.pyplot as plt"
      ],
      "metadata": {
        "id": "peDfrZvvXtM6"
      },
      "execution_count": null,
      "outputs": []
    },
    {
      "cell_type": "code",
      "source": [
        "df_merged = pd.read_csv('/content/drive/MyDrive/Predicted and preprocessed data sets /training_test_combined_vmag_ky_230710.csv')\n",
        "df_kout = pd.read_csv('/content/drive/MyDrive/Predicted and preprocessed data sets /angelina_kriging_angle_residual_reconstruct_prediction.csv')\n",
        "df_kout.head()\n",
        "\n",
        "df_k1201 = pd.read_csv('/content/drive/MyDrive/REU 2023 Team 1: Ice Bed Topography Prediction/Research/Predicted and preprocessed data sets /angelina-kriging-1201-merged.csv')\n",
        "df_k1201.head()"
      ],
      "metadata": {
        "id": "KU61TubhXlWv",
        "colab": {
          "base_uri": "https://localhost:8080/",
          "height": 206
        },
        "outputId": "0b72e69b-0b2e-4c63-bb0c-43c7f5ba47b2"
      },
      "execution_count": null,
      "outputs": [
        {
          "output_type": "execute_result",
          "data": {
            "text/plain": [
              "   Unnamed: 0.1  Unnamed: 0    surf_x     surf_y     surf_vx   surf_vy  \\\n",
              "0             0           0 -278075.0 -1697525.0 -117.986570  8.049935   \n",
              "1             1           1 -278075.0 -1697675.0 -118.086580  8.429934   \n",
              "2             2           2 -278075.0 -1697825.0 -118.103740  8.865048   \n",
              "3             3           3 -278075.0 -1697975.0 -118.038060  9.355281   \n",
              "4             4           4 -278075.0 -1698125.0 -117.793236  9.596583   \n",
              "\n",
              "    surf_elv  surf_dhdt  surf_SMB  krigingOut  \n",
              "0  1348.6687  -0.362801  0.102309 -425.140613  \n",
              "1  1347.2958  -0.363170  0.100127 -901.902944  \n",
              "2  1346.9690  -0.363538  0.098367   86.978483  \n",
              "3  1346.1609  -0.363907  0.096918 -653.937724  \n",
              "4  1345.8989  -0.364276  0.095606 -677.458092  "
            ],
            "text/html": [
              "\n",
              "\n",
              "  <div id=\"df-ae81169c-c972-46f0-abd5-57db9b498110\">\n",
              "    <div class=\"colab-df-container\">\n",
              "      <div>\n",
              "<style scoped>\n",
              "    .dataframe tbody tr th:only-of-type {\n",
              "        vertical-align: middle;\n",
              "    }\n",
              "\n",
              "    .dataframe tbody tr th {\n",
              "        vertical-align: top;\n",
              "    }\n",
              "\n",
              "    .dataframe thead th {\n",
              "        text-align: right;\n",
              "    }\n",
              "</style>\n",
              "<table border=\"1\" class=\"dataframe\">\n",
              "  <thead>\n",
              "    <tr style=\"text-align: right;\">\n",
              "      <th></th>\n",
              "      <th>Unnamed: 0.1</th>\n",
              "      <th>Unnamed: 0</th>\n",
              "      <th>surf_x</th>\n",
              "      <th>surf_y</th>\n",
              "      <th>surf_vx</th>\n",
              "      <th>surf_vy</th>\n",
              "      <th>surf_elv</th>\n",
              "      <th>surf_dhdt</th>\n",
              "      <th>surf_SMB</th>\n",
              "      <th>krigingOut</th>\n",
              "    </tr>\n",
              "  </thead>\n",
              "  <tbody>\n",
              "    <tr>\n",
              "      <th>0</th>\n",
              "      <td>0</td>\n",
              "      <td>0</td>\n",
              "      <td>-278075.0</td>\n",
              "      <td>-1697525.0</td>\n",
              "      <td>-117.986570</td>\n",
              "      <td>8.049935</td>\n",
              "      <td>1348.6687</td>\n",
              "      <td>-0.362801</td>\n",
              "      <td>0.102309</td>\n",
              "      <td>-425.140613</td>\n",
              "    </tr>\n",
              "    <tr>\n",
              "      <th>1</th>\n",
              "      <td>1</td>\n",
              "      <td>1</td>\n",
              "      <td>-278075.0</td>\n",
              "      <td>-1697675.0</td>\n",
              "      <td>-118.086580</td>\n",
              "      <td>8.429934</td>\n",
              "      <td>1347.2958</td>\n",
              "      <td>-0.363170</td>\n",
              "      <td>0.100127</td>\n",
              "      <td>-901.902944</td>\n",
              "    </tr>\n",
              "    <tr>\n",
              "      <th>2</th>\n",
              "      <td>2</td>\n",
              "      <td>2</td>\n",
              "      <td>-278075.0</td>\n",
              "      <td>-1697825.0</td>\n",
              "      <td>-118.103740</td>\n",
              "      <td>8.865048</td>\n",
              "      <td>1346.9690</td>\n",
              "      <td>-0.363538</td>\n",
              "      <td>0.098367</td>\n",
              "      <td>86.978483</td>\n",
              "    </tr>\n",
              "    <tr>\n",
              "      <th>3</th>\n",
              "      <td>3</td>\n",
              "      <td>3</td>\n",
              "      <td>-278075.0</td>\n",
              "      <td>-1697975.0</td>\n",
              "      <td>-118.038060</td>\n",
              "      <td>9.355281</td>\n",
              "      <td>1346.1609</td>\n",
              "      <td>-0.363907</td>\n",
              "      <td>0.096918</td>\n",
              "      <td>-653.937724</td>\n",
              "    </tr>\n",
              "    <tr>\n",
              "      <th>4</th>\n",
              "      <td>4</td>\n",
              "      <td>4</td>\n",
              "      <td>-278075.0</td>\n",
              "      <td>-1698125.0</td>\n",
              "      <td>-117.793236</td>\n",
              "      <td>9.596583</td>\n",
              "      <td>1345.8989</td>\n",
              "      <td>-0.364276</td>\n",
              "      <td>0.095606</td>\n",
              "      <td>-677.458092</td>\n",
              "    </tr>\n",
              "  </tbody>\n",
              "</table>\n",
              "</div>\n",
              "      <button class=\"colab-df-convert\" onclick=\"convertToInteractive('df-ae81169c-c972-46f0-abd5-57db9b498110')\"\n",
              "              title=\"Convert this dataframe to an interactive table.\"\n",
              "              style=\"display:none;\">\n",
              "\n",
              "  <svg xmlns=\"http://www.w3.org/2000/svg\" height=\"24px\"viewBox=\"0 0 24 24\"\n",
              "       width=\"24px\">\n",
              "    <path d=\"M0 0h24v24H0V0z\" fill=\"none\"/>\n",
              "    <path d=\"M18.56 5.44l.94 2.06.94-2.06 2.06-.94-2.06-.94-.94-2.06-.94 2.06-2.06.94zm-11 1L8.5 8.5l.94-2.06 2.06-.94-2.06-.94L8.5 2.5l-.94 2.06-2.06.94zm10 10l.94 2.06.94-2.06 2.06-.94-2.06-.94-.94-2.06-.94 2.06-2.06.94z\"/><path d=\"M17.41 7.96l-1.37-1.37c-.4-.4-.92-.59-1.43-.59-.52 0-1.04.2-1.43.59L10.3 9.45l-7.72 7.72c-.78.78-.78 2.05 0 2.83L4 21.41c.39.39.9.59 1.41.59.51 0 1.02-.2 1.41-.59l7.78-7.78 2.81-2.81c.8-.78.8-2.07 0-2.86zM5.41 20L4 18.59l7.72-7.72 1.47 1.35L5.41 20z\"/>\n",
              "  </svg>\n",
              "      </button>\n",
              "\n",
              "\n",
              "\n",
              "    <div id=\"df-01289701-ca02-4dd7-b2b5-6d1e18c8848b\">\n",
              "      <button class=\"colab-df-quickchart\" onclick=\"quickchart('df-01289701-ca02-4dd7-b2b5-6d1e18c8848b')\"\n",
              "              title=\"Suggest charts.\"\n",
              "              style=\"display:none;\">\n",
              "\n",
              "<svg xmlns=\"http://www.w3.org/2000/svg\" height=\"24px\"viewBox=\"0 0 24 24\"\n",
              "     width=\"24px\">\n",
              "    <g>\n",
              "        <path d=\"M19 3H5c-1.1 0-2 .9-2 2v14c0 1.1.9 2 2 2h14c1.1 0 2-.9 2-2V5c0-1.1-.9-2-2-2zM9 17H7v-7h2v7zm4 0h-2V7h2v10zm4 0h-2v-4h2v4z\"/>\n",
              "    </g>\n",
              "</svg>\n",
              "      </button>\n",
              "    </div>\n",
              "\n",
              "<style>\n",
              "  .colab-df-quickchart {\n",
              "    background-color: #E8F0FE;\n",
              "    border: none;\n",
              "    border-radius: 50%;\n",
              "    cursor: pointer;\n",
              "    display: none;\n",
              "    fill: #1967D2;\n",
              "    height: 32px;\n",
              "    padding: 0 0 0 0;\n",
              "    width: 32px;\n",
              "  }\n",
              "\n",
              "  .colab-df-quickchart:hover {\n",
              "    background-color: #E2EBFA;\n",
              "    box-shadow: 0px 1px 2px rgba(60, 64, 67, 0.3), 0px 1px 3px 1px rgba(60, 64, 67, 0.15);\n",
              "    fill: #174EA6;\n",
              "  }\n",
              "\n",
              "  [theme=dark] .colab-df-quickchart {\n",
              "    background-color: #3B4455;\n",
              "    fill: #D2E3FC;\n",
              "  }\n",
              "\n",
              "  [theme=dark] .colab-df-quickchart:hover {\n",
              "    background-color: #434B5C;\n",
              "    box-shadow: 0px 1px 3px 1px rgba(0, 0, 0, 0.15);\n",
              "    filter: drop-shadow(0px 1px 2px rgba(0, 0, 0, 0.3));\n",
              "    fill: #FFFFFF;\n",
              "  }\n",
              "</style>\n",
              "\n",
              "    <script>\n",
              "      async function quickchart(key) {\n",
              "        const containerElement = document.querySelector('#' + key);\n",
              "        const charts = await google.colab.kernel.invokeFunction(\n",
              "            'suggestCharts', [key], {});\n",
              "      }\n",
              "    </script>\n",
              "\n",
              "      <script>\n",
              "\n",
              "function displayQuickchartButton(domScope) {\n",
              "  let quickchartButtonEl =\n",
              "    domScope.querySelector('#df-01289701-ca02-4dd7-b2b5-6d1e18c8848b button.colab-df-quickchart');\n",
              "  quickchartButtonEl.style.display =\n",
              "    google.colab.kernel.accessAllowed ? 'block' : 'none';\n",
              "}\n",
              "\n",
              "        displayQuickchartButton(document);\n",
              "      </script>\n",
              "      <style>\n",
              "    .colab-df-container {\n",
              "      display:flex;\n",
              "      flex-wrap:wrap;\n",
              "      gap: 12px;\n",
              "    }\n",
              "\n",
              "    .colab-df-convert {\n",
              "      background-color: #E8F0FE;\n",
              "      border: none;\n",
              "      border-radius: 50%;\n",
              "      cursor: pointer;\n",
              "      display: none;\n",
              "      fill: #1967D2;\n",
              "      height: 32px;\n",
              "      padding: 0 0 0 0;\n",
              "      width: 32px;\n",
              "    }\n",
              "\n",
              "    .colab-df-convert:hover {\n",
              "      background-color: #E2EBFA;\n",
              "      box-shadow: 0px 1px 2px rgba(60, 64, 67, 0.3), 0px 1px 3px 1px rgba(60, 64, 67, 0.15);\n",
              "      fill: #174EA6;\n",
              "    }\n",
              "\n",
              "    [theme=dark] .colab-df-convert {\n",
              "      background-color: #3B4455;\n",
              "      fill: #D2E3FC;\n",
              "    }\n",
              "\n",
              "    [theme=dark] .colab-df-convert:hover {\n",
              "      background-color: #434B5C;\n",
              "      box-shadow: 0px 1px 3px 1px rgba(0, 0, 0, 0.15);\n",
              "      filter: drop-shadow(0px 1px 2px rgba(0, 0, 0, 0.3));\n",
              "      fill: #FFFFFF;\n",
              "    }\n",
              "  </style>\n",
              "\n",
              "      <script>\n",
              "        const buttonEl =\n",
              "          document.querySelector('#df-ae81169c-c972-46f0-abd5-57db9b498110 button.colab-df-convert');\n",
              "        buttonEl.style.display =\n",
              "          google.colab.kernel.accessAllowed ? 'block' : 'none';\n",
              "\n",
              "        async function convertToInteractive(key) {\n",
              "          const element = document.querySelector('#df-ae81169c-c972-46f0-abd5-57db9b498110');\n",
              "          const dataTable =\n",
              "            await google.colab.kernel.invokeFunction('convertToInteractive',\n",
              "                                                     [key], {});\n",
              "          if (!dataTable) return;\n",
              "\n",
              "          const docLinkHtml = 'Like what you see? Visit the ' +\n",
              "            '<a target=\"_blank\" href=https://colab.research.google.com/notebooks/data_table.ipynb>data table notebook</a>'\n",
              "            + ' to learn more about interactive tables.';\n",
              "          element.innerHTML = '';\n",
              "          dataTable['output_type'] = 'display_data';\n",
              "          await google.colab.output.renderOutput(dataTable, element);\n",
              "          const docLink = document.createElement('div');\n",
              "          docLink.innerHTML = docLinkHtml;\n",
              "          element.appendChild(docLink);\n",
              "        }\n",
              "      </script>\n",
              "    </div>\n",
              "  </div>\n"
            ]
          },
          "metadata": {},
          "execution_count": 13
        }
      ]
    },
    {
      "cell_type": "code",
      "source": [
        "\n",
        "# Plot the histogram\n",
        "plt.figure(figsize=(8, 6))  # Optional: Set the figure size\n",
        "plt.hist(df_merged['track_bed_target'], bins=500, edgecolor='black', color='skyblue')  # bins: number of bins in the histogram\n",
        "plt.xlabel('Track bed target value')\n",
        "plt.ylabel('Frequency')\n",
        "plt.title('Histogram of target (ice bed height) from train+test combined')\n",
        "plt.grid(True)  # Optional: Add grid lines\n",
        "plt.show()\n"
      ],
      "metadata": {
        "colab": {
          "base_uri": "https://localhost:8080/",
          "height": 564
        },
        "id": "amtnmQFvXoK_",
        "outputId": "f1566269-eba5-4bb3-ca43-bc1391234579"
      },
      "execution_count": null,
      "outputs": [
        {
          "output_type": "display_data",
          "data": {
            "text/plain": [
              "<Figure size 800x600 with 1 Axes>"
            ],
            "image/png": "[encoded data removed]"
          },
          "metadata": {}
        }
      ]
    },
    {
      "cell_type": "code",
      "source": [
        "def rmspe(y_true, y_pred):\n",
        "    return np.sqrt(np.nanmean(np.square(((y_true - y_pred) / y_true))))*100\n",
        "def rmspe_1(y_true, y_pred):\n",
        "    return np.sqrt(np.nanmean(np.square(y_true - y_pred) / y_true))*100\n",
        "#metrics\n",
        "from sklearn.metrics import mean_squared_error\n",
        "from sklearn.model_selection import cross_val_score\n",
        "from sklearn.metrics import accuracy_score\n",
        "# from sklearn.metrics import roc_auc_score\n",
        "from sklearn.metrics import mean_squared_error, mean_absolute_error, mean_absolute_percentage_error, r2_score\n"
      ],
      "metadata": {
        "id": "C-X9AUZjKzkh"
      },
      "execution_count": null,
      "outputs": []
    },
    {
      "cell_type": "markdown",
      "source": [
        "# Get validation statistics for kriging"
      ],
      "metadata": {
        "id": "U2bBsG--_mDM"
      }
    },
    {
      "cell_type": "code",
      "source": [
        "df_kout = df_kout.dropna()"
      ],
      "metadata": {
        "id": "T5uI6HdlL1At"
      },
      "execution_count": null,
      "outputs": []
    },
    {
      "cell_type": "code",
      "source": [
        "\n",
        "#LOSSES\n",
        "print('RMSE:',np.sqrt(mean_squared_error(df_kout['track_bed_target'], df_kout['track_bed_target_kriging_prediction'])))\n",
        "print('RMSE Percentage:',rmspe(df_kout['track_bed_target'], df_kout['track_bed_target_kriging_prediction']))\n",
        "print('Mean Absolute Error:', mean_absolute_error(df_kout['track_bed_target'], df_kout['track_bed_target_kriging_prediction']))\n",
        "print('Mean Absolute Percentage Error:', mean_absolute_percentage_error(df_kout['track_bed_target'], df_kout['track_bed_target_kriging_prediction']))\n",
        "print('R^2 Score:', r2_score(df_kout['track_bed_target'], df_kout['track_bed_target_kriging_prediction']))"
      ],
      "metadata": {
        "id": "anxuRus0_kmC",
        "colab": {
          "base_uri": "https://localhost:8080/"
        },
        "outputId": "6020e8f4-6dd6-4aea-ba08-1340b6094f8f"
      },
      "execution_count": null,
      "outputs": [
        {
          "output_type": "stream",
          "name": "stdout",
          "text": [
            "RMSE: 190.45231760742337\n",
            "RMSE Percentage: 1373.2065883908533\n",
            "Mean Absolute Error: 7.840512898012666\n",
            "Mean Absolute Percentage Error: 0.11201866177949667\n",
            "R^2 Score: -0.11233624799714614\n"
          ]
        }
      ]
    },
    {
      "cell_type": "markdown",
      "source": [
        "# Plot 1201x1201 output"
      ],
      "metadata": {
        "id": "mRHHMxASTm8p"
      }
    },
    {
      "cell_type": "code",
      "source": [
        "def plotHeatMap(x, y, target_Var):\n",
        "    plt.figure(figsize=(30, 30))\n",
        "    plt.scatter(x, y, c=target_Var, cmap='viridis', s=1)\n",
        "    plt.colorbar()\n",
        "    plt.xlabel('X')\n",
        "    plt.ylabel('Y')\n",
        "    plt.title('Kriging residuals heatmap')\n",
        "    plt.show()"
      ],
      "metadata": {
        "id": "77zCBDpdTqij"
      },
      "execution_count": null,
      "outputs": []
    },
    {
      "cell_type": "code",
      "source": [
        "prediction_on_1201_2D = np.array(df_k1201['krigingOut']).reshape(1201,1201)\n",
        "prediction_on_1201_2D.shape"
      ],
      "metadata": {
        "colab": {
          "base_uri": "https://localhost:8080/",
          "height": 183
        },
        "id": "uWQRGx5vVDIG",
        "outputId": "db9b0772-3720-4797-c6a3-d7e7a4c9169d"
      },
      "execution_count": null,
      "outputs": [
        {
          "output_type": "error",
          "ename": "ValueError",
          "evalue": "ignored",
          "traceback": [
            "\u001b[0;31m---------------------------------------------------------------------------\u001b[0m",
            "\u001b[0;31mValueError\u001b[0m                                Traceback (most recent call last)",
            "\u001b[0;32m<ipython-input-19-578e1378b1ee>\u001b[0m in \u001b[0;36m<cell line: 1>\u001b[0;34m()\u001b[0m\n\u001b[0;32m----> 1\u001b[0;31m \u001b[0mprediction_on_1201_2D\u001b[0m \u001b[0;34m=\u001b[0m \u001b[0mnp\u001b[0m\u001b[0;34m.\u001b[0m\u001b[0marray\u001b[0m\u001b[0;34m(\u001b[0m\u001b[0mdf_k1201\u001b[0m\u001b[0;34m[\u001b[0m\u001b[0;34m'krigingOut'\u001b[0m\u001b[0;34m]\u001b[0m\u001b[0;34m)\u001b[0m\u001b[0;34m.\u001b[0m\u001b[0mreshape\u001b[0m\u001b[0;34m(\u001b[0m\u001b[0;36m1201\u001b[0m\u001b[0;34m,\u001b[0m\u001b[0;36m1201\u001b[0m\u001b[0;34m)\u001b[0m\u001b[0;34m\u001b[0m\u001b[0;34m\u001b[0m\u001b[0m\n\u001b[0m\u001b[1;32m      2\u001b[0m \u001b[0mprediction_on_1201_2D\u001b[0m\u001b[0;34m.\u001b[0m\u001b[0mshape\u001b[0m\u001b[0;34m\u001b[0m\u001b[0;34m\u001b[0m\u001b[0m\n",
            "\u001b[0;31mValueError\u001b[0m: cannot reshape array of size 1367401 into shape (1201,1201)"
          ]
        }
      ]
    }
  ]
}